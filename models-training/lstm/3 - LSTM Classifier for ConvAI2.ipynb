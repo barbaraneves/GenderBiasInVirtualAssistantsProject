{
 "cells": [
  {
   "cell_type": "markdown",
   "metadata": {
    "id": "SozXcvfsP6PY"
   },
   "source": [
    "# *Gender Bias in Virtual Assistants Project*\n",
    "\n",
    "### Identificando Preconceitos de Gênero em Assistentes Virtuais\n",
    "\n",
    "![From Google](https://media-assets-01.thedrum.com/cache/images/thedrum-prod/s3-news-tmp-145694-untitled_design_70--default--1280.png)\n",
    "\n",
    "### Equipe formada por\n",
    "- Bárbara Stéphanie Neves Oliveira, 507526\n",
    "- Lucas Benjamim Cunha Bandeira, 507533\n",
    "- Samir Braga Chaves, 513788\n",
    "- Vinicius Bernardo Gabriel, 475210"
   ]
  },
  {
   "cell_type": "markdown",
   "metadata": {
    "id": "NbuBHn0rP82e"
   },
   "source": [
    "# LSTM *Classifier for MDGender Dataset*\n",
    "\n",
    "<center>\n",
    "  <img width=\"600\" src=\"https://drive.google.com/uc?id=11KlguWCUIDUzA8bN5dtzzab4tiY_2pz4\"/>\n",
    "</center>\n",
    "\n",
    "---\n",
    "\n",
    "### Classificação Multiclasse\n",
    "\n",
    "<center>\n",
    "  <img width=\"400\" src=\"https://lena-voita.github.io/resources/lectures/text_clf/intro/example_document-min.png\"/>\n",
    "</center>"
   ]
  },
  {
   "cell_type": "markdown",
   "metadata": {},
   "source": [
    "# Warning\n",
    "\n",
    "**Para reproducibilidade, a execução deste *script* deve ser feita pelo Google Colab para uso da TPU.**\n",
    "\n",
    "**Caso não queira, sugerimos comentar no módulo `model.py` toda a configuração da TPU.**\n",
    "\n",
    "**Também é necessário realizar o [*download*](https://dl.fbaipublicfiles.com/fasttext/vectors-english/wiki-news-300d-1M.vec.zip) das *word embeddings* pré-treinadas do *FastText* disponíveis no [*link*](https://fasttext.cc/docs/en/english-vectors.html).**"
   ]
  },
  {
   "cell_type": "markdown",
   "metadata": {
    "id": "y-wxU4YBQCEb"
   },
   "source": [
    "# Imports"
   ]
  },
  {
   "cell_type": "code",
   "execution_count": null,
   "metadata": {
    "colab": {
     "base_uri": "https://localhost:8080/"
    },
    "executionInfo": {
     "elapsed": 3380,
     "status": "ok",
     "timestamp": 1629249426035,
     "user": {
      "displayName": "LUCAS BENJAMIM CUNHA BANDEIRA UFC",
      "photoUrl": "https://lh3.googleusercontent.com/a-/AOh14Gitg2pFKedQaZMqkN2q0suh3CAMwpaJy1ZHvn0N=s64",
      "userId": "01631264128707411900"
     },
     "user_tz": 180
    },
    "id": "wf2G4e3JOyg2",
    "outputId": "202f90c0-3b94-4b69-9743-0d5684d7781f"
   },
   "outputs": [
    {
     "name": "stderr",
     "output_type": "stream",
     "text": [
      "/usr/local/lib/python3.7/dist-packages/tensorflow_addons/utils/ensure_tf_install.py:67: UserWarning: Tensorflow Addons supports using Python ops for all Tensorflow versions above or equal to 2.3.0 and strictly below 2.6.0 (nightly versions are not supported). \n",
      " The versions of TensorFlow you are currently using is 2.6.0 and is not supported. \n",
      "Some things might work, some things might not.\n",
      "If you were to encounter a bug, do not file an issue.\n",
      "If you want to make sure you're using a tested and supported configuration, either change the TensorFlow version or the TensorFlow Addons's version. \n",
      "You can find the compatibility matrix in TensorFlow Addon's readme:\n",
      "https://github.com/tensorflow/addons\n",
      "  UserWarning,\n"
     ]
    }
   ],
   "source": [
    "import ast\n",
    "import numpy as np\n",
    "import pandas as pd\n",
    "import matplotlib.pyplot as plt\n",
    "\n",
    "from tqdm import tqdm_notebook\n",
    "import tensorflow as tf\n",
    "from tensorflow.keras.metrics import AUC\n",
    "from tensorflow_addons.metrics import F1Score\n",
    "\n",
    "from sklearn.metrics import classification_report\n",
    "\n",
    "BASE_PATH = '...'\n",
    "DATASETS_PATH = BASE_PATH + \"/resources/datasets\""
   ]
  },
  {
   "cell_type": "code",
   "execution_count": null,
   "metadata": {
    "colab": {
     "base_uri": "https://localhost:8080/"
    },
    "executionInfo": {
     "elapsed": 63485,
     "status": "ok",
     "timestamp": 1629249489495,
     "user": {
      "displayName": "LUCAS BENJAMIM CUNHA BANDEIRA UFC",
      "photoUrl": "https://lh3.googleusercontent.com/a-/AOh14Gitg2pFKedQaZMqkN2q0suh3CAMwpaJy1ZHvn0N=s64",
      "userId": "01631264128707411900"
     },
     "user_tz": 180
    },
    "id": "85Z9pER-RHKf",
    "outputId": "8c769d89-5967-4719-d0c0-1bd5316c68e2"
   },
   "outputs": [
    {
     "name": "stderr",
     "output_type": "stream",
     "text": [
      "INFO:absl:Entering into master device scope: /job:worker/replica:0/task:0/device:CPU:0\n"
     ]
    },
    {
     "name": "stdout",
     "output_type": "stream",
     "text": [
      "INFO:tensorflow:Clearing out eager caches\n"
     ]
    },
    {
     "name": "stderr",
     "output_type": "stream",
     "text": [
      "INFO:tensorflow:Clearing out eager caches\n"
     ]
    },
    {
     "name": "stdout",
     "output_type": "stream",
     "text": [
      "INFO:tensorflow:Initializing the TPU system: grpc://10.66.209.106:8470\n"
     ]
    },
    {
     "name": "stderr",
     "output_type": "stream",
     "text": [
      "INFO:tensorflow:Initializing the TPU system: grpc://10.66.209.106:8470\n"
     ]
    },
    {
     "name": "stdout",
     "output_type": "stream",
     "text": [
      "INFO:tensorflow:Finished initializing TPU system.\n"
     ]
    },
    {
     "name": "stderr",
     "output_type": "stream",
     "text": [
      "INFO:tensorflow:Finished initializing TPU system.\n",
      "WARNING:absl:`tf.distribute.experimental.TPUStrategy` is deprecated, please use  the non experimental symbol `tf.distribute.TPUStrategy` instead.\n"
     ]
    },
    {
     "name": "stdout",
     "output_type": "stream",
     "text": [
      "INFO:tensorflow:Found TPU system:\n"
     ]
    },
    {
     "name": "stderr",
     "output_type": "stream",
     "text": [
      "INFO:tensorflow:Found TPU system:\n"
     ]
    },
    {
     "name": "stdout",
     "output_type": "stream",
     "text": [
      "INFO:tensorflow:*** Num TPU Cores: 8\n"
     ]
    },
    {
     "name": "stderr",
     "output_type": "stream",
     "text": [
      "INFO:tensorflow:*** Num TPU Cores: 8\n"
     ]
    },
    {
     "name": "stdout",
     "output_type": "stream",
     "text": [
      "INFO:tensorflow:*** Num TPU Workers: 1\n"
     ]
    },
    {
     "name": "stderr",
     "output_type": "stream",
     "text": [
      "INFO:tensorflow:*** Num TPU Workers: 1\n"
     ]
    },
    {
     "name": "stdout",
     "output_type": "stream",
     "text": [
      "INFO:tensorflow:*** Num TPU Cores Per Worker: 8\n"
     ]
    },
    {
     "name": "stderr",
     "output_type": "stream",
     "text": [
      "INFO:tensorflow:*** Num TPU Cores Per Worker: 8\n"
     ]
    },
    {
     "name": "stdout",
     "output_type": "stream",
     "text": [
      "INFO:tensorflow:*** Available Device: _DeviceAttributes(/job:localhost/replica:0/task:0/device:CPU:0, CPU, 0, 0)\n"
     ]
    },
    {
     "name": "stderr",
     "output_type": "stream",
     "text": [
      "INFO:tensorflow:*** Available Device: _DeviceAttributes(/job:localhost/replica:0/task:0/device:CPU:0, CPU, 0, 0)\n"
     ]
    },
    {
     "name": "stdout",
     "output_type": "stream",
     "text": [
      "INFO:tensorflow:*** Available Device: _DeviceAttributes(/job:worker/replica:0/task:0/device:CPU:0, CPU, 0, 0)\n"
     ]
    },
    {
     "name": "stderr",
     "output_type": "stream",
     "text": [
      "INFO:tensorflow:*** Available Device: _DeviceAttributes(/job:worker/replica:0/task:0/device:CPU:0, CPU, 0, 0)\n"
     ]
    },
    {
     "name": "stdout",
     "output_type": "stream",
     "text": [
      "INFO:tensorflow:*** Available Device: _DeviceAttributes(/job:worker/replica:0/task:0/device:TPU:0, TPU, 0, 0)\n"
     ]
    },
    {
     "name": "stderr",
     "output_type": "stream",
     "text": [
      "INFO:tensorflow:*** Available Device: _DeviceAttributes(/job:worker/replica:0/task:0/device:TPU:0, TPU, 0, 0)\n"
     ]
    },
    {
     "name": "stdout",
     "output_type": "stream",
     "text": [
      "INFO:tensorflow:*** Available Device: _DeviceAttributes(/job:worker/replica:0/task:0/device:TPU:1, TPU, 0, 0)\n"
     ]
    },
    {
     "name": "stderr",
     "output_type": "stream",
     "text": [
      "INFO:tensorflow:*** Available Device: _DeviceAttributes(/job:worker/replica:0/task:0/device:TPU:1, TPU, 0, 0)\n"
     ]
    },
    {
     "name": "stdout",
     "output_type": "stream",
     "text": [
      "INFO:tensorflow:*** Available Device: _DeviceAttributes(/job:worker/replica:0/task:0/device:TPU:2, TPU, 0, 0)\n"
     ]
    },
    {
     "name": "stderr",
     "output_type": "stream",
     "text": [
      "INFO:tensorflow:*** Available Device: _DeviceAttributes(/job:worker/replica:0/task:0/device:TPU:2, TPU, 0, 0)\n"
     ]
    },
    {
     "name": "stdout",
     "output_type": "stream",
     "text": [
      "INFO:tensorflow:*** Available Device: _DeviceAttributes(/job:worker/replica:0/task:0/device:TPU:3, TPU, 0, 0)\n"
     ]
    },
    {
     "name": "stderr",
     "output_type": "stream",
     "text": [
      "INFO:tensorflow:*** Available Device: _DeviceAttributes(/job:worker/replica:0/task:0/device:TPU:3, TPU, 0, 0)\n"
     ]
    },
    {
     "name": "stdout",
     "output_type": "stream",
     "text": [
      "INFO:tensorflow:*** Available Device: _DeviceAttributes(/job:worker/replica:0/task:0/device:TPU:4, TPU, 0, 0)\n"
     ]
    },
    {
     "name": "stderr",
     "output_type": "stream",
     "text": [
      "INFO:tensorflow:*** Available Device: _DeviceAttributes(/job:worker/replica:0/task:0/device:TPU:4, TPU, 0, 0)\n"
     ]
    },
    {
     "name": "stdout",
     "output_type": "stream",
     "text": [
      "INFO:tensorflow:*** Available Device: _DeviceAttributes(/job:worker/replica:0/task:0/device:TPU:5, TPU, 0, 0)\n"
     ]
    },
    {
     "name": "stderr",
     "output_type": "stream",
     "text": [
      "INFO:tensorflow:*** Available Device: _DeviceAttributes(/job:worker/replica:0/task:0/device:TPU:5, TPU, 0, 0)\n"
     ]
    },
    {
     "name": "stdout",
     "output_type": "stream",
     "text": [
      "INFO:tensorflow:*** Available Device: _DeviceAttributes(/job:worker/replica:0/task:0/device:TPU:6, TPU, 0, 0)\n"
     ]
    },
    {
     "name": "stderr",
     "output_type": "stream",
     "text": [
      "INFO:tensorflow:*** Available Device: _DeviceAttributes(/job:worker/replica:0/task:0/device:TPU:6, TPU, 0, 0)\n"
     ]
    },
    {
     "name": "stdout",
     "output_type": "stream",
     "text": [
      "INFO:tensorflow:*** Available Device: _DeviceAttributes(/job:worker/replica:0/task:0/device:TPU:7, TPU, 0, 0)\n"
     ]
    },
    {
     "name": "stderr",
     "output_type": "stream",
     "text": [
      "INFO:tensorflow:*** Available Device: _DeviceAttributes(/job:worker/replica:0/task:0/device:TPU:7, TPU, 0, 0)\n"
     ]
    },
    {
     "name": "stdout",
     "output_type": "stream",
     "text": [
      "INFO:tensorflow:*** Available Device: _DeviceAttributes(/job:worker/replica:0/task:0/device:TPU_SYSTEM:0, TPU_SYSTEM, 0, 0)\n"
     ]
    },
    {
     "name": "stderr",
     "output_type": "stream",
     "text": [
      "INFO:tensorflow:*** Available Device: _DeviceAttributes(/job:worker/replica:0/task:0/device:TPU_SYSTEM:0, TPU_SYSTEM, 0, 0)\n"
     ]
    },
    {
     "name": "stdout",
     "output_type": "stream",
     "text": [
      "INFO:tensorflow:*** Available Device: _DeviceAttributes(/job:worker/replica:0/task:0/device:XLA_CPU:0, XLA_CPU, 0, 0)\n"
     ]
    },
    {
     "name": "stderr",
     "output_type": "stream",
     "text": [
      "INFO:tensorflow:*** Available Device: _DeviceAttributes(/job:worker/replica:0/task:0/device:XLA_CPU:0, XLA_CPU, 0, 0)\n"
     ]
    }
   ],
   "source": [
    "# Adicionando módulos customizados ao path\n",
    "import sys\n",
    "import warnings\n",
    "warnings.filterwarnings('ignore')\n",
    "\n",
    "sys.path.append(BASE_PATH + '/modules')\n",
    "\n",
    "import utils, text, model\n",
    "from importlib import reload"
   ]
  },
  {
   "cell_type": "markdown",
   "metadata": {
    "id": "zzkKRX2gQGCn"
   },
   "source": [
    "# Leitura dos Dados"
   ]
  },
  {
   "cell_type": "code",
   "execution_count": null,
   "metadata": {
    "colab": {
     "base_uri": "https://localhost:8080/",
     "height": 289
    },
    "executionInfo": {
     "elapsed": 1570,
     "status": "ok",
     "timestamp": 1629249491044,
     "user": {
      "displayName": "LUCAS BENJAMIM CUNHA BANDEIRA UFC",
      "photoUrl": "https://lh3.googleusercontent.com/a-/AOh14Gitg2pFKedQaZMqkN2q0suh3CAMwpaJy1ZHvn0N=s64",
      "userId": "01631264128707411900"
     },
     "user_tz": 180
    },
    "id": "DvS9pfbaQHMH",
    "outputId": "67940bec-dc38-47b7-8a67-9a174823328e"
   },
   "outputs": [
    {
     "data": {
      "text/html": [
       "<div>\n",
       "<style scoped>\n",
       "    .dataframe tbody tr th:only-of-type {\n",
       "        vertical-align: middle;\n",
       "    }\n",
       "\n",
       "    .dataframe tbody tr th {\n",
       "        vertical-align: top;\n",
       "    }\n",
       "\n",
       "    .dataframe thead th {\n",
       "        text-align: right;\n",
       "    }\n",
       "</style>\n",
       "<table border=\"1\" class=\"dataframe\">\n",
       "  <thead>\n",
       "    <tr style=\"text-align: right;\">\n",
       "      <th></th>\n",
       "      <th>text</th>\n",
       "      <th>binary_label</th>\n",
       "      <th>binary_score</th>\n",
       "      <th>ternary_label</th>\n",
       "      <th>ternary_score</th>\n",
       "      <th>text_tokens</th>\n",
       "      <th>clean_text</th>\n",
       "      <th>text_tokens_count</th>\n",
       "      <th>clean_text_words2ignore</th>\n",
       "      <th>labels_enc</th>\n",
       "      <th>label_pos_0</th>\n",
       "      <th>label_pos_1</th>\n",
       "      <th>label_pos_2</th>\n",
       "    </tr>\n",
       "  </thead>\n",
       "  <tbody>\n",
       "    <tr>\n",
       "      <th>79407</th>\n",
       "      <td>i am good . just looking at my antiques .</td>\n",
       "      <td>1</td>\n",
       "      <td>0.5068</td>\n",
       "      <td>neutral</td>\n",
       "      <td>0.4622</td>\n",
       "      <td>['good', 'looking', 'antiques']</td>\n",
       "      <td>i am good just looking at my antiques</td>\n",
       "      <td>8</td>\n",
       "      <td>good looking antiques</td>\n",
       "      <td>2</td>\n",
       "      <td>0.0</td>\n",
       "      <td>0.0</td>\n",
       "      <td>1.0</td>\n",
       "    </tr>\n",
       "    <tr>\n",
       "      <th>12001</th>\n",
       "      <td>i don't mind , but i just happen to live a few...</td>\n",
       "      <td>0</td>\n",
       "      <td>0.9509</td>\n",
       "      <td>male</td>\n",
       "      <td>0.9076</td>\n",
       "      <td>['dont', 'mind', 'happen', 'live', 'houses', '...</td>\n",
       "      <td>i dont mind but i just happen to live a few ho...</td>\n",
       "      <td>16</td>\n",
       "      <td>dont mind happen live houses miley cyrus</td>\n",
       "      <td>1</td>\n",
       "      <td>0.0</td>\n",
       "      <td>1.0</td>\n",
       "      <td>0.0</td>\n",
       "    </tr>\n",
       "    <tr>\n",
       "      <th>5709</th>\n",
       "      <td>why are you nervous ? are you looking for some...</td>\n",
       "      <td>0</td>\n",
       "      <td>0.6219</td>\n",
       "      <td>male</td>\n",
       "      <td>0.3930</td>\n",
       "      <td>['nervous', 'looking', 'like']</td>\n",
       "      <td>why are you nervous are you looking for someon...</td>\n",
       "      <td>12</td>\n",
       "      <td>nervous looking like</td>\n",
       "      <td>1</td>\n",
       "      <td>0.0</td>\n",
       "      <td>1.0</td>\n",
       "      <td>0.0</td>\n",
       "    </tr>\n",
       "    <tr>\n",
       "      <th>42688</th>\n",
       "      <td>that is good are you in college or high school</td>\n",
       "      <td>0</td>\n",
       "      <td>0.5238</td>\n",
       "      <td>male</td>\n",
       "      <td>0.3609</td>\n",
       "      <td>['good', 'college', 'high', 'school']</td>\n",
       "      <td>that is good are you in college or high school</td>\n",
       "      <td>10</td>\n",
       "      <td>good college high school</td>\n",
       "      <td>1</td>\n",
       "      <td>0.0</td>\n",
       "      <td>1.0</td>\n",
       "      <td>0.0</td>\n",
       "    </tr>\n",
       "    <tr>\n",
       "      <th>83527</th>\n",
       "      <td>i work for an insurance company . would you wa...</td>\n",
       "      <td>1</td>\n",
       "      <td>0.6509</td>\n",
       "      <td>female</td>\n",
       "      <td>0.3839</td>\n",
       "      <td>['work', 'insurance', 'company', 'want', 'some...</td>\n",
       "      <td>i work for an insurance company would you want...</td>\n",
       "      <td>13</td>\n",
       "      <td>work insurance company want someday</td>\n",
       "      <td>0</td>\n",
       "      <td>1.0</td>\n",
       "      <td>0.0</td>\n",
       "      <td>0.0</td>\n",
       "    </tr>\n",
       "  </tbody>\n",
       "</table>\n",
       "</div>"
      ],
      "text/plain": [
       "                                                    text  ...  label_pos_2\n",
       "79407          i am good . just looking at my antiques .  ...          1.0\n",
       "12001  i don't mind , but i just happen to live a few...  ...          0.0\n",
       "5709   why are you nervous ? are you looking for some...  ...          0.0\n",
       "42688     that is good are you in college or high school  ...          0.0\n",
       "83527  i work for an insurance company . would you wa...  ...          0.0\n",
       "\n",
       "[5 rows x 13 columns]"
      ]
     },
     "execution_count": 6,
     "metadata": {
      "tags": []
     },
     "output_type": "execute_result"
    }
   ],
   "source": [
    "df = pd.read_csv(DATASETS_PATH + '/MDGender/md_gender_bias/convai2_inferred/new_data.csv')\n",
    "df = df.sample(n=50000, random_state=42)\n",
    "df.head()"
   ]
  },
  {
   "cell_type": "code",
   "execution_count": null,
   "metadata": {
    "id": "DXBdAmFl7Zjt"
   },
   "outputs": [],
   "source": [
    "labels = ['female', 'male', 'neutral']"
   ]
  },
  {
   "cell_type": "markdown",
   "metadata": {
    "id": "rMH3_AErBMrc"
   },
   "source": [
    "# Leitura das *Word Embeddings* Pré-Treinadas"
   ]
  },
  {
   "cell_type": "code",
   "execution_count": null,
   "metadata": {
    "colab": {
     "base_uri": "https://localhost:8080/"
    },
    "executionInfo": {
     "elapsed": 87119,
     "status": "ok",
     "timestamp": 1629249578158,
     "user": {
      "displayName": "LUCAS BENJAMIM CUNHA BANDEIRA UFC",
      "photoUrl": "https://lh3.googleusercontent.com/a-/AOh14Gitg2pFKedQaZMqkN2q0suh3CAMwpaJy1ZHvn0N=s64",
      "userId": "01631264128707411900"
     },
     "user_tz": 180
    },
    "id": "dpxDheFOFB8D",
    "outputId": "87670812-cf7d-4dd8-fc94-f43bdfd98b5b"
   },
   "outputs": [
    {
     "name": "stdout",
     "output_type": "stream",
     "text": [
      "Quantidade de word embeddings = 999995\n"
     ]
    }
   ],
   "source": [
    "FASTTEXT = {}\n",
    "f = open(BASE_PATH + '/resources/FastText Word Embeddings/wiki-news-300d-1M.vec', encoding='utf8')\n",
    "index = 1\n",
    "\n",
    "for line in f:\n",
    "  values = line.split()\n",
    "  word = values[0]\n",
    "  FASTTEXT[word] = (index, np.asarray(values[1:], dtype='float32'))\n",
    "  index += 1\n",
    "f.close()\n",
    "\n",
    "print('Quantidade de word embeddings = {}'.format(len(FASTTEXT.keys())))"
   ]
  },
  {
   "cell_type": "markdown",
   "metadata": {
    "id": "dvTfL9qoSswi"
   },
   "source": [
    "# Treinamento do LSTM *Classifier*\n",
    "\n",
    "<center>\n",
    "  <img width=\"600\" src=\"https://lena-voita.github.io/resources/lectures/text_clf/neural/rnn/rnn_final_state-min.png\"/>\n",
    "</center>"
   ]
  },
  {
   "cell_type": "markdown",
   "metadata": {
    "id": "AHrmWbWmS1aB"
   },
   "source": [
    "## Representação Textual"
   ]
  },
  {
   "cell_type": "code",
   "execution_count": null,
   "metadata": {
    "colab": {
     "base_uri": "https://localhost:8080/",
     "height": 66,
     "referenced_widgets": [
      "aee62a0c05df44d9ab48a3c5546e2c16",
      "d02f40f21771418ba3ff23fed6a112ff",
      "b29fe24b76cf4b8c9a64ff18a3c3d123",
      "1e8202613e534eac98129d0fad10f505",
      "69ef8f896472478fa3b9299c7a9b8655",
      "9e40e08aa8494224a2e9df02e779255a",
      "4a626702cd864706a6252ff7a45742cb",
      "62b55fafb45f48a4950fcf27fbaef285",
      "5bae6eb9ca1b497ea504378dafe26ccc",
      "e90ce7e43b704e90a9847c2e5e7094a2",
      "c1a2e847689e4b38af52b6a66ba29634"
     ]
    },
    "executionInfo": {
     "elapsed": 1589,
     "status": "ok",
     "timestamp": 1629249579716,
     "user": {
      "displayName": "LUCAS BENJAMIM CUNHA BANDEIRA UFC",
      "photoUrl": "https://lh3.googleusercontent.com/a-/AOh14Gitg2pFKedQaZMqkN2q0suh3CAMwpaJy1ZHvn0N=s64",
      "userId": "01631264128707411900"
     },
     "user_tz": 180
    },
    "id": "0CHHs2T3PS_z",
    "outputId": "87f315f2-b86a-4216-e6e0-6c57b60e3b16"
   },
   "outputs": [
    {
     "data": {
      "application/vnd.jupyter.widget-view+json": {
       "model_id": "aee62a0c05df44d9ab48a3c5546e2c16",
       "version_major": 2,
       "version_minor": 0
      },
      "text/plain": [
       "\n",
       "Text to sequences for LSTM Classifier with FastText embeddings:   0%|          | 0/50000 [00:00<?, ?it/s]"
      ]
     },
     "metadata": {
      "tags": []
     },
     "output_type": "display_data"
    },
    {
     "name": "stdout",
     "output_type": "stream",
     "text": [
      "Padding the sequences...\n"
     ]
    }
   ],
   "source": [
    "df['text_tokens'] = df['text_tokens'].apply(lambda x: list(ast.literal_eval(x)))\n",
    "\n",
    "padded_tokens = text.padding_sequences_ftext(df['text_tokens'].to_numpy(), FASTTEXT, text.MAX_LENGTH)"
   ]
  },
  {
   "cell_type": "markdown",
   "metadata": {
    "id": "CoSSiptFeGp8"
   },
   "source": [
    "## Divisão Estratificada"
   ]
  },
  {
   "cell_type": "code",
   "execution_count": null,
   "metadata": {
    "colab": {
     "base_uri": "https://localhost:8080/"
    },
    "executionInfo": {
     "elapsed": 19104,
     "status": "ok",
     "timestamp": 1629249598810,
     "user": {
      "displayName": "LUCAS BENJAMIM CUNHA BANDEIRA UFC",
      "photoUrl": "https://lh3.googleusercontent.com/a-/AOh14Gitg2pFKedQaZMqkN2q0suh3CAMwpaJy1ZHvn0N=s64",
      "userId": "01631264128707411900"
     },
     "user_tz": 180
    },
    "id": "0VuyOwBUEIlu",
    "outputId": "a60f96f7-0dce-4074-e3a3-efab0abb09cb"
   },
   "outputs": [
    {
     "data": {
      "text/plain": [
       "(((36001, 60), (36001, 3)),\n",
       " ((10000, 60), (10000, 3)),\n",
       " ((3999, 60), (3999, 3)),\n",
       " (50000, 3))"
      ]
     },
     "execution_count": 10,
     "metadata": {
      "tags": []
     },
     "output_type": "execute_result"
    }
   ],
   "source": [
    "y = df[['label_pos_0', 'label_pos_1', 'label_pos_2']].to_numpy()\n",
    "\n",
    "X_train, y_train, X_test, y_test, X_dev, y_dev = text.data_split(padded_tokens, y, test_size=0.2, dev_size=0.1, random_seed=42)\n",
    "\n",
    "(X_train.shape, y_train.shape), (X_test.shape, y_test.shape), (X_dev.shape, y_dev.shape), y.shape"
   ]
  },
  {
   "cell_type": "code",
   "execution_count": null,
   "metadata": {
    "colab": {
     "base_uri": "https://localhost:8080/",
     "height": 124
    },
    "executionInfo": {
     "elapsed": 897,
     "status": "ok",
     "timestamp": 1629249599662,
     "user": {
      "displayName": "LUCAS BENJAMIM CUNHA BANDEIRA UFC",
      "photoUrl": "https://lh3.googleusercontent.com/a-/AOh14Gitg2pFKedQaZMqkN2q0suh3CAMwpaJy1ZHvn0N=s64",
      "userId": "01631264128707411900"
     },
     "user_tz": 180
    },
    "id": "rawEXQ7Pe38o",
    "outputId": "d0c703ec-164c-4d3b-eaec-442d9d8518b8"
   },
   "outputs": [
    {
     "data": {
      "text/html": [
       "<style  type=\"text/css\" >\n",
       "#T_676ef8cc_ffc2_11eb_998c_0242ac1c0002row0_col0,#T_676ef8cc_ffc2_11eb_998c_0242ac1c0002row0_col1,#T_676ef8cc_ffc2_11eb_998c_0242ac1c0002row0_col2{\n",
       "            background-color:  #cccccc;\n",
       "            color:  #000000;\n",
       "        }#T_676ef8cc_ffc2_11eb_998c_0242ac1c0002row1_col0,#T_676ef8cc_ffc2_11eb_998c_0242ac1c0002row1_col1,#T_676ef8cc_ffc2_11eb_998c_0242ac1c0002row1_col2{\n",
       "            background-color:  #fff2ae;\n",
       "            color:  #000000;\n",
       "        }#T_676ef8cc_ffc2_11eb_998c_0242ac1c0002row2_col0,#T_676ef8cc_ffc2_11eb_998c_0242ac1c0002row2_col1,#T_676ef8cc_ffc2_11eb_998c_0242ac1c0002row2_col2{\n",
       "            background-color:  #fdcdac;\n",
       "            color:  #000000;\n",
       "        }#T_676ef8cc_ffc2_11eb_998c_0242ac1c0002row3_col0,#T_676ef8cc_ffc2_11eb_998c_0242ac1c0002row3_col1,#T_676ef8cc_ffc2_11eb_998c_0242ac1c0002row3_col2{\n",
       "            background-color:  #b3e2cd;\n",
       "            color:  #000000;\n",
       "        }</style><table id=\"T_676ef8cc_ffc2_11eb_998c_0242ac1c0002\" ><thead>    <tr>        <th class=\"blank level0\" ></th>        <th class=\"col_heading level0 col0\" >(2,)</th>        <th class=\"col_heading level0 col1\" >(1,)</th>        <th class=\"col_heading level0 col2\" >(0,)</th>    </tr></thead><tbody>\n",
       "                <tr>\n",
       "                        <th id=\"T_676ef8cc_ffc2_11eb_998c_0242ac1c0002level0_row0\" class=\"row_heading level0 row0\" >data</th>\n",
       "                        <td id=\"T_676ef8cc_ffc2_11eb_998c_0242ac1c0002row0_col0\" class=\"data row0 col0\" >22526</td>\n",
       "                        <td id=\"T_676ef8cc_ffc2_11eb_998c_0242ac1c0002row0_col1\" class=\"data row0 col1\" >14006</td>\n",
       "                        <td id=\"T_676ef8cc_ffc2_11eb_998c_0242ac1c0002row0_col2\" class=\"data row0 col2\" >13468</td>\n",
       "            </tr>\n",
       "            <tr>\n",
       "                        <th id=\"T_676ef8cc_ffc2_11eb_998c_0242ac1c0002level0_row1\" class=\"row_heading level0 row1\" >train</th>\n",
       "                        <td id=\"T_676ef8cc_ffc2_11eb_998c_0242ac1c0002row1_col0\" class=\"data row1 col0\" >16219</td>\n",
       "                        <td id=\"T_676ef8cc_ffc2_11eb_998c_0242ac1c0002row1_col1\" class=\"data row1 col1\" >10085</td>\n",
       "                        <td id=\"T_676ef8cc_ffc2_11eb_998c_0242ac1c0002row1_col2\" class=\"data row1 col2\" >9697</td>\n",
       "            </tr>\n",
       "            <tr>\n",
       "                        <th id=\"T_676ef8cc_ffc2_11eb_998c_0242ac1c0002level0_row2\" class=\"row_heading level0 row2\" >test</th>\n",
       "                        <td id=\"T_676ef8cc_ffc2_11eb_998c_0242ac1c0002row2_col0\" class=\"data row2 col0\" >4505</td>\n",
       "                        <td id=\"T_676ef8cc_ffc2_11eb_998c_0242ac1c0002row2_col1\" class=\"data row2 col1\" >2801</td>\n",
       "                        <td id=\"T_676ef8cc_ffc2_11eb_998c_0242ac1c0002row2_col2\" class=\"data row2 col2\" >2694</td>\n",
       "            </tr>\n",
       "            <tr>\n",
       "                        <th id=\"T_676ef8cc_ffc2_11eb_998c_0242ac1c0002level0_row3\" class=\"row_heading level0 row3\" >dev</th>\n",
       "                        <td id=\"T_676ef8cc_ffc2_11eb_998c_0242ac1c0002row3_col0\" class=\"data row3 col0\" >1802</td>\n",
       "                        <td id=\"T_676ef8cc_ffc2_11eb_998c_0242ac1c0002row3_col1\" class=\"data row3 col1\" >1120</td>\n",
       "                        <td id=\"T_676ef8cc_ffc2_11eb_998c_0242ac1c0002row3_col2\" class=\"data row3 col2\" >1077</td>\n",
       "            </tr>\n",
       "    </tbody></table>"
      ],
      "text/plain": [
       "<pandas.io.formats.style.Styler at 0x7fe3cfb21490>"
      ]
     },
     "execution_count": 11,
     "metadata": {
      "tags": []
     },
     "output_type": "execute_result"
    }
   ],
   "source": [
    "from collections import Counter\n",
    "from skmultilearn.model_selection.measures import get_combination_wise_output_matrix\n",
    "\n",
    "result_comb_matrix = pd.DataFrame({\n",
    "    'data':  Counter(str(combination) for row in get_combination_wise_output_matrix(y, order=1) for combination in row),\n",
    "    'train': Counter(str(combination) for row in get_combination_wise_output_matrix(y_train, order=1) for combination in row),\n",
    "    'test':  Counter(str(combination) for row in get_combination_wise_output_matrix(y_test, order=1) for combination in row),\n",
    "    'dev':   Counter(str(combination) for row in get_combination_wise_output_matrix(y_dev, order=1) for combination in row)\n",
    "}).T.fillna(0.0)\n",
    "\n",
    "result_comb_matrix.style.background_gradient(cmap=plt.get_cmap('Pastel2'))"
   ]
  },
  {
   "cell_type": "code",
   "execution_count": null,
   "metadata": {
    "id": "9TAj88mj1ycT"
   },
   "outputs": [],
   "source": [
    "test_data = pd.DataFrame(columns=['tokens_ids', 'y'])\n",
    "\n",
    "for ids, y in zip(X_test, y_test):\n",
    "  test_data = test_data.append({\n",
    "      'tokens_ids': ids,\n",
    "      'y': y\n",
    "  }, ignore_index=True)\n",
    "\n",
    "test_data.to_json(DATASETS_PATH + '/MDGender/md_gender_bias/convai2_inferred/lstm_padded_test_data.json', orient='records')"
   ]
  },
  {
   "cell_type": "markdown",
   "metadata": {
    "id": "yzGVt2OQfdTS"
   },
   "source": [
    "## Treino do Modelo"
   ]
  },
  {
   "cell_type": "code",
   "execution_count": null,
   "metadata": {
    "colab": {
     "base_uri": "https://localhost:8080/",
     "height": 49,
     "referenced_widgets": [
      "7f283db31ca74fbbb4d9cf0718ded2be",
      "b5d59dc76d3349eaacf67d4fb64a92a7",
      "867c39399f07428ba3fa9c654e8c3237",
      "aa8cc1a3d67c46db9d8d71e16301dab8",
      "6b1dbd5ce0c14bc09b0ea0e33599c72e",
      "fced968b6b96467196ef986b50aa8845",
      "1078274758854c3289ff5797af4c55f5",
      "e2cef6368e7f42668f63d4d5eddd5508",
      "6753fc774e4a4f0eb04ca468f9cadd29",
      "dfa16a2391624acbb697072b3b3eb258",
      "f0628b3d33fd424d9da29f46b67f887c"
     ]
    },
    "executionInfo": {
     "elapsed": 6614,
     "status": "ok",
     "timestamp": 1629249632311,
     "user": {
      "displayName": "LUCAS BENJAMIM CUNHA BANDEIRA UFC",
      "photoUrl": "https://lh3.googleusercontent.com/a-/AOh14Gitg2pFKedQaZMqkN2q0suh3CAMwpaJy1ZHvn0N=s64",
      "userId": "01631264128707411900"
     },
     "user_tz": 180
    },
    "id": "een06jcoRlXK",
    "outputId": "eb2cc9a9-a93b-47b5-9f77-8e28f33ca257"
   },
   "outputs": [
    {
     "data": {
      "application/vnd.jupyter.widget-view+json": {
       "model_id": "7f283db31ca74fbbb4d9cf0718ded2be",
       "version_major": 2,
       "version_minor": 0
      },
      "text/plain": [
       "  0%|          | 0/999995 [00:00<?, ?it/s]"
      ]
     },
     "metadata": {
      "tags": []
     },
     "output_type": "display_data"
    }
   ],
   "source": [
    "embedding_dim = 300\n",
    "embedding_matrix = np.random.random((len(FASTTEXT.keys()) + 1, embedding_dim))\n",
    "\n",
    "with tqdm_notebook(total=len(FASTTEXT.items())) as pbar:\n",
    "  for word in FASTTEXT.keys():\n",
    "      embedding_tuple = FASTTEXT.get(word)\n",
    "      if embedding_tuple is not None:\n",
    "          embedding_matrix[embedding_tuple[0]] = embedding_tuple[1]\n",
    "      pbar.update(1)\n",
    "  pbar.close()"
   ]
  },
  {
   "cell_type": "code",
   "execution_count": null,
   "metadata": {
    "colab": {
     "base_uri": "https://localhost:8080/"
    },
    "executionInfo": {
     "elapsed": 4671082,
     "status": "ok",
     "timestamp": 1629254303373,
     "user": {
      "displayName": "LUCAS BENJAMIM CUNHA BANDEIRA UFC",
      "photoUrl": "https://lh3.googleusercontent.com/a-/AOh14Gitg2pFKedQaZMqkN2q0suh3CAMwpaJy1ZHvn0N=s64",
      "userId": "01631264128707411900"
     },
     "user_tz": 180
    },
    "id": "3JmPR-60ib7u",
    "outputId": "1f517e3c-5470-4f4a-8b32-760e13c5432e"
   },
   "outputs": [
    {
     "name": "stdout",
     "output_type": "stream",
     "text": [
      "Model: \"model\"\n",
      "_________________________________________________________________\n",
      "Layer (type)                 Output Shape              Param #   \n",
      "=================================================================\n",
      "input_1 (InputLayer)         [(None, 60)]              0         \n",
      "_________________________________________________________________\n",
      "embedding (Embedding)        (None, 60, 300)           299998800 \n",
      "_________________________________________________________________\n",
      "lstm (LSTM)                  (None, 60, 128)           219648    \n",
      "_________________________________________________________________\n",
      "global_max_pooling1d (Global (None, 128)               0         \n",
      "_________________________________________________________________\n",
      "dropout (Dropout)            (None, 128)               0         \n",
      "_________________________________________________________________\n",
      "dense (Dense)                (None, 128)               16512     \n",
      "_________________________________________________________________\n",
      "dropout_1 (Dropout)          (None, 128)               0         \n",
      "_________________________________________________________________\n",
      "dense_1 (Dense)              (None, 3)                 387       \n",
      "=================================================================\n",
      "Total params: 300,235,347\n",
      "Trainable params: 236,547\n",
      "Non-trainable params: 299,998,800\n",
      "_________________________________________________________________\n",
      "None\n",
      "Epoch 1/100\n",
      "   6/1126 [..............................] - ETA: 1:00 - loss: 0.6899 - auc: 0.4794WARNING:tensorflow:Callback method `on_train_batch_end` is slow compared to the batch time (batch time: 0.0034s vs `on_train_batch_end` time: 0.1310s). Check your callbacks.\n"
     ]
    },
    {
     "name": "stderr",
     "output_type": "stream",
     "text": [
      "WARNING:tensorflow:Callback method `on_train_batch_end` is slow compared to the batch time (batch time: 0.0034s vs `on_train_batch_end` time: 0.1310s). Check your callbacks.\n"
     ]
    },
    {
     "name": "stdout",
     "output_type": "stream",
     "text": [
      "1126/1126 [==============================] - 62s 53ms/step - loss: 0.6216 - auc: 0.5383 - val_loss: 0.6146 - val_auc: 0.7139\n",
      "\n",
      "Epoch 00001: val_auc improved from -inf to 0.71385, saving model to /content/drive/MyDrive/Ciência de Dados/Projeto Final/Resources/Models/best_lstm_classifier_md_gender.h5\n",
      "Epoch 2/100\n",
      "1126/1126 [==============================] - 61s 54ms/step - loss: 0.5829 - auc: 0.6884 - val_loss: 0.5273 - val_auc: 0.7650\n",
      "\n",
      "Epoch 00002: val_auc improved from 0.71385 to 0.76498, saving model to /content/drive/MyDrive/Ciência de Dados/Projeto Final/Resources/Models/best_lstm_classifier_md_gender.h5\n",
      "Epoch 3/100\n",
      "1126/1126 [==============================] - 62s 55ms/step - loss: 0.5230 - auc: 0.7625 - val_loss: 0.4964 - val_auc: 0.8008\n",
      "\n",
      "Epoch 00003: val_auc improved from 0.76498 to 0.80082, saving model to /content/drive/MyDrive/Ciência de Dados/Projeto Final/Resources/Models/best_lstm_classifier_md_gender.h5\n",
      "Epoch 4/100\n",
      "1126/1126 [==============================] - 61s 54ms/step - loss: 0.4966 - auc: 0.7928 - val_loss: 0.4749 - val_auc: 0.8164\n",
      "\n",
      "Epoch 00004: val_auc improved from 0.80082 to 0.81638, saving model to /content/drive/MyDrive/Ciência de Dados/Projeto Final/Resources/Models/best_lstm_classifier_md_gender.h5\n",
      "Epoch 5/100\n",
      "1126/1126 [==============================] - 64s 57ms/step - loss: 0.4823 - auc: 0.8070 - val_loss: 0.4732 - val_auc: 0.8227\n",
      "\n",
      "Epoch 00005: val_auc improved from 0.81638 to 0.82265, saving model to /content/drive/MyDrive/Ciência de Dados/Projeto Final/Resources/Models/best_lstm_classifier_md_gender.h5\n",
      "Epoch 6/100\n",
      "1126/1126 [==============================] - 60s 54ms/step - loss: 0.4735 - auc: 0.8160 - val_loss: 0.4681 - val_auc: 0.8280\n",
      "\n",
      "Epoch 00006: val_auc improved from 0.82265 to 0.82798, saving model to /content/drive/MyDrive/Ciência de Dados/Projeto Final/Resources/Models/best_lstm_classifier_md_gender.h5\n",
      "Epoch 7/100\n",
      "1126/1126 [==============================] - 64s 57ms/step - loss: 0.4666 - auc: 0.8225 - val_loss: 0.4626 - val_auc: 0.8320\n",
      "\n",
      "Epoch 00007: val_auc improved from 0.82798 to 0.83200, saving model to /content/drive/MyDrive/Ciência de Dados/Projeto Final/Resources/Models/best_lstm_classifier_md_gender.h5\n",
      "Epoch 8/100\n",
      "1126/1126 [==============================] - 62s 55ms/step - loss: 0.4606 - auc: 0.8277 - val_loss: 0.4521 - val_auc: 0.8366\n",
      "\n",
      "Epoch 00008: val_auc improved from 0.83200 to 0.83664, saving model to /content/drive/MyDrive/Ciência de Dados/Projeto Final/Resources/Models/best_lstm_classifier_md_gender.h5\n",
      "Epoch 9/100\n",
      "1126/1126 [==============================] - 60s 54ms/step - loss: 0.4554 - auc: 0.8323 - val_loss: 0.4476 - val_auc: 0.8407\n",
      "\n",
      "Epoch 00009: val_auc improved from 0.83664 to 0.84072, saving model to /content/drive/MyDrive/Ciência de Dados/Projeto Final/Resources/Models/best_lstm_classifier_md_gender.h5\n",
      "Epoch 10/100\n",
      "1126/1126 [==============================] - 62s 55ms/step - loss: 0.4521 - auc: 0.8351 - val_loss: 0.4529 - val_auc: 0.8417\n",
      "\n",
      "Epoch 00010: val_auc improved from 0.84072 to 0.84166, saving model to /content/drive/MyDrive/Ciência de Dados/Projeto Final/Resources/Models/best_lstm_classifier_md_gender.h5\n",
      "Epoch 11/100\n",
      "1126/1126 [==============================] - 62s 55ms/step - loss: 0.4485 - auc: 0.8382 - val_loss: 0.4472 - val_auc: 0.8442\n",
      "\n",
      "Epoch 00011: val_auc improved from 0.84166 to 0.84423, saving model to /content/drive/MyDrive/Ciência de Dados/Projeto Final/Resources/Models/best_lstm_classifier_md_gender.h5\n",
      "Epoch 12/100\n",
      "1126/1126 [==============================] - 61s 54ms/step - loss: 0.4460 - auc: 0.8403 - val_loss: 0.4481 - val_auc: 0.8453\n",
      "\n",
      "Epoch 00012: val_auc improved from 0.84423 to 0.84526, saving model to /content/drive/MyDrive/Ciência de Dados/Projeto Final/Resources/Models/best_lstm_classifier_md_gender.h5\n",
      "Epoch 13/100\n",
      "1126/1126 [==============================] - 61s 55ms/step - loss: 0.4424 - auc: 0.8431 - val_loss: 0.4572 - val_auc: 0.8459\n",
      "\n",
      "Epoch 00013: val_auc improved from 0.84526 to 0.84591, saving model to /content/drive/MyDrive/Ciência de Dados/Projeto Final/Resources/Models/best_lstm_classifier_md_gender.h5\n",
      "Epoch 14/100\n",
      "1126/1126 [==============================] - 63s 56ms/step - loss: 0.4415 - auc: 0.8438 - val_loss: 0.4482 - val_auc: 0.8475\n",
      "\n",
      "Epoch 00014: val_auc improved from 0.84591 to 0.84746, saving model to /content/drive/MyDrive/Ciência de Dados/Projeto Final/Resources/Models/best_lstm_classifier_md_gender.h5\n",
      "Epoch 15/100\n",
      "1126/1126 [==============================] - 62s 55ms/step - loss: 0.4379 - auc: 0.8467 - val_loss: 0.4359 - val_auc: 0.8498\n",
      "\n",
      "Epoch 00015: val_auc improved from 0.84746 to 0.84981, saving model to /content/drive/MyDrive/Ciência de Dados/Projeto Final/Resources/Models/best_lstm_classifier_md_gender.h5\n",
      "Epoch 16/100\n",
      "1126/1126 [==============================] - 62s 55ms/step - loss: 0.4365 - auc: 0.8480 - val_loss: 0.4371 - val_auc: 0.8513\n",
      "\n",
      "Epoch 00016: val_auc improved from 0.84981 to 0.85133, saving model to /content/drive/MyDrive/Ciência de Dados/Projeto Final/Resources/Models/best_lstm_classifier_md_gender.h5\n",
      "Epoch 17/100\n",
      "1126/1126 [==============================] - 61s 54ms/step - loss: 0.4344 - auc: 0.8495 - val_loss: 0.4609 - val_auc: 0.8500\n",
      "\n",
      "Epoch 00017: val_auc did not improve from 0.85133\n",
      "Epoch 18/100\n",
      "1126/1126 [==============================] - 59s 52ms/step - loss: 0.4338 - auc: 0.8498 - val_loss: 0.4374 - val_auc: 0.8534\n",
      "\n",
      "Epoch 00018: val_auc improved from 0.85133 to 0.85344, saving model to /content/drive/MyDrive/Ciência de Dados/Projeto Final/Resources/Models/best_lstm_classifier_md_gender.h5\n",
      "Epoch 19/100\n",
      "1126/1126 [==============================] - 62s 55ms/step - loss: 0.4310 - auc: 0.8521 - val_loss: 0.4323 - val_auc: 0.8543\n",
      "\n",
      "Epoch 00019: val_auc improved from 0.85344 to 0.85428, saving model to /content/drive/MyDrive/Ciência de Dados/Projeto Final/Resources/Models/best_lstm_classifier_md_gender.h5\n",
      "Epoch 20/100\n",
      "1126/1126 [==============================] - 61s 54ms/step - loss: 0.4299 - auc: 0.8529 - val_loss: 0.4352 - val_auc: 0.8540\n",
      "\n",
      "Epoch 00020: val_auc did not improve from 0.85428\n",
      "Epoch 21/100\n",
      "1126/1126 [==============================] - 59s 52ms/step - loss: 0.4285 - auc: 0.8539 - val_loss: 0.4301 - val_auc: 0.8560\n",
      "\n",
      "Epoch 00021: val_auc improved from 0.85428 to 0.85600, saving model to /content/drive/MyDrive/Ciência de Dados/Projeto Final/Resources/Models/best_lstm_classifier_md_gender.h5\n",
      "Epoch 22/100\n",
      "1126/1126 [==============================] - 62s 55ms/step - loss: 0.4283 - auc: 0.8539 - val_loss: 0.4367 - val_auc: 0.8562\n",
      "\n",
      "Epoch 00022: val_auc improved from 0.85600 to 0.85621, saving model to /content/drive/MyDrive/Ciência de Dados/Projeto Final/Resources/Models/best_lstm_classifier_md_gender.h5\n",
      "Epoch 23/100\n",
      "1126/1126 [==============================] - 62s 55ms/step - loss: 0.4264 - auc: 0.8553 - val_loss: 0.4314 - val_auc: 0.8553\n",
      "\n",
      "Epoch 00023: val_auc did not improve from 0.85621\n",
      "Epoch 24/100\n",
      "1126/1126 [==============================] - 59s 52ms/step - loss: 0.4248 - auc: 0.8566 - val_loss: 0.4297 - val_auc: 0.8556\n",
      "\n",
      "Epoch 00024: val_auc did not improve from 0.85621\n",
      "Epoch 25/100\n",
      "1126/1126 [==============================] - 59s 52ms/step - loss: 0.4233 - auc: 0.8579 - val_loss: 0.4262 - val_auc: 0.8577\n",
      "\n",
      "Epoch 00025: val_auc improved from 0.85621 to 0.85771, saving model to /content/drive/MyDrive/Ciência de Dados/Projeto Final/Resources/Models/best_lstm_classifier_md_gender.h5\n",
      "Epoch 26/100\n",
      "1126/1126 [==============================] - 61s 55ms/step - loss: 0.4211 - auc: 0.8594 - val_loss: 0.4286 - val_auc: 0.8572\n",
      "\n",
      "Epoch 00026: val_auc did not improve from 0.85771\n",
      "Epoch 27/100\n",
      "1126/1126 [==============================] - 59s 52ms/step - loss: 0.4207 - auc: 0.8597 - val_loss: 0.4253 - val_auc: 0.8593\n",
      "\n",
      "Epoch 00027: val_auc improved from 0.85771 to 0.85928, saving model to /content/drive/MyDrive/Ciência de Dados/Projeto Final/Resources/Models/best_lstm_classifier_md_gender.h5\n",
      "Epoch 28/100\n",
      "1126/1126 [==============================] - 61s 55ms/step - loss: 0.4195 - auc: 0.8606 - val_loss: 0.4272 - val_auc: 0.8577\n",
      "\n",
      "Epoch 00028: val_auc did not improve from 0.85928\n",
      "Epoch 29/100\n",
      "1126/1126 [==============================] - 59s 52ms/step - loss: 0.4194 - auc: 0.8607 - val_loss: 0.4246 - val_auc: 0.8592\n",
      "\n",
      "Epoch 00029: val_auc did not improve from 0.85928\n",
      "Epoch 30/100\n",
      "1126/1126 [==============================] - 59s 52ms/step - loss: 0.4177 - auc: 0.8619 - val_loss: 0.4220 - val_auc: 0.8604\n",
      "\n",
      "Epoch 00030: val_auc improved from 0.85928 to 0.86042, saving model to /content/drive/MyDrive/Ciência de Dados/Projeto Final/Resources/Models/best_lstm_classifier_md_gender.h5\n",
      "Epoch 31/100\n",
      "1126/1126 [==============================] - 64s 57ms/step - loss: 0.4163 - auc: 0.8629 - val_loss: 0.4322 - val_auc: 0.8601\n",
      "\n",
      "Epoch 00031: val_auc did not improve from 0.86042\n",
      "Epoch 32/100\n",
      "1126/1126 [==============================] - 59s 52ms/step - loss: 0.4171 - auc: 0.8623 - val_loss: 0.4253 - val_auc: 0.8615\n",
      "\n",
      "Epoch 00032: val_auc improved from 0.86042 to 0.86152, saving model to /content/drive/MyDrive/Ciência de Dados/Projeto Final/Resources/Models/best_lstm_classifier_md_gender.h5\n",
      "Epoch 33/100\n",
      "1126/1126 [==============================] - 62s 55ms/step - loss: 0.4156 - auc: 0.8635 - val_loss: 0.4198 - val_auc: 0.8612\n",
      "\n",
      "Epoch 00033: val_auc did not improve from 0.86152\n",
      "Epoch 34/100\n",
      "1126/1126 [==============================] - 59s 52ms/step - loss: 0.4146 - auc: 0.8641 - val_loss: 0.4368 - val_auc: 0.8599\n",
      "\n",
      "Epoch 00034: val_auc did not improve from 0.86152\n",
      "Epoch 35/100\n",
      "1126/1126 [==============================] - 59s 52ms/step - loss: 0.4138 - auc: 0.8646 - val_loss: 0.4225 - val_auc: 0.8611\n",
      "\n",
      "Epoch 00035: val_auc did not improve from 0.86152\n",
      "Epoch 36/100\n",
      "1126/1126 [==============================] - 59s 53ms/step - loss: 0.4126 - auc: 0.8655 - val_loss: 0.4224 - val_auc: 0.8621\n",
      "\n",
      "Epoch 00036: val_auc improved from 0.86152 to 0.86212, saving model to /content/drive/MyDrive/Ciência de Dados/Projeto Final/Resources/Models/best_lstm_classifier_md_gender.h5\n",
      "Epoch 37/100\n",
      "1126/1126 [==============================] - 62s 55ms/step - loss: 0.4128 - auc: 0.8653 - val_loss: 0.4227 - val_auc: 0.8607\n",
      "\n",
      "Epoch 00037: val_auc did not improve from 0.86212\n",
      "Epoch 38/100\n",
      "1126/1126 [==============================] - 59s 52ms/step - loss: 0.4109 - auc: 0.8665 - val_loss: 0.4300 - val_auc: 0.8629\n",
      "\n",
      "Epoch 00038: val_auc improved from 0.86212 to 0.86289, saving model to /content/drive/MyDrive/Ciência de Dados/Projeto Final/Resources/Models/best_lstm_classifier_md_gender.h5\n",
      "Epoch 39/100\n",
      "1126/1126 [==============================] - 62s 55ms/step - loss: 0.4104 - auc: 0.8669 - val_loss: 0.4217 - val_auc: 0.8634\n",
      "\n",
      "Epoch 00039: val_auc improved from 0.86289 to 0.86336, saving model to /content/drive/MyDrive/Ciência de Dados/Projeto Final/Resources/Models/best_lstm_classifier_md_gender.h5\n",
      "Epoch 40/100\n",
      "1126/1126 [==============================] - 62s 55ms/step - loss: 0.4094 - auc: 0.8677 - val_loss: 0.4210 - val_auc: 0.8633\n",
      "\n",
      "Epoch 00040: val_auc did not improve from 0.86336\n",
      "Epoch 41/100\n",
      "1126/1126 [==============================] - 59s 52ms/step - loss: 0.4090 - auc: 0.8682 - val_loss: 0.4202 - val_auc: 0.8634\n",
      "\n",
      "Epoch 00041: val_auc improved from 0.86336 to 0.86337, saving model to /content/drive/MyDrive/Ciência de Dados/Projeto Final/Resources/Models/best_lstm_classifier_md_gender.h5\n",
      "Epoch 42/100\n",
      "1126/1126 [==============================] - 64s 57ms/step - loss: 0.4088 - auc: 0.8681 - val_loss: 0.4251 - val_auc: 0.8629\n",
      "\n",
      "Epoch 00042: val_auc did not improve from 0.86337\n",
      "Epoch 43/100\n",
      "1126/1126 [==============================] - 59s 52ms/step - loss: 0.4069 - auc: 0.8695 - val_loss: 0.4173 - val_auc: 0.8632\n",
      "\n",
      "Epoch 00043: val_auc did not improve from 0.86337\n",
      "Epoch 44/100\n",
      "1126/1126 [==============================] - 59s 52ms/step - loss: 0.4062 - auc: 0.8699 - val_loss: 0.4190 - val_auc: 0.8647\n",
      "\n",
      "Epoch 00044: val_auc improved from 0.86337 to 0.86474, saving model to /content/drive/MyDrive/Ciência de Dados/Projeto Final/Resources/Models/best_lstm_classifier_md_gender.h5\n",
      "Epoch 45/100\n",
      "1126/1126 [==============================] - 63s 56ms/step - loss: 0.4051 - auc: 0.8707 - val_loss: 0.4256 - val_auc: 0.8617\n",
      "\n",
      "Epoch 00045: val_auc did not improve from 0.86474\n",
      "Epoch 46/100\n",
      "1126/1126 [==============================] - 59s 52ms/step - loss: 0.4056 - auc: 0.8704 - val_loss: 0.4174 - val_auc: 0.8642\n",
      "\n",
      "Epoch 00046: val_auc did not improve from 0.86474\n",
      "Epoch 47/100\n",
      "1126/1126 [==============================] - 59s 52ms/step - loss: 0.4039 - auc: 0.8714 - val_loss: 0.4169 - val_auc: 0.8658\n",
      "\n",
      "Epoch 00047: val_auc improved from 0.86474 to 0.86580, saving model to /content/drive/MyDrive/Ciência de Dados/Projeto Final/Resources/Models/best_lstm_classifier_md_gender.h5\n",
      "Epoch 48/100\n",
      "1126/1126 [==============================] - 62s 55ms/step - loss: 0.4035 - auc: 0.8717 - val_loss: 0.4266 - val_auc: 0.8649\n",
      "\n",
      "Epoch 00048: val_auc did not improve from 0.86580\n",
      "Epoch 49/100\n",
      "1126/1126 [==============================] - 59s 52ms/step - loss: 0.4029 - auc: 0.8721 - val_loss: 0.4170 - val_auc: 0.8655\n",
      "\n",
      "Epoch 00049: val_auc did not improve from 0.86580\n",
      "Epoch 50/100\n",
      "1126/1126 [==============================] - 59s 52ms/step - loss: 0.4026 - auc: 0.8722 - val_loss: 0.4198 - val_auc: 0.8641\n",
      "\n",
      "Epoch 00050: val_auc did not improve from 0.86580\n",
      "Epoch 51/100\n",
      "1126/1126 [==============================] - 59s 53ms/step - loss: 0.4016 - auc: 0.8732 - val_loss: 0.4233 - val_auc: 0.8637\n",
      "\n",
      "Epoch 00051: val_auc did not improve from 0.86580\n",
      "Epoch 52/100\n",
      "1126/1126 [==============================] - 59s 52ms/step - loss: 0.4007 - auc: 0.8737 - val_loss: 0.4170 - val_auc: 0.8663\n",
      "\n",
      "Epoch 00052: val_auc improved from 0.86580 to 0.86632, saving model to /content/drive/MyDrive/Ciência de Dados/Projeto Final/Resources/Models/best_lstm_classifier_md_gender.h5\n",
      "Epoch 53/100\n",
      "1126/1126 [==============================] - 65s 57ms/step - loss: 0.3987 - auc: 0.8750 - val_loss: 0.4236 - val_auc: 0.8630\n",
      "\n",
      "Epoch 00053: val_auc did not improve from 0.86632\n",
      "Epoch 54/100\n",
      "1126/1126 [==============================] - 59s 52ms/step - loss: 0.3999 - auc: 0.8742 - val_loss: 0.4203 - val_auc: 0.8647\n",
      "\n",
      "Epoch 00054: val_auc did not improve from 0.86632\n",
      "Epoch 55/100\n",
      "1126/1126 [==============================] - 59s 53ms/step - loss: 0.3996 - auc: 0.8745 - val_loss: 0.4308 - val_auc: 0.8637\n",
      "\n",
      "Epoch 00055: val_auc did not improve from 0.86632\n",
      "Epoch 56/100\n",
      "1126/1126 [==============================] - 59s 52ms/step - loss: 0.3973 - auc: 0.8759 - val_loss: 0.4145 - val_auc: 0.8668\n",
      "\n",
      "Epoch 00056: val_auc improved from 0.86632 to 0.86677, saving model to /content/drive/MyDrive/Ciência de Dados/Projeto Final/Resources/Models/best_lstm_classifier_md_gender.h5\n",
      "Epoch 57/100\n",
      "1126/1126 [==============================] - 62s 55ms/step - loss: 0.3975 - auc: 0.8759 - val_loss: 0.4229 - val_auc: 0.8671\n",
      "\n",
      "Epoch 00057: val_auc improved from 0.86677 to 0.86713, saving model to /content/drive/MyDrive/Ciência de Dados/Projeto Final/Resources/Models/best_lstm_classifier_md_gender.h5\n",
      "Epoch 58/100\n",
      "1126/1126 [==============================] - 63s 56ms/step - loss: 0.3965 - auc: 0.8766 - val_loss: 0.4297 - val_auc: 0.8672\n",
      "\n",
      "Epoch 00058: val_auc improved from 0.86713 to 0.86716, saving model to /content/drive/MyDrive/Ciência de Dados/Projeto Final/Resources/Models/best_lstm_classifier_md_gender.h5\n",
      "Epoch 59/100\n",
      "1126/1126 [==============================] - 62s 55ms/step - loss: 0.3960 - auc: 0.8767 - val_loss: 0.4228 - val_auc: 0.8665\n",
      "\n",
      "Epoch 00059: val_auc did not improve from 0.86716\n",
      "Epoch 60/100\n",
      "1126/1126 [==============================] - 59s 53ms/step - loss: 0.3952 - auc: 0.8774 - val_loss: 0.4119 - val_auc: 0.8685\n",
      "\n",
      "Epoch 00060: val_auc improved from 0.86716 to 0.86848, saving model to /content/drive/MyDrive/Ciência de Dados/Projeto Final/Resources/Models/best_lstm_classifier_md_gender.h5\n",
      "Epoch 61/100\n",
      "1126/1126 [==============================] - 63s 56ms/step - loss: 0.3939 - auc: 0.8783 - val_loss: 0.4198 - val_auc: 0.8664\n",
      "\n",
      "Epoch 00061: val_auc did not improve from 0.86848\n",
      "Epoch 62/100\n",
      "1126/1126 [==============================] - 59s 53ms/step - loss: 0.3933 - auc: 0.8787 - val_loss: 0.4146 - val_auc: 0.8686\n",
      "\n",
      "Epoch 00062: val_auc improved from 0.86848 to 0.86859, saving model to /content/drive/MyDrive/Ciência de Dados/Projeto Final/Resources/Models/best_lstm_classifier_md_gender.h5\n",
      "Epoch 63/100\n",
      "1126/1126 [==============================] - 64s 57ms/step - loss: 0.3930 - auc: 0.8789 - val_loss: 0.4237 - val_auc: 0.8651\n",
      "\n",
      "Epoch 00063: val_auc did not improve from 0.86859\n",
      "Epoch 64/100\n",
      "1126/1126 [==============================] - 59s 52ms/step - loss: 0.3931 - auc: 0.8789 - val_loss: 0.4157 - val_auc: 0.8661\n",
      "\n",
      "Epoch 00064: val_auc did not improve from 0.86859\n",
      "Epoch 65/100\n",
      "1126/1126 [==============================] - 59s 53ms/step - loss: 0.3918 - auc: 0.8798 - val_loss: 0.4137 - val_auc: 0.8671\n",
      "\n",
      "Epoch 00065: val_auc did not improve from 0.86859\n",
      "Epoch 66/100\n",
      "1126/1126 [==============================] - 59s 53ms/step - loss: 0.3905 - auc: 0.8805 - val_loss: 0.4121 - val_auc: 0.8679\n",
      "\n",
      "Epoch 00066: val_auc did not improve from 0.86859\n",
      "Epoch 67/100\n",
      "1126/1126 [==============================] - 59s 52ms/step - loss: 0.3896 - auc: 0.8811 - val_loss: 0.4161 - val_auc: 0.8691\n",
      "\n",
      "Epoch 00067: val_auc improved from 0.86859 to 0.86912, saving model to /content/drive/MyDrive/Ciência de Dados/Projeto Final/Resources/Models/best_lstm_classifier_md_gender.h5\n",
      "Epoch 68/100\n",
      "1126/1126 [==============================] - 63s 56ms/step - loss: 0.3888 - auc: 0.8816 - val_loss: 0.4145 - val_auc: 0.8674\n",
      "\n",
      "Epoch 00068: val_auc did not improve from 0.86912\n",
      "Epoch 69/100\n",
      "1126/1126 [==============================] - 59s 52ms/step - loss: 0.3882 - auc: 0.8820 - val_loss: 0.4168 - val_auc: 0.8678\n",
      "\n",
      "Epoch 00069: val_auc did not improve from 0.86912\n",
      "Epoch 70/100\n",
      "1126/1126 [==============================] - 59s 52ms/step - loss: 0.3879 - auc: 0.8822 - val_loss: 0.4101 - val_auc: 0.8689\n",
      "\n",
      "Epoch 00070: val_auc did not improve from 0.86912\n"
     ]
    }
   ],
   "source": [
    "np.random.seed(42)\n",
    "tf.random.set_seed(42)\n",
    "\n",
    "auc_score = AUC(multi_label=True)\n",
    "# f1_score = F1Score(num_classes=y.shape[1], threshold=0.5, average='weighted')\n",
    "\n",
    "model_path = BASE_PATH + '/resources/models/best_lstm_classifier_convai.h5'\n",
    "\n",
    "model_meta = model.run_text_classifier(model.lstm_classifier,\n",
    "                                       X_train, y_train,\n",
    "                                       X_dev, y_dev,\n",
    "                                       batch_size=32,\n",
    "                                       max_epochs=100,\n",
    "                                       patience=10,\n",
    "                                       eval_metric=auc_score,\n",
    "                                       monitor='val_auc',\n",
    "                                       source_length=text.MAX_LENGTH,\n",
    "                                       hidden_units=128,\n",
    "                                       labels_size=len(labels), \n",
    "                                       model_path=model_path,\n",
    "                                       vocab_size=len(FASTTEXT.keys()) + 1,\n",
    "                                       embedding_dim=embedding_dim,\n",
    "                                       embedding_matrix=embedding_matrix)"
   ]
  },
  {
   "cell_type": "code",
   "execution_count": null,
   "metadata": {
    "colab": {
     "base_uri": "https://localhost:8080/"
    },
    "executionInfo": {
     "elapsed": 12,
     "status": "ok",
     "timestamp": 1629254303373,
     "user": {
      "displayName": "LUCAS BENJAMIM CUNHA BANDEIRA UFC",
      "photoUrl": "https://lh3.googleusercontent.com/a-/AOh14Gitg2pFKedQaZMqkN2q0suh3CAMwpaJy1ZHvn0N=s64",
      "userId": "01631264128707411900"
     },
     "user_tz": 180
    },
    "id": "2uMFHJrwoipg",
    "outputId": "291ecfd3-2d30-4e03-c110-7f9ba971fcff"
   },
   "outputs": [
    {
     "data": {
      "text/plain": [
       "('01:10:49', '17/08/2021 22:21', '17/08/2021 23:38')"
      ]
     },
     "execution_count": 15,
     "metadata": {
      "tags": []
     },
     "output_type": "execute_result"
    }
   ],
   "source": [
    "model_meta['run_time'], model_meta['start'], model_meta['final']"
   ]
  },
  {
   "cell_type": "code",
   "execution_count": null,
   "metadata": {
    "colab": {
     "base_uri": "https://localhost:8080/",
     "height": 634
    },
    "executionInfo": {
     "elapsed": 1338,
     "status": "ok",
     "timestamp": 1629254304707,
     "user": {
      "displayName": "LUCAS BENJAMIM CUNHA BANDEIRA UFC",
      "photoUrl": "https://lh3.googleusercontent.com/a-/AOh14Gitg2pFKedQaZMqkN2q0suh3CAMwpaJy1ZHvn0N=s64",
      "userId": "01631264128707411900"
     },
     "user_tz": 180
    },
    "id": "L8GGLbsQBQsJ",
    "outputId": "e89d1dde-20b5-40df-e364-22d285f98e65"
   },
   "outputs": [
    {
     "data": {
      "image/png": "[encoded data removed]",
      "text/plain": [
       "<Figure size 1440x720 with 2 Axes>"
      ]
     },
     "metadata": {
      "needs_background": "light",
      "tags": []
     },
     "output_type": "display_data"
    }
   ],
   "source": [
    "model.plot_model_loss_score(model_meta['history'], score_name='auc')"
   ]
  },
  {
   "cell_type": "code",
   "execution_count": null,
   "metadata": {
    "colab": {
     "base_uri": "https://localhost:8080/"
    },
    "executionInfo": {
     "elapsed": 21719,
     "status": "ok",
     "timestamp": 1629254326415,
     "user": {
      "displayName": "LUCAS BENJAMIM CUNHA BANDEIRA UFC",
      "photoUrl": "https://lh3.googleusercontent.com/a-/AOh14Gitg2pFKedQaZMqkN2q0suh3CAMwpaJy1ZHvn0N=s64",
      "userId": "01631264128707411900"
     },
     "user_tz": 180
    },
    "id": "XgR5o0titxCi",
    "outputId": "4f402b7a-f679-47d0-a8f4-cb032b4769d0"
   },
   "outputs": [
    {
     "name": "stdout",
     "output_type": "stream",
     "text": [
      "              precision    recall  f1-score   support\n",
      "\n",
      "      female       0.77      0.44      0.56      2694\n",
      "        male       0.73      0.58      0.64      2801\n",
      "     neutral       0.71      0.79      0.75      4505\n",
      "\n",
      "   micro avg       0.73      0.64      0.68     10000\n",
      "   macro avg       0.74      0.60      0.65     10000\n",
      "weighted avg       0.73      0.64      0.67     10000\n",
      " samples avg       0.64      0.64      0.64     10000\n",
      "\n"
     ]
    }
   ],
   "source": [
    "model_meta['model'].load_weights(model_path)\n",
    "y_pred = np.rint(model_meta['model'].predict(X_test))\n",
    "\n",
    "print(classification_report(y_test, y_pred, target_names=labels))"
   ]
  }
 ],
 "metadata": {
  "accelerator": "TPU",
  "colab": {
   "collapsed_sections": [],
   "name": "3 - LSTM Classifier for ConvAI2.ipynb",
   "provenance": [],
   "toc_visible": true
  },
  "kernelspec": {
   "display_name": "Python 3",
   "language": "python",
   "name": "python3"
  },
  "language_info": {
   "codemirror_mode": {
    "name": "ipython",
    "version": 3
   },
   "file_extension": ".py",
   "mimetype": "text/x-python",
   "name": "python",
   "nbconvert_exporter": "python",
   "pygments_lexer": "ipython3",
   "version": "3.8.10"
  },
  "widgets": {
   "application/vnd.jupyter.widget-state+json": {
    "1078274758854c3289ff5797af4c55f5": {
     "model_module": "@jupyter-widgets/base",
     "model_module_version": "1.2.0",
     "model_name": "LayoutModel",
     "state": {
      "_model_module": "@jupyter-widgets/base",
      "_model_module_version": "1.2.0",
      "_model_name": "LayoutModel",
      "_view_count": null,
      "_view_module": "@jupyter-widgets/base",
      "_view_module_version": "1.2.0",
      "_view_name": "LayoutView",
      "align_content": null,
      "align_items": null,
      "align_self": null,
      "border": null,
      "bottom": null,
      "display": null,
      "flex": null,
      "flex_flow": null,
      "grid_area": null,
      "grid_auto_columns": null,
      "grid_auto_flow": null,
      "grid_auto_rows": null,
      "grid_column": null,
      "grid_gap": null,
      "grid_row": null,
      "grid_template_areas": null,
      "grid_template_columns": null,
      "grid_template_rows": null,
      "height": null,
      "justify_content": null,
      "justify_items": null,
      "left": null,
      "margin": null,
      "max_height": null,
      "max_width": null,
      "min_height": null,
      "min_width": null,
      "object_fit": null,
      "object_position": null,
      "order": null,
      "overflow": null,
      "overflow_x": null,
      "overflow_y": null,
      "padding": null,
      "right": null,
      "top": null,
      "visibility": null,
      "width": null
     }
    },
    "1e8202613e534eac98129d0fad10f505": {
     "model_module": "@jupyter-widgets/controls",
     "model_module_version": "1.5.0",
     "model_name": "FloatProgressModel",
     "state": {
      "_dom_classes": [],
      "_model_module": "@jupyter-widgets/controls",
      "_model_module_version": "1.5.0",
      "_model_name": "FloatProgressModel",
      "_view_count": null,
      "_view_module": "@jupyter-widgets/controls",
      "_view_module_version": "1.5.0",
      "_view_name": "ProgressView",
      "bar_style": "success",
      "description": "",
      "description_tooltip": null,
      "layout": "IPY_MODEL_5bae6eb9ca1b497ea504378dafe26ccc",
      "max": 50000,
      "min": 0,
      "orientation": "horizontal",
      "style": "IPY_MODEL_62b55fafb45f48a4950fcf27fbaef285",
      "value": 50000
     }
    },
    "4a626702cd864706a6252ff7a45742cb": {
     "model_module": "@jupyter-widgets/base",
     "model_module_version": "1.2.0",
     "model_name": "LayoutModel",
     "state": {
      "_model_module": "@jupyter-widgets/base",
      "_model_module_version": "1.2.0",
      "_model_name": "LayoutModel",
      "_view_count": null,
      "_view_module": "@jupyter-widgets/base",
      "_view_module_version": "1.2.0",
      "_view_name": "LayoutView",
      "align_content": null,
      "align_items": null,
      "align_self": null,
      "border": null,
      "bottom": null,
      "display": null,
      "flex": null,
      "flex_flow": null,
      "grid_area": null,
      "grid_auto_columns": null,
      "grid_auto_flow": null,
      "grid_auto_rows": null,
      "grid_column": null,
      "grid_gap": null,
      "grid_row": null,
      "grid_template_areas": null,
      "grid_template_columns": null,
      "grid_template_rows": null,
      "height": null,
      "justify_content": null,
      "justify_items": null,
      "left": null,
      "margin": null,
      "max_height": null,
      "max_width": null,
      "min_height": null,
      "min_width": null,
      "object_fit": null,
      "object_position": null,
      "order": null,
      "overflow": null,
      "overflow_x": null,
      "overflow_y": null,
      "padding": null,
      "right": null,
      "top": null,
      "visibility": null,
      "width": null
     }
    },
    "5bae6eb9ca1b497ea504378dafe26ccc": {
     "model_module": "@jupyter-widgets/base",
     "model_module_version": "1.2.0",
     "model_name": "LayoutModel",
     "state": {
      "_model_module": "@jupyter-widgets/base",
      "_model_module_version": "1.2.0",
      "_model_name": "LayoutModel",
      "_view_count": null,
      "_view_module": "@jupyter-widgets/base",
      "_view_module_version": "1.2.0",
      "_view_name": "LayoutView",
      "align_content": null,
      "align_items": null,
      "align_self": null,
      "border": null,
      "bottom": null,
      "display": null,
      "flex": null,
      "flex_flow": null,
      "grid_area": null,
      "grid_auto_columns": null,
      "grid_auto_flow": null,
      "grid_auto_rows": null,
      "grid_column": null,
      "grid_gap": null,
      "grid_row": null,
      "grid_template_areas": null,
      "grid_template_columns": null,
      "grid_template_rows": null,
      "height": null,
      "justify_content": null,
      "justify_items": null,
      "left": null,
      "margin": null,
      "max_height": null,
      "max_width": null,
      "min_height": null,
      "min_width": null,
      "object_fit": null,
      "object_position": null,
      "order": null,
      "overflow": null,
      "overflow_x": null,
      "overflow_y": null,
      "padding": null,
      "right": null,
      "top": null,
      "visibility": null,
      "width": null
     }
    },
    "62b55fafb45f48a4950fcf27fbaef285": {
     "model_module": "@jupyter-widgets/controls",
     "model_module_version": "1.5.0",
     "model_name": "ProgressStyleModel",
     "state": {
      "_model_module": "@jupyter-widgets/controls",
      "_model_module_version": "1.5.0",
      "_model_name": "ProgressStyleModel",
      "_view_count": null,
      "_view_module": "@jupyter-widgets/base",
      "_view_module_version": "1.2.0",
      "_view_name": "StyleView",
      "bar_color": null,
      "description_width": ""
     }
    },
    "6753fc774e4a4f0eb04ca468f9cadd29": {
     "model_module": "@jupyter-widgets/base",
     "model_module_version": "1.2.0",
     "model_name": "LayoutModel",
     "state": {
      "_model_module": "@jupyter-widgets/base",
      "_model_module_version": "1.2.0",
      "_model_name": "LayoutModel",
      "_view_count": null,
      "_view_module": "@jupyter-widgets/base",
      "_view_module_version": "1.2.0",
      "_view_name": "LayoutView",
      "align_content": null,
      "align_items": null,
      "align_self": null,
      "border": null,
      "bottom": null,
      "display": null,
      "flex": null,
      "flex_flow": null,
      "grid_area": null,
      "grid_auto_columns": null,
      "grid_auto_flow": null,
      "grid_auto_rows": null,
      "grid_column": null,
      "grid_gap": null,
      "grid_row": null,
      "grid_template_areas": null,
      "grid_template_columns": null,
      "grid_template_rows": null,
      "height": null,
      "justify_content": null,
      "justify_items": null,
      "left": null,
      "margin": null,
      "max_height": null,
      "max_width": null,
      "min_height": null,
      "min_width": null,
      "object_fit": null,
      "object_position": null,
      "order": null,
      "overflow": null,
      "overflow_x": null,
      "overflow_y": null,
      "padding": null,
      "right": null,
      "top": null,
      "visibility": null,
      "width": null
     }
    },
    "69ef8f896472478fa3b9299c7a9b8655": {
     "model_module": "@jupyter-widgets/controls",
     "model_module_version": "1.5.0",
     "model_name": "HTMLModel",
     "state": {
      "_dom_classes": [],
      "_model_module": "@jupyter-widgets/controls",
      "_model_module_version": "1.5.0",
      "_model_name": "HTMLModel",
      "_view_count": null,
      "_view_module": "@jupyter-widgets/controls",
      "_view_module_version": "1.5.0",
      "_view_name": "HTMLView",
      "description": "",
      "description_tooltip": null,
      "layout": "IPY_MODEL_c1a2e847689e4b38af52b6a66ba29634",
      "placeholder": "​",
      "style": "IPY_MODEL_e90ce7e43b704e90a9847c2e5e7094a2",
      "value": " 50000/50000 [00:00&lt;00:00, 180961.54it/s]"
     }
    },
    "6b1dbd5ce0c14bc09b0ea0e33599c72e": {
     "model_module": "@jupyter-widgets/controls",
     "model_module_version": "1.5.0",
     "model_name": "HTMLModel",
     "state": {
      "_dom_classes": [],
      "_model_module": "@jupyter-widgets/controls",
      "_model_module_version": "1.5.0",
      "_model_name": "HTMLModel",
      "_view_count": null,
      "_view_module": "@jupyter-widgets/controls",
      "_view_module_version": "1.5.0",
      "_view_name": "HTMLView",
      "description": "",
      "description_tooltip": null,
      "layout": "IPY_MODEL_f0628b3d33fd424d9da29f46b67f887c",
      "placeholder": "​",
      "style": "IPY_MODEL_dfa16a2391624acbb697072b3b3eb258",
      "value": " 999995/999995 [00:03&lt;00:00, 319729.37it/s]"
     }
    },
    "7f283db31ca74fbbb4d9cf0718ded2be": {
     "model_module": "@jupyter-widgets/controls",
     "model_module_version": "1.5.0",
     "model_name": "HBoxModel",
     "state": {
      "_dom_classes": [],
      "_model_module": "@jupyter-widgets/controls",
      "_model_module_version": "1.5.0",
      "_model_name": "HBoxModel",
      "_view_count": null,
      "_view_module": "@jupyter-widgets/controls",
      "_view_module_version": "1.5.0",
      "_view_name": "HBoxView",
      "box_style": "",
      "children": [
       "IPY_MODEL_867c39399f07428ba3fa9c654e8c3237",
       "IPY_MODEL_aa8cc1a3d67c46db9d8d71e16301dab8",
       "IPY_MODEL_6b1dbd5ce0c14bc09b0ea0e33599c72e"
      ],
      "layout": "IPY_MODEL_b5d59dc76d3349eaacf67d4fb64a92a7"
     }
    },
    "867c39399f07428ba3fa9c654e8c3237": {
     "model_module": "@jupyter-widgets/controls",
     "model_module_version": "1.5.0",
     "model_name": "HTMLModel",
     "state": {
      "_dom_classes": [],
      "_model_module": "@jupyter-widgets/controls",
      "_model_module_version": "1.5.0",
      "_model_name": "HTMLModel",
      "_view_count": null,
      "_view_module": "@jupyter-widgets/controls",
      "_view_module_version": "1.5.0",
      "_view_name": "HTMLView",
      "description": "",
      "description_tooltip": null,
      "layout": "IPY_MODEL_1078274758854c3289ff5797af4c55f5",
      "placeholder": "​",
      "style": "IPY_MODEL_fced968b6b96467196ef986b50aa8845",
      "value": "100%"
     }
    },
    "9e40e08aa8494224a2e9df02e779255a": {
     "model_module": "@jupyter-widgets/controls",
     "model_module_version": "1.5.0",
     "model_name": "DescriptionStyleModel",
     "state": {
      "_model_module": "@jupyter-widgets/controls",
      "_model_module_version": "1.5.0",
      "_model_name": "DescriptionStyleModel",
      "_view_count": null,
      "_view_module": "@jupyter-widgets/base",
      "_view_module_version": "1.2.0",
      "_view_name": "StyleView",
      "description_width": ""
     }
    },
    "aa8cc1a3d67c46db9d8d71e16301dab8": {
     "model_module": "@jupyter-widgets/controls",
     "model_module_version": "1.5.0",
     "model_name": "FloatProgressModel",
     "state": {
      "_dom_classes": [],
      "_model_module": "@jupyter-widgets/controls",
      "_model_module_version": "1.5.0",
      "_model_name": "FloatProgressModel",
      "_view_count": null,
      "_view_module": "@jupyter-widgets/controls",
      "_view_module_version": "1.5.0",
      "_view_name": "ProgressView",
      "bar_style": "success",
      "description": "",
      "description_tooltip": null,
      "layout": "IPY_MODEL_6753fc774e4a4f0eb04ca468f9cadd29",
      "max": 999995,
      "min": 0,
      "orientation": "horizontal",
      "style": "IPY_MODEL_e2cef6368e7f42668f63d4d5eddd5508",
      "value": 999995
     }
    },
    "aee62a0c05df44d9ab48a3c5546e2c16": {
     "model_module": "@jupyter-widgets/controls",
     "model_module_version": "1.5.0",
     "model_name": "HBoxModel",
     "state": {
      "_dom_classes": [],
      "_model_module": "@jupyter-widgets/controls",
      "_model_module_version": "1.5.0",
      "_model_name": "HBoxModel",
      "_view_count": null,
      "_view_module": "@jupyter-widgets/controls",
      "_view_module_version": "1.5.0",
      "_view_name": "HBoxView",
      "box_style": "",
      "children": [
       "IPY_MODEL_b29fe24b76cf4b8c9a64ff18a3c3d123",
       "IPY_MODEL_1e8202613e534eac98129d0fad10f505",
       "IPY_MODEL_69ef8f896472478fa3b9299c7a9b8655"
      ],
      "layout": "IPY_MODEL_d02f40f21771418ba3ff23fed6a112ff"
     }
    },
    "b29fe24b76cf4b8c9a64ff18a3c3d123": {
     "model_module": "@jupyter-widgets/controls",
     "model_module_version": "1.5.0",
     "model_name": "HTMLModel",
     "state": {
      "_dom_classes": [],
      "_model_module": "@jupyter-widgets/controls",
      "_model_module_version": "1.5.0",
      "_model_name": "HTMLModel",
      "_view_count": null,
      "_view_module": "@jupyter-widgets/controls",
      "_view_module_version": "1.5.0",
      "_view_name": "HTMLView",
      "description": "",
      "description_tooltip": null,
      "layout": "IPY_MODEL_4a626702cd864706a6252ff7a45742cb",
      "placeholder": "​",
      "style": "IPY_MODEL_9e40e08aa8494224a2e9df02e779255a",
      "value": "\nText to sequences for LSTM Classifier with FastText embeddings: 100%"
     }
    },
    "b5d59dc76d3349eaacf67d4fb64a92a7": {
     "model_module": "@jupyter-widgets/base",
     "model_module_version": "1.2.0",
     "model_name": "LayoutModel",
     "state": {
      "_model_module": "@jupyter-widgets/base",
      "_model_module_version": "1.2.0",
      "_model_name": "LayoutModel",
      "_view_count": null,
      "_view_module": "@jupyter-widgets/base",
      "_view_module_version": "1.2.0",
      "_view_name": "LayoutView",
      "align_content": null,
      "align_items": null,
      "align_self": null,
      "border": null,
      "bottom": null,
      "display": null,
      "flex": null,
      "flex_flow": null,
      "grid_area": null,
      "grid_auto_columns": null,
      "grid_auto_flow": null,
      "grid_auto_rows": null,
      "grid_column": null,
      "grid_gap": null,
      "grid_row": null,
      "grid_template_areas": null,
      "grid_template_columns": null,
      "grid_template_rows": null,
      "height": null,
      "justify_content": null,
      "justify_items": null,
      "left": null,
      "margin": null,
      "max_height": null,
      "max_width": null,
      "min_height": null,
      "min_width": null,
      "object_fit": null,
      "object_position": null,
      "order": null,
      "overflow": null,
      "overflow_x": null,
      "overflow_y": null,
      "padding": null,
      "right": null,
      "top": null,
      "visibility": null,
      "width": null
     }
    },
    "c1a2e847689e4b38af52b6a66ba29634": {
     "model_module": "@jupyter-widgets/base",
     "model_module_version": "1.2.0",
     "model_name": "LayoutModel",
     "state": {
      "_model_module": "@jupyter-widgets/base",
      "_model_module_version": "1.2.0",
      "_model_name": "LayoutModel",
      "_view_count": null,
      "_view_module": "@jupyter-widgets/base",
      "_view_module_version": "1.2.0",
      "_view_name": "LayoutView",
      "align_content": null,
      "align_items": null,
      "align_self": null,
      "border": null,
      "bottom": null,
      "display": null,
      "flex": null,
      "flex_flow": null,
      "grid_area": null,
      "grid_auto_columns": null,
      "grid_auto_flow": null,
      "grid_auto_rows": null,
      "grid_column": null,
      "grid_gap": null,
      "grid_row": null,
      "grid_template_areas": null,
      "grid_template_columns": null,
      "grid_template_rows": null,
      "height": null,
      "justify_content": null,
      "justify_items": null,
      "left": null,
      "margin": null,
      "max_height": null,
      "max_width": null,
      "min_height": null,
      "min_width": null,
      "object_fit": null,
      "object_position": null,
      "order": null,
      "overflow": null,
      "overflow_x": null,
      "overflow_y": null,
      "padding": null,
      "right": null,
      "top": null,
      "visibility": null,
      "width": null
     }
    },
    "d02f40f21771418ba3ff23fed6a112ff": {
     "model_module": "@jupyter-widgets/base",
     "model_module_version": "1.2.0",
     "model_name": "LayoutModel",
     "state": {
      "_model_module": "@jupyter-widgets/base",
      "_model_module_version": "1.2.0",
      "_model_name": "LayoutModel",
      "_view_count": null,
      "_view_module": "@jupyter-widgets/base",
      "_view_module_version": "1.2.0",
      "_view_name": "LayoutView",
      "align_content": null,
      "align_items": null,
      "align_self": null,
      "border": null,
      "bottom": null,
      "display": null,
      "flex": null,
      "flex_flow": null,
      "grid_area": null,
      "grid_auto_columns": null,
      "grid_auto_flow": null,
      "grid_auto_rows": null,
      "grid_column": null,
      "grid_gap": null,
      "grid_row": null,
      "grid_template_areas": null,
      "grid_template_columns": null,
      "grid_template_rows": null,
      "height": null,
      "justify_content": null,
      "justify_items": null,
      "left": null,
      "margin": null,
      "max_height": null,
      "max_width": null,
      "min_height": null,
      "min_width": null,
      "object_fit": null,
      "object_position": null,
      "order": null,
      "overflow": null,
      "overflow_x": null,
      "overflow_y": null,
      "padding": null,
      "right": null,
      "top": null,
      "visibility": null,
      "width": null
     }
    },
    "dfa16a2391624acbb697072b3b3eb258": {
     "model_module": "@jupyter-widgets/controls",
     "model_module_version": "1.5.0",
     "model_name": "DescriptionStyleModel",
     "state": {
      "_model_module": "@jupyter-widgets/controls",
      "_model_module_version": "1.5.0",
      "_model_name": "DescriptionStyleModel",
      "_view_count": null,
      "_view_module": "@jupyter-widgets/base",
      "_view_module_version": "1.2.0",
      "_view_name": "StyleView",
      "description_width": ""
     }
    },
    "e2cef6368e7f42668f63d4d5eddd5508": {
     "model_module": "@jupyter-widgets/controls",
     "model_module_version": "1.5.0",
     "model_name": "ProgressStyleModel",
     "state": {
      "_model_module": "@jupyter-widgets/controls",
      "_model_module_version": "1.5.0",
      "_model_name": "ProgressStyleModel",
      "_view_count": null,
      "_view_module": "@jupyter-widgets/base",
      "_view_module_version": "1.2.0",
      "_view_name": "StyleView",
      "bar_color": null,
      "description_width": ""
     }
    },
    "e90ce7e43b704e90a9847c2e5e7094a2": {
     "model_module": "@jupyter-widgets/controls",
     "model_module_version": "1.5.0",
     "model_name": "DescriptionStyleModel",
     "state": {
      "_model_module": "@jupyter-widgets/controls",
      "_model_module_version": "1.5.0",
      "_model_name": "DescriptionStyleModel",
      "_view_count": null,
      "_view_module": "@jupyter-widgets/base",
      "_view_module_version": "1.2.0",
      "_view_name": "StyleView",
      "description_width": ""
     }
    },
    "f0628b3d33fd424d9da29f46b67f887c": {
     "model_module": "@jupyter-widgets/base",
     "model_module_version": "1.2.0",
     "model_name": "LayoutModel",
     "state": {
      "_model_module": "@jupyter-widgets/base",
      "_model_module_version": "1.2.0",
      "_model_name": "LayoutModel",
      "_view_count": null,
      "_view_module": "@jupyter-widgets/base",
      "_view_module_version": "1.2.0",
      "_view_name": "LayoutView",
      "align_content": null,
      "align_items": null,
      "align_self": null,
      "border": null,
      "bottom": null,
      "display": null,
      "flex": null,
      "flex_flow": null,
      "grid_area": null,
      "grid_auto_columns": null,
      "grid_auto_flow": null,
      "grid_auto_rows": null,
      "grid_column": null,
      "grid_gap": null,
      "grid_row": null,
      "grid_template_areas": null,
      "grid_template_columns": null,
      "grid_template_rows": null,
      "height": null,
      "justify_content": null,
      "justify_items": null,
      "left": null,
      "margin": null,
      "max_height": null,
      "max_width": null,
      "min_height": null,
      "min_width": null,
      "object_fit": null,
      "object_position": null,
      "order": null,
      "overflow": null,
      "overflow_x": null,
      "overflow_y": null,
      "padding": null,
      "right": null,
      "top": null,
      "visibility": null,
      "width": null
     }
    },
    "fced968b6b96467196ef986b50aa8845": {
     "model_module": "@jupyter-widgets/controls",
     "model_module_version": "1.5.0",
     "model_name": "DescriptionStyleModel",
     "state": {
      "_model_module": "@jupyter-widgets/controls",
      "_model_module_version": "1.5.0",
      "_model_name": "DescriptionStyleModel",
      "_view_count": null,
      "_view_module": "@jupyter-widgets/base",
      "_view_module_version": "1.2.0",
      "_view_name": "StyleView",
      "description_width": ""
     }
    }
   }
  }
 },
 "nbformat": 4,
 "nbformat_minor": 1
}
