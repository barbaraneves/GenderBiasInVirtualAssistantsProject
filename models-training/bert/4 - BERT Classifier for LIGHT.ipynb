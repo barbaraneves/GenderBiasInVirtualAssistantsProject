{
 "cells": [
  {
   "cell_type": "markdown",
   "metadata": {
    "id": "SozXcvfsP6PY"
   },
   "source": [
    "# *Gender Bias in Virtual Assistants Project*\n",
    "\n",
    "### Identificando Preconceitos de Gênero em Assistentes Virtuais\n",
    "\n",
    "![From Google](https://media-assets-01.thedrum.com/cache/images/thedrum-prod/s3-news-tmp-145694-untitled_design_70--default--1280.png)\n",
    "\n",
    "### Equipe formada por\n",
    "- Bárbara Stéphanie Neves Oliveira, 507526\n",
    "- Lucas Benjamim Cunha Bandeira, 507533\n",
    "- Samir Braga Chaves, 513788\n",
    "- Vinicius Bernardo Gabriel, 475210"
   ]
  },
  {
   "cell_type": "markdown",
   "metadata": {
    "id": "NbuBHn0rP82e"
   },
   "source": [
    "# BERT *Classifier for LIGHT Dataset* \n",
    "\n",
    "<center>\n",
    "  <img width=\"600\" src=\"https://drive.google.com/uc?id=11KlguWCUIDUzA8bN5dtzzab4tiY_2pz4\"/>\n",
    "</center>\n",
    "\n",
    "\n",
    "---\n",
    "\n",
    "### Classificação Multiclasse\n",
    "\n",
    "<center>\n",
    "  <img width=\"400\" src=\"https://lena-voita.github.io/resources/lectures/text_clf/intro/example_document-min.png\"/>\n",
    "</center>\n",
    "\n",
    "---\n",
    "\n",
    "### *Transfer-Learning*\n",
    "\n",
    "<center>\n",
    "  <img width=\"700\" src=\"https://lena-voita.github.io/resources/lectures/transfer/intro/idea-min.png\"/>\n",
    "</center>"
   ]
  },
  {
   "cell_type": "markdown",
   "metadata": {},
   "source": [
    "# Warning\n",
    "\n",
    "**Para reproducibilidade, a execução deste *script* deve ser feita pelo Google Colab para uso da TPU.**\n",
    "\n",
    "**Caso não queira, sugerimos comentar no módulo `model.py` toda a configuração da TPU.**"
   ]
  },
  {
   "cell_type": "markdown",
   "metadata": {
    "id": "y-wxU4YBQCEb"
   },
   "source": [
    "# Imports"
   ]
  },
  {
   "cell_type": "code",
   "execution_count": null,
   "metadata": {
    "id": "wf2G4e3JOyg2"
   },
   "outputs": [],
   "source": [
    "import numpy as np\n",
    "import pandas as pd\n",
    "import matplotlib.pyplot as plt\n",
    "\n",
    "import tensorflow as tf\n",
    "from tensorflow.keras.metrics import AUC\n",
    "from tensorflow_addons.metrics import F1Score\n",
    "\n",
    "from sklearn.metrics import classification_report\n",
    "\n",
    "BASE_PATH = '...'\n",
    "DATASETS_PATH = BASE_PATH + \"/resources/datasets\""
   ]
  },
  {
   "cell_type": "code",
   "execution_count": null,
   "metadata": {
    "colab": {
     "base_uri": "https://localhost:8080/"
    },
    "executionInfo": {
     "elapsed": 32976,
     "status": "ok",
     "timestamp": 1629220467488,
     "user": {
      "displayName": "Bárbara Neves",
      "photoUrl": "https://lh3.googleusercontent.com/a-/AOh14GjAp_nU12lRGDLonAU6k8sURhdo84aDrahKT5_BTA=s64",
      "userId": "02067111595078707861"
     },
     "user_tz": 180
    },
    "id": "85Z9pER-RHKf",
    "outputId": "1b2c2ebb-2352-4beb-c5f8-482214838f93"
   },
   "outputs": [
    {
     "name": "stderr",
     "output_type": "stream",
     "text": [
      "INFO:absl:Entering into master device scope: /job:worker/replica:0/task:0/device:CPU:0\n"
     ]
    },
    {
     "name": "stdout",
     "output_type": "stream",
     "text": [
      "INFO:tensorflow:Initializing the TPU system: grpc://10.90.83.162:8470\n"
     ]
    },
    {
     "name": "stderr",
     "output_type": "stream",
     "text": [
      "INFO:tensorflow:Initializing the TPU system: grpc://10.90.83.162:8470\n"
     ]
    },
    {
     "name": "stdout",
     "output_type": "stream",
     "text": [
      "INFO:tensorflow:Clearing out eager caches\n"
     ]
    },
    {
     "name": "stderr",
     "output_type": "stream",
     "text": [
      "INFO:tensorflow:Clearing out eager caches\n"
     ]
    },
    {
     "name": "stdout",
     "output_type": "stream",
     "text": [
      "INFO:tensorflow:Finished initializing TPU system.\n"
     ]
    },
    {
     "name": "stderr",
     "output_type": "stream",
     "text": [
      "INFO:tensorflow:Finished initializing TPU system.\n",
      "WARNING:absl:`tf.distribute.experimental.TPUStrategy` is deprecated, please use  the non experimental symbol `tf.distribute.TPUStrategy` instead.\n"
     ]
    },
    {
     "name": "stdout",
     "output_type": "stream",
     "text": [
      "INFO:tensorflow:Found TPU system:\n"
     ]
    },
    {
     "name": "stderr",
     "output_type": "stream",
     "text": [
      "INFO:tensorflow:Found TPU system:\n"
     ]
    },
    {
     "name": "stdout",
     "output_type": "stream",
     "text": [
      "INFO:tensorflow:*** Num TPU Cores: 8\n"
     ]
    },
    {
     "name": "stderr",
     "output_type": "stream",
     "text": [
      "INFO:tensorflow:*** Num TPU Cores: 8\n"
     ]
    },
    {
     "name": "stdout",
     "output_type": "stream",
     "text": [
      "INFO:tensorflow:*** Num TPU Workers: 1\n"
     ]
    },
    {
     "name": "stderr",
     "output_type": "stream",
     "text": [
      "INFO:tensorflow:*** Num TPU Workers: 1\n"
     ]
    },
    {
     "name": "stdout",
     "output_type": "stream",
     "text": [
      "INFO:tensorflow:*** Num TPU Cores Per Worker: 8\n"
     ]
    },
    {
     "name": "stderr",
     "output_type": "stream",
     "text": [
      "INFO:tensorflow:*** Num TPU Cores Per Worker: 8\n"
     ]
    },
    {
     "name": "stdout",
     "output_type": "stream",
     "text": [
      "INFO:tensorflow:*** Available Device: _DeviceAttributes(/job:localhost/replica:0/task:0/device:CPU:0, CPU, 0, 0)\n"
     ]
    },
    {
     "name": "stderr",
     "output_type": "stream",
     "text": [
      "INFO:tensorflow:*** Available Device: _DeviceAttributes(/job:localhost/replica:0/task:0/device:CPU:0, CPU, 0, 0)\n"
     ]
    },
    {
     "name": "stdout",
     "output_type": "stream",
     "text": [
      "INFO:tensorflow:*** Available Device: _DeviceAttributes(/job:worker/replica:0/task:0/device:CPU:0, CPU, 0, 0)\n"
     ]
    },
    {
     "name": "stderr",
     "output_type": "stream",
     "text": [
      "INFO:tensorflow:*** Available Device: _DeviceAttributes(/job:worker/replica:0/task:0/device:CPU:0, CPU, 0, 0)\n"
     ]
    },
    {
     "name": "stdout",
     "output_type": "stream",
     "text": [
      "INFO:tensorflow:*** Available Device: _DeviceAttributes(/job:worker/replica:0/task:0/device:TPU:0, TPU, 0, 0)\n"
     ]
    },
    {
     "name": "stderr",
     "output_type": "stream",
     "text": [
      "INFO:tensorflow:*** Available Device: _DeviceAttributes(/job:worker/replica:0/task:0/device:TPU:0, TPU, 0, 0)\n"
     ]
    },
    {
     "name": "stdout",
     "output_type": "stream",
     "text": [
      "INFO:tensorflow:*** Available Device: _DeviceAttributes(/job:worker/replica:0/task:0/device:TPU:1, TPU, 0, 0)\n"
     ]
    },
    {
     "name": "stderr",
     "output_type": "stream",
     "text": [
      "INFO:tensorflow:*** Available Device: _DeviceAttributes(/job:worker/replica:0/task:0/device:TPU:1, TPU, 0, 0)\n"
     ]
    },
    {
     "name": "stdout",
     "output_type": "stream",
     "text": [
      "INFO:tensorflow:*** Available Device: _DeviceAttributes(/job:worker/replica:0/task:0/device:TPU:2, TPU, 0, 0)\n"
     ]
    },
    {
     "name": "stderr",
     "output_type": "stream",
     "text": [
      "INFO:tensorflow:*** Available Device: _DeviceAttributes(/job:worker/replica:0/task:0/device:TPU:2, TPU, 0, 0)\n"
     ]
    },
    {
     "name": "stdout",
     "output_type": "stream",
     "text": [
      "INFO:tensorflow:*** Available Device: _DeviceAttributes(/job:worker/replica:0/task:0/device:TPU:3, TPU, 0, 0)\n"
     ]
    },
    {
     "name": "stderr",
     "output_type": "stream",
     "text": [
      "INFO:tensorflow:*** Available Device: _DeviceAttributes(/job:worker/replica:0/task:0/device:TPU:3, TPU, 0, 0)\n"
     ]
    },
    {
     "name": "stdout",
     "output_type": "stream",
     "text": [
      "INFO:tensorflow:*** Available Device: _DeviceAttributes(/job:worker/replica:0/task:0/device:TPU:4, TPU, 0, 0)\n"
     ]
    },
    {
     "name": "stderr",
     "output_type": "stream",
     "text": [
      "INFO:tensorflow:*** Available Device: _DeviceAttributes(/job:worker/replica:0/task:0/device:TPU:4, TPU, 0, 0)\n"
     ]
    },
    {
     "name": "stdout",
     "output_type": "stream",
     "text": [
      "INFO:tensorflow:*** Available Device: _DeviceAttributes(/job:worker/replica:0/task:0/device:TPU:5, TPU, 0, 0)\n"
     ]
    },
    {
     "name": "stderr",
     "output_type": "stream",
     "text": [
      "INFO:tensorflow:*** Available Device: _DeviceAttributes(/job:worker/replica:0/task:0/device:TPU:5, TPU, 0, 0)\n"
     ]
    },
    {
     "name": "stdout",
     "output_type": "stream",
     "text": [
      "INFO:tensorflow:*** Available Device: _DeviceAttributes(/job:worker/replica:0/task:0/device:TPU:6, TPU, 0, 0)\n"
     ]
    },
    {
     "name": "stderr",
     "output_type": "stream",
     "text": [
      "INFO:tensorflow:*** Available Device: _DeviceAttributes(/job:worker/replica:0/task:0/device:TPU:6, TPU, 0, 0)\n"
     ]
    },
    {
     "name": "stdout",
     "output_type": "stream",
     "text": [
      "INFO:tensorflow:*** Available Device: _DeviceAttributes(/job:worker/replica:0/task:0/device:TPU:7, TPU, 0, 0)\n"
     ]
    },
    {
     "name": "stderr",
     "output_type": "stream",
     "text": [
      "INFO:tensorflow:*** Available Device: _DeviceAttributes(/job:worker/replica:0/task:0/device:TPU:7, TPU, 0, 0)\n"
     ]
    },
    {
     "name": "stdout",
     "output_type": "stream",
     "text": [
      "INFO:tensorflow:*** Available Device: _DeviceAttributes(/job:worker/replica:0/task:0/device:TPU_SYSTEM:0, TPU_SYSTEM, 0, 0)\n"
     ]
    },
    {
     "name": "stderr",
     "output_type": "stream",
     "text": [
      "INFO:tensorflow:*** Available Device: _DeviceAttributes(/job:worker/replica:0/task:0/device:TPU_SYSTEM:0, TPU_SYSTEM, 0, 0)\n"
     ]
    },
    {
     "name": "stdout",
     "output_type": "stream",
     "text": [
      "INFO:tensorflow:*** Available Device: _DeviceAttributes(/job:worker/replica:0/task:0/device:XLA_CPU:0, XLA_CPU, 0, 0)\n"
     ]
    },
    {
     "name": "stderr",
     "output_type": "stream",
     "text": [
      "INFO:tensorflow:*** Available Device: _DeviceAttributes(/job:worker/replica:0/task:0/device:XLA_CPU:0, XLA_CPU, 0, 0)\n"
     ]
    }
   ],
   "source": [
    "# Adicionando módulos customizados ao path\n",
    "import sys\n",
    "import warnings\n",
    "warnings.filterwarnings('ignore')\n",
    "\n",
    "sys.path.append(BASE_PATH + '/modules')\n",
    "\n",
    "import utils, text, model\n",
    "from importlib import reload"
   ]
  },
  {
   "cell_type": "markdown",
   "metadata": {
    "id": "zzkKRX2gQGCn"
   },
   "source": [
    "# Leitura dos Dados"
   ]
  },
  {
   "cell_type": "code",
   "execution_count": null,
   "metadata": {
    "colab": {
     "base_uri": "https://localhost:8080/",
     "height": 564
    },
    "executionInfo": {
     "elapsed": 18,
     "status": "ok",
     "timestamp": 1629220467490,
     "user": {
      "displayName": "Bárbara Neves",
      "photoUrl": "https://lh3.googleusercontent.com/a-/AOh14GjAp_nU12lRGDLonAU6k8sURhdo84aDrahKT5_BTA=s64",
      "userId": "02067111595078707861"
     },
     "user_tz": 180
    },
    "id": "DvS9pfbaQHMH",
    "outputId": "6a539fc9-6d34-4d64-fa5e-c778bce56a12"
   },
   "outputs": [
    {
     "data": {
      "text/html": [
       "<div>\n",
       "<style scoped>\n",
       "    .dataframe tbody tr th:only-of-type {\n",
       "        vertical-align: middle;\n",
       "    }\n",
       "\n",
       "    .dataframe tbody tr th {\n",
       "        vertical-align: top;\n",
       "    }\n",
       "\n",
       "    .dataframe thead th {\n",
       "        text-align: right;\n",
       "    }\n",
       "</style>\n",
       "<table border=\"1\" class=\"dataframe\">\n",
       "  <thead>\n",
       "    <tr style=\"text-align: right;\">\n",
       "      <th></th>\n",
       "      <th>text</th>\n",
       "      <th>binary_label</th>\n",
       "      <th>binary_score</th>\n",
       "      <th>ternary_label</th>\n",
       "      <th>ternary_score</th>\n",
       "      <th>text_tokens</th>\n",
       "      <th>clean_text</th>\n",
       "      <th>text_tokens_count</th>\n",
       "      <th>clean_text_words2ignore</th>\n",
       "      <th>labels_enc</th>\n",
       "      <th>label_pos_0</th>\n",
       "      <th>label_pos_1</th>\n",
       "      <th>label_pos_2</th>\n",
       "    </tr>\n",
       "  </thead>\n",
       "  <tbody>\n",
       "    <tr>\n",
       "      <th>41210</th>\n",
       "      <td>head towards the center of the field, there's ...</td>\n",
       "      <td>1</td>\n",
       "      <td>0.7817</td>\n",
       "      <td>neutral</td>\n",
       "      <td>0.6021</td>\n",
       "      <td>['head', 'center', 'field', 'theres', 'large',...</td>\n",
       "      <td>head towards the center of the field theres a ...</td>\n",
       "      <td>35</td>\n",
       "      <td>head center field theres large scarecrow hes b...</td>\n",
       "      <td>2</td>\n",
       "      <td>0.0</td>\n",
       "      <td>0.0</td>\n",
       "      <td>1.0</td>\n",
       "    </tr>\n",
       "    <tr>\n",
       "      <th>51483</th>\n",
       "      <td>ah, but it has such a magnificent view, don't ...</td>\n",
       "      <td>1</td>\n",
       "      <td>0.6960</td>\n",
       "      <td>neutral</td>\n",
       "      <td>0.6968</td>\n",
       "      <td>['ah', 'magnificent', 'view', 'dont', 'think']</td>\n",
       "      <td>ah but it has such a magnificent view dont you...</td>\n",
       "      <td>11</td>\n",
       "      <td>ah magnificent view dont think</td>\n",
       "      <td>2</td>\n",
       "      <td>0.0</td>\n",
       "      <td>0.0</td>\n",
       "      <td>1.0</td>\n",
       "    </tr>\n",
       "    <tr>\n",
       "      <th>31685</th>\n",
       "      <td>oh my lord, just you.... i hoped you had some ...</td>\n",
       "      <td>1</td>\n",
       "      <td>0.6653</td>\n",
       "      <td>neutral</td>\n",
       "      <td>0.3772</td>\n",
       "      <td>['oh', 'lord', 'hoped', 'fine', 'stories', 'te...</td>\n",
       "      <td>oh my lord just you i hoped you had some fine ...</td>\n",
       "      <td>23</td>\n",
       "      <td>oh lord hoped fine stories tell town folk talk...</td>\n",
       "      <td>2</td>\n",
       "      <td>0.0</td>\n",
       "      <td>0.0</td>\n",
       "      <td>1.0</td>\n",
       "    </tr>\n",
       "    <tr>\n",
       "      <th>71783</th>\n",
       "      <td>i wonder where the other stable hands have gon...</td>\n",
       "      <td>1</td>\n",
       "      <td>0.7151</td>\n",
       "      <td>neutral</td>\n",
       "      <td>0.8316</td>\n",
       "      <td>['wonder', 'stable', 'hands', 'gone', 'makeshi...</td>\n",
       "      <td>i wonder where the other stable hands have gon...</td>\n",
       "      <td>33</td>\n",
       "      <td>wonder stable hands gone makeshift beds sacks ...</td>\n",
       "      <td>2</td>\n",
       "      <td>0.0</td>\n",
       "      <td>0.0</td>\n",
       "      <td>1.0</td>\n",
       "    </tr>\n",
       "    <tr>\n",
       "      <th>74876</th>\n",
       "      <td>okay this is a bit complicated so be ready to ...</td>\n",
       "      <td>1</td>\n",
       "      <td>0.6280</td>\n",
       "      <td>female</td>\n",
       "      <td>0.4044</td>\n",
       "      <td>['okay', 'bit', 'complicated', 'ready', 'liste...</td>\n",
       "      <td>okay this is a bit complicated so be ready to ...</td>\n",
       "      <td>12</td>\n",
       "      <td>okay bit complicated ready listen closely</td>\n",
       "      <td>0</td>\n",
       "      <td>1.0</td>\n",
       "      <td>0.0</td>\n",
       "      <td>0.0</td>\n",
       "    </tr>\n",
       "  </tbody>\n",
       "</table>\n",
       "</div>"
      ],
      "text/plain": [
       "                                                    text  ...  label_pos_2\n",
       "41210  head towards the center of the field, there's ...  ...          1.0\n",
       "51483  ah, but it has such a magnificent view, don't ...  ...          1.0\n",
       "31685  oh my lord, just you.... i hoped you had some ...  ...          1.0\n",
       "71783  i wonder where the other stable hands have gon...  ...          1.0\n",
       "74876  okay this is a bit complicated so be ready to ...  ...          0.0\n",
       "\n",
       "[5 rows x 13 columns]"
      ]
     },
     "execution_count": 5,
     "metadata": {
      "tags": []
     },
     "output_type": "execute_result"
    }
   ],
   "source": [
    "df = pd.read_csv(DATASETS_PATH + '/MDGender/md_gender_bias/light_inferred/new_data.csv')\n",
    "df = df.sample(n=50000, random_state=42)\n",
    "\n",
    "df.head()"
   ]
  },
  {
   "cell_type": "code",
   "execution_count": null,
   "metadata": {
    "id": "I80QT8nOctN3"
   },
   "outputs": [],
   "source": [
    "labels = ['female', 'male', 'neutral']"
   ]
  },
  {
   "cell_type": "markdown",
   "metadata": {
    "id": "dvTfL9qoSswi"
   },
   "source": [
    "# Treinamento do BERT *Classifier*\n",
    "\n",
    "<center>\n",
    "  <img width=\"700\" src=\"https://lena-voita.github.io/resources/lectures/transfer/bert/intro-min.png\"/>\n",
    "</center>"
   ]
  },
  {
   "cell_type": "markdown",
   "metadata": {
    "id": "AHrmWbWmS1aB"
   },
   "source": [
    "## Representação Textual\n",
    "\n",
    "<center>\n",
    "  <img width=\"700\" src=\"https://lena-voita.github.io/resources/lectures/transfer/bert/bert_input.gif\"/>\n",
    "</center>"
   ]
  },
  {
   "cell_type": "code",
   "execution_count": null,
   "metadata": {
    "colab": {
     "base_uri": "https://localhost:8080/",
     "height": 83,
     "referenced_widgets": [
      "c5b04b937ec24b5d9d7866d4234102bb",
      "cec7293075074e02abff6b60abbffb65",
      "97d10afea3ce4aab9674ae9fe7c10217",
      "6593193532fe44628e8a22c5d3c484f6",
      "88f7b51dd1704b749313a543ec8881fd",
      "449f559def394595bfb46dc9e4f123e6",
      "8180e5a73a1c4d3ea5c902b135656a24",
      "0e8d576e132d4085ab1b4645fbebc72a",
      "19d0c587c1a24576aec6fa1f1e670893",
      "0ded83b02aeb4e5d998be10e6a912592",
      "7dd65419395a426281d1103baca80b8e"
     ]
    },
    "executionInfo": {
     "elapsed": 29036,
     "status": "ok",
     "timestamp": 1629220496514,
     "user": {
      "displayName": "Bárbara Neves",
      "photoUrl": "https://lh3.googleusercontent.com/a-/AOh14GjAp_nU12lRGDLonAU6k8sURhdo84aDrahKT5_BTA=s64",
      "userId": "02067111595078707861"
     },
     "user_tz": 180
    },
    "id": "OB9mCGWdWuhb",
    "outputId": "c49757e0-4bb2-4bc5-dc94-7816956c13cb"
   },
   "outputs": [
    {
     "name": "stdout",
     "output_type": "stream",
     "text": [
      "Downloading BERT's tokenizer...\n"
     ]
    },
    {
     "data": {
      "application/vnd.jupyter.widget-view+json": {
       "model_id": "c5b04b937ec24b5d9d7866d4234102bb",
       "version_major": 2,
       "version_minor": 0
      },
      "text/plain": [
       "\n",
       "Text to sequences for BERT Classifier:   0%|          | 0/50000 [00:00<?, ?it/s]"
      ]
     },
     "metadata": {
      "tags": []
     },
     "output_type": "display_data"
    },
    {
     "name": "stdout",
     "output_type": "stream",
     "text": [
      "Padding the sequences...\n"
     ]
    }
   ],
   "source": [
    "padded_tokens_ids, padded_masked_ids = text.padding_sequences(df['clean_text'].to_numpy(), \n",
    "                                                              max_length=text.MAX_LENGTH)"
   ]
  },
  {
   "cell_type": "code",
   "execution_count": null,
   "metadata": {
    "colab": {
     "base_uri": "https://localhost:8080/"
    },
    "executionInfo": {
     "elapsed": 16,
     "status": "ok",
     "timestamp": 1629220496519,
     "user": {
      "displayName": "Bárbara Neves",
      "photoUrl": "https://lh3.googleusercontent.com/a-/AOh14GjAp_nU12lRGDLonAU6k8sURhdo84aDrahKT5_BTA=s64",
      "userId": "02067111595078707861"
     },
     "user_tz": 180
    },
    "id": "RhzN0K-IbXe6",
    "outputId": "ad5684f9-1b89-48af-e2d3-8f663039d334"
   },
   "outputs": [
    {
     "data": {
      "text/plain": [
       "((50000, 60), (50000, 60))"
      ]
     },
     "execution_count": 8,
     "metadata": {
      "tags": []
     },
     "output_type": "execute_result"
    }
   ],
   "source": [
    "padded_tokens_ids.shape, padded_masked_ids.shape"
   ]
  },
  {
   "cell_type": "markdown",
   "metadata": {
    "id": "CoSSiptFeGp8"
   },
   "source": [
    "## Divisão Estratificada"
   ]
  },
  {
   "cell_type": "code",
   "execution_count": null,
   "metadata": {
    "colab": {
     "base_uri": "https://localhost:8080/"
    },
    "executionInfo": {
     "elapsed": 21114,
     "status": "ok",
     "timestamp": 1629220517626,
     "user": {
      "displayName": "Bárbara Neves",
      "photoUrl": "https://lh3.googleusercontent.com/a-/AOh14GjAp_nU12lRGDLonAU6k8sURhdo84aDrahKT5_BTA=s64",
      "userId": "02067111595078707861"
     },
     "user_tz": 180
    },
    "id": "0VuyOwBUEIlu",
    "outputId": "575dec40-f1ca-4d3a-d0fe-cd3e51a3897e"
   },
   "outputs": [
    {
     "data": {
      "text/plain": [
       "(((36000, 60), (36000, 3)), ((10000, 60), (10000, 3)), ((4000, 60), (4000, 3)))"
      ]
     },
     "execution_count": 9,
     "metadata": {
      "tags": []
     },
     "output_type": "execute_result"
    }
   ],
   "source": [
    "dict_padded_tokens_ids = {k: v for k, v in enumerate(padded_tokens_ids)}\n",
    "dict_padded_masked_ids = {k: v for k, v in enumerate(padded_masked_ids)}\n",
    "\n",
    "y = df[['label_pos_0', 'label_pos_1', 'label_pos_2']].to_numpy()\n",
    "\n",
    "X_train_ids, y_train, X_test_ids, y_test, X_dev_ids, y_dev = text.data_split(padded_tokens_ids, y, test_size=0.2, dev_size=0.1, random_seed=42)\n",
    "\n",
    "(X_train_ids.shape, y_train.shape), (X_test_ids.shape, y_test.shape), (X_dev_ids.shape, y_dev.shape)"
   ]
  },
  {
   "cell_type": "code",
   "execution_count": null,
   "metadata": {
    "colab": {
     "base_uri": "https://localhost:8080/"
    },
    "executionInfo": {
     "elapsed": 30463,
     "status": "ok",
     "timestamp": 1629220548082,
     "user": {
      "displayName": "Bárbara Neves",
      "photoUrl": "https://lh3.googleusercontent.com/a-/AOh14GjAp_nU12lRGDLonAU6k8sURhdo84aDrahKT5_BTA=s64",
      "userId": "02067111595078707861"
     },
     "user_tz": 180
    },
    "id": "It1kI9UIv1QQ",
    "outputId": "9f2040ce-a7ca-47e9-8c66-6a1bd1ba6c83"
   },
   "outputs": [
    {
     "data": {
      "text/plain": [
       "((36000, 60), (10000, 60), (4000, 60))"
      ]
     },
     "execution_count": 10,
     "metadata": {
      "tags": []
     },
     "output_type": "execute_result"
    }
   ],
   "source": [
    "X_train_masks = np.array([dict_padded_masked_ids[i] for i in utils.get_keys_by_values(dict_padded_tokens_ids, X_train_ids)])\n",
    "X_test_masks = np.array([dict_padded_masked_ids[i] for i in utils.get_keys_by_values(dict_padded_tokens_ids, X_test_ids)])\n",
    "X_dev_masks = np.array([dict_padded_masked_ids[i] for i in utils.get_keys_by_values(dict_padded_tokens_ids, X_dev_ids)])\n",
    "\n",
    "X_train_masks.shape, X_test_masks.shape, X_dev_masks.shape"
   ]
  },
  {
   "cell_type": "code",
   "execution_count": null,
   "metadata": {
    "colab": {
     "base_uri": "https://localhost:8080/",
     "height": 124
    },
    "executionInfo": {
     "elapsed": 1287,
     "status": "ok",
     "timestamp": 1629220549358,
     "user": {
      "displayName": "Bárbara Neves",
      "photoUrl": "https://lh3.googleusercontent.com/a-/AOh14GjAp_nU12lRGDLonAU6k8sURhdo84aDrahKT5_BTA=s64",
      "userId": "02067111595078707861"
     },
     "user_tz": 180
    },
    "id": "rawEXQ7Pe38o",
    "outputId": "eb97f132-44bd-441f-d348-ecbab4c9e5b9"
   },
   "outputs": [
    {
     "data": {
      "text/html": [
       "<style  type=\"text/css\" >\n",
       "#T_c42be780_ff7e_11eb_bde8_0242ac1c0002row0_col0,#T_c42be780_ff7e_11eb_bde8_0242ac1c0002row0_col1,#T_c42be780_ff7e_11eb_bde8_0242ac1c0002row0_col2{\n",
       "            background-color:  #cccccc;\n",
       "            color:  #000000;\n",
       "        }#T_c42be780_ff7e_11eb_bde8_0242ac1c0002row1_col0,#T_c42be780_ff7e_11eb_bde8_0242ac1c0002row1_col1,#T_c42be780_ff7e_11eb_bde8_0242ac1c0002row1_col2{\n",
       "            background-color:  #fff2ae;\n",
       "            color:  #000000;\n",
       "        }#T_c42be780_ff7e_11eb_bde8_0242ac1c0002row2_col0,#T_c42be780_ff7e_11eb_bde8_0242ac1c0002row2_col1,#T_c42be780_ff7e_11eb_bde8_0242ac1c0002row2_col2{\n",
       "            background-color:  #fdcdac;\n",
       "            color:  #000000;\n",
       "        }#T_c42be780_ff7e_11eb_bde8_0242ac1c0002row3_col0,#T_c42be780_ff7e_11eb_bde8_0242ac1c0002row3_col1,#T_c42be780_ff7e_11eb_bde8_0242ac1c0002row3_col2{\n",
       "            background-color:  #b3e2cd;\n",
       "            color:  #000000;\n",
       "        }</style><table id=\"T_c42be780_ff7e_11eb_bde8_0242ac1c0002\" ><thead>    <tr>        <th class=\"blank level0\" ></th>        <th class=\"col_heading level0 col0\" >(2,)</th>        <th class=\"col_heading level0 col1\" >(0,)</th>        <th class=\"col_heading level0 col2\" >(1,)</th>    </tr></thead><tbody>\n",
       "                <tr>\n",
       "                        <th id=\"T_c42be780_ff7e_11eb_bde8_0242ac1c0002level0_row0\" class=\"row_heading level0 row0\" >data</th>\n",
       "                        <td id=\"T_c42be780_ff7e_11eb_bde8_0242ac1c0002row0_col0\" class=\"data row0 col0\" >31680</td>\n",
       "                        <td id=\"T_c42be780_ff7e_11eb_bde8_0242ac1c0002row0_col1\" class=\"data row0 col1\" >10612</td>\n",
       "                        <td id=\"T_c42be780_ff7e_11eb_bde8_0242ac1c0002row0_col2\" class=\"data row0 col2\" >7708</td>\n",
       "            </tr>\n",
       "            <tr>\n",
       "                        <th id=\"T_c42be780_ff7e_11eb_bde8_0242ac1c0002level0_row1\" class=\"row_heading level0 row1\" >train</th>\n",
       "                        <td id=\"T_c42be780_ff7e_11eb_bde8_0242ac1c0002row1_col0\" class=\"data row1 col0\" >22810</td>\n",
       "                        <td id=\"T_c42be780_ff7e_11eb_bde8_0242ac1c0002row1_col1\" class=\"data row1 col1\" >7641</td>\n",
       "                        <td id=\"T_c42be780_ff7e_11eb_bde8_0242ac1c0002row1_col2\" class=\"data row1 col2\" >5549</td>\n",
       "            </tr>\n",
       "            <tr>\n",
       "                        <th id=\"T_c42be780_ff7e_11eb_bde8_0242ac1c0002level0_row2\" class=\"row_heading level0 row2\" >test</th>\n",
       "                        <td id=\"T_c42be780_ff7e_11eb_bde8_0242ac1c0002row2_col0\" class=\"data row2 col0\" >6336</td>\n",
       "                        <td id=\"T_c42be780_ff7e_11eb_bde8_0242ac1c0002row2_col1\" class=\"data row2 col1\" >2122</td>\n",
       "                        <td id=\"T_c42be780_ff7e_11eb_bde8_0242ac1c0002row2_col2\" class=\"data row2 col2\" >1542</td>\n",
       "            </tr>\n",
       "            <tr>\n",
       "                        <th id=\"T_c42be780_ff7e_11eb_bde8_0242ac1c0002level0_row3\" class=\"row_heading level0 row3\" >dev</th>\n",
       "                        <td id=\"T_c42be780_ff7e_11eb_bde8_0242ac1c0002row3_col0\" class=\"data row3 col0\" >2534</td>\n",
       "                        <td id=\"T_c42be780_ff7e_11eb_bde8_0242ac1c0002row3_col1\" class=\"data row3 col1\" >849</td>\n",
       "                        <td id=\"T_c42be780_ff7e_11eb_bde8_0242ac1c0002row3_col2\" class=\"data row3 col2\" >617</td>\n",
       "            </tr>\n",
       "    </tbody></table>"
      ],
      "text/plain": [
       "<pandas.io.formats.style.Styler at 0x7f0c3c20d0d0>"
      ]
     },
     "execution_count": 11,
     "metadata": {
      "tags": []
     },
     "output_type": "execute_result"
    }
   ],
   "source": [
    "from collections import Counter\n",
    "from skmultilearn.model_selection.measures import get_combination_wise_output_matrix\n",
    "\n",
    "result_comb_matrix = pd.DataFrame({\n",
    "    'data': Counter(str(combination) for row in get_combination_wise_output_matrix(y, order=1) for combination in row),\n",
    "    'train': Counter(str(combination) for row in get_combination_wise_output_matrix(y_train, order=1) for combination in row),\n",
    "    'test' : Counter(str(combination) for row in get_combination_wise_output_matrix(y_test, order=1) for combination in row),\n",
    "    'dev' : Counter(str(combination) for row in get_combination_wise_output_matrix(y_dev, order=1) for combination in row)\n",
    "}).T.fillna(0.0)\n",
    "\n",
    "result_comb_matrix.style.background_gradient(cmap=plt.get_cmap('Pastel2'))"
   ]
  },
  {
   "cell_type": "code",
   "execution_count": null,
   "metadata": {
    "id": "0B_Afk-5-z3j"
   },
   "outputs": [],
   "source": [
    "test_data = pd.DataFrame(columns=['tokens_ids', 'masked_ids', 'y'])\n",
    "\n",
    "for ids, masks, y in zip(X_test_ids, X_test_masks, y_test):\n",
    "  test_data = test_data.append({\n",
    "      'tokens_ids': ids,\n",
    "      'masked_ids': masks,\n",
    "      'y': y\n",
    "  }, ignore_index=True)\n",
    "\n",
    "test_data.to_json(DATASETS_PATH + '/MDGender/md_gender_bias/light_inferred/padded_test_data.json', orient='records')"
   ]
  },
  {
   "cell_type": "markdown",
   "metadata": {
    "id": "yzGVt2OQfdTS"
   },
   "source": [
    "## Treino do Modelo"
   ]
  },
  {
   "cell_type": "code",
   "execution_count": null,
   "metadata": {
    "colab": {
     "base_uri": "https://localhost:8080/"
    },
    "executionInfo": {
     "elapsed": 1064172,
     "status": "ok",
     "timestamp": 1629221640423,
     "user": {
      "displayName": "Bárbara Neves",
      "photoUrl": "https://lh3.googleusercontent.com/a-/AOh14GjAp_nU12lRGDLonAU6k8sURhdo84aDrahKT5_BTA=s64",
      "userId": "02067111595078707861"
     },
     "user_tz": 180
    },
    "id": "3JmPR-60ib7u",
    "outputId": "07fcbedc-6edf-4533-bc3d-8adf1a63c677"
   },
   "outputs": [
    {
     "name": "stderr",
     "output_type": "stream",
     "text": [
      "All model checkpoint layers were used when initializing TFBertForSequenceClassification.\n",
      "\n",
      "Some layers of TFBertForSequenceClassification were not initialized from the model checkpoint at bert-base-uncased and are newly initialized: ['classifier']\n",
      "You should probably TRAIN this model on a down-stream task to be able to use it for predictions and inference.\n"
     ]
    },
    {
     "name": "stdout",
     "output_type": "stream",
     "text": [
      "WARNING:tensorflow:The parameters `output_attentions`, `output_hidden_states` and `use_cache` cannot be updated when calling a model.They have to be set to True/False in the config object (i.e.: `config=XConfig.from_pretrained('name', output_attentions=True)`).\n",
      "WARNING:tensorflow:AutoGraph could not transform <bound method Socket.send of <zmq.Socket(zmq.PUSH) at 0x7f0d25905ec0>> and will run it as-is.\n",
      "Please report this to the TensorFlow team. When filing the bug, set the verbosity to 10 (on Linux, `export AUTOGRAPH_VERBOSITY=10`) and attach the full output.\n",
      "Cause: module, class, method, function, traceback, frame, or code object was expected, got cython_function_or_method\n",
      "To silence this warning, decorate the function with @tf.autograph.experimental.do_not_convert\n"
     ]
    },
    {
     "name": "stderr",
     "output_type": "stream",
     "text": [
      "WARNING:tensorflow:AutoGraph could not transform <bound method Socket.send of <zmq.Socket(zmq.PUSH) at 0x7f0d25905ec0>> and will run it as-is.\n",
      "Please report this to the TensorFlow team. When filing the bug, set the verbosity to 10 (on Linux, `export AUTOGRAPH_VERBOSITY=10`) and attach the full output.\n",
      "Cause: module, class, method, function, traceback, frame, or code object was expected, got cython_function_or_method\n",
      "To silence this warning, decorate the function with @tf.autograph.experimental.do_not_convert\n"
     ]
    },
    {
     "name": "stdout",
     "output_type": "stream",
     "text": [
      "WARNING: AutoGraph could not transform <bound method Socket.send of <zmq.Socket(zmq.PUSH) at 0x7f0d25905ec0>> and will run it as-is.\n",
      "Please report this to the TensorFlow team. When filing the bug, set the verbosity to 10 (on Linux, `export AUTOGRAPH_VERBOSITY=10`) and attach the full output.\n",
      "Cause: module, class, method, function, traceback, frame, or code object was expected, got cython_function_or_method\n",
      "To silence this warning, decorate the function with @tf.autograph.experimental.do_not_convert\n"
     ]
    },
    {
     "name": "stderr",
     "output_type": "stream",
     "text": [
      "WARNING:tensorflow:The parameters `output_attentions`, `output_hidden_states` and `use_cache` cannot be updated when calling a model.They have to be set to True/False in the config object (i.e.: `config=XConfig.from_pretrained('name', output_attentions=True)`).\n"
     ]
    },
    {
     "name": "stdout",
     "output_type": "stream",
     "text": [
      "WARNING:tensorflow:AutoGraph could not transform <function wrap at 0x7f0d40ab49e0> and will run it as-is.\n",
      "Cause: while/else statement not yet supported\n",
      "To silence this warning, decorate the function with @tf.autograph.experimental.do_not_convert\n"
     ]
    },
    {
     "name": "stderr",
     "output_type": "stream",
     "text": [
      "WARNING:tensorflow:AutoGraph could not transform <function wrap at 0x7f0d40ab49e0> and will run it as-is.\n",
      "Cause: while/else statement not yet supported\n",
      "To silence this warning, decorate the function with @tf.autograph.experimental.do_not_convert\n"
     ]
    },
    {
     "name": "stdout",
     "output_type": "stream",
     "text": [
      "WARNING:tensorflow:The parameter `return_dict` cannot be set in graph mode and will always be set to `True`.\n",
      "WARNING: AutoGraph could not transform <function wrap at 0x7f0d40ab49e0> and will run it as-is.\n",
      "Cause: while/else statement not yet supported\n",
      "To silence this warning, decorate the function with @tf.autograph.experimental.do_not_convert\n"
     ]
    },
    {
     "name": "stderr",
     "output_type": "stream",
     "text": [
      "WARNING:tensorflow:The parameter `return_dict` cannot be set in graph mode and will always be set to `True`.\n"
     ]
    },
    {
     "name": "stdout",
     "output_type": "stream",
     "text": [
      "WARNING:tensorflow:From /usr/local/lib/python3.7/dist-packages/tensorflow/python/ops/array_ops.py:5049: calling gather (from tensorflow.python.ops.array_ops) with validate_indices is deprecated and will be removed in a future version.\n",
      "Instructions for updating:\n",
      "The `validate_indices` argument has no effect. Indices are always validated on CPU and never validated on GPU.\n"
     ]
    },
    {
     "name": "stderr",
     "output_type": "stream",
     "text": [
      "WARNING:tensorflow:From /usr/local/lib/python3.7/dist-packages/tensorflow/python/ops/array_ops.py:5049: calling gather (from tensorflow.python.ops.array_ops) with validate_indices is deprecated and will be removed in a future version.\n",
      "Instructions for updating:\n",
      "The `validate_indices` argument has no effect. Indices are always validated on CPU and never validated on GPU.\n"
     ]
    },
    {
     "name": "stdout",
     "output_type": "stream",
     "text": [
      "Model: \"model\"\n",
      "__________________________________________________________________________________________________\n",
      "Layer (type)                    Output Shape         Param #     Connected to                     \n",
      "==================================================================================================\n",
      "input_1 (InputLayer)            [(None, 60)]         0                                            \n",
      "__________________________________________________________________________________________________\n",
      "input_2 (InputLayer)            [(None, 60)]         0                                            \n",
      "__________________________________________________________________________________________________\n",
      "tf_bert_for_sequence_classifica TFSequenceClassifier 109483778   input_1[0][0]                    \n",
      "                                                                 input_2[0][0]                    \n",
      "__________________________________________________________________________________________________\n",
      "dense (Dense)                   (None, 128)          384         tf_bert_for_sequence_classificati\n",
      "__________________________________________________________________________________________________\n",
      "dense_1 (Dense)                 (None, 3)            387         dense[0][0]                      \n",
      "==================================================================================================\n",
      "Total params: 109,484,549\n",
      "Trainable params: 109,484,549\n",
      "Non-trainable params: 0\n",
      "__________________________________________________________________________________________________\n",
      "None\n",
      "Epoch 1/50\n",
      "WARNING:tensorflow:The parameters `output_attentions`, `output_hidden_states` and `use_cache` cannot be updated when calling a model.They have to be set to True/False in the config object (i.e.: `config=XConfig.from_pretrained('name', output_attentions=True)`).\n"
     ]
    },
    {
     "name": "stderr",
     "output_type": "stream",
     "text": [
      "WARNING:tensorflow:The parameters `output_attentions`, `output_hidden_states` and `use_cache` cannot be updated when calling a model.They have to be set to True/False in the config object (i.e.: `config=XConfig.from_pretrained('name', output_attentions=True)`).\n"
     ]
    },
    {
     "name": "stdout",
     "output_type": "stream",
     "text": [
      "WARNING:tensorflow:The parameter `return_dict` cannot be set in graph mode and will always be set to `True`.\n"
     ]
    },
    {
     "name": "stderr",
     "output_type": "stream",
     "text": [
      "WARNING:tensorflow:The parameter `return_dict` cannot be set in graph mode and will always be set to `True`.\n"
     ]
    },
    {
     "name": "stdout",
     "output_type": "stream",
     "text": [
      "WARNING:tensorflow:The parameters `output_attentions`, `output_hidden_states` and `use_cache` cannot be updated when calling a model.They have to be set to True/False in the config object (i.e.: `config=XConfig.from_pretrained('name', output_attentions=True)`).\n"
     ]
    },
    {
     "name": "stderr",
     "output_type": "stream",
     "text": [
      "WARNING:tensorflow:The parameters `output_attentions`, `output_hidden_states` and `use_cache` cannot be updated when calling a model.They have to be set to True/False in the config object (i.e.: `config=XConfig.from_pretrained('name', output_attentions=True)`).\n"
     ]
    },
    {
     "name": "stdout",
     "output_type": "stream",
     "text": [
      "WARNING:tensorflow:The parameter `return_dict` cannot be set in graph mode and will always be set to `True`.\n"
     ]
    },
    {
     "name": "stderr",
     "output_type": "stream",
     "text": [
      "WARNING:tensorflow:The parameter `return_dict` cannot be set in graph mode and will always be set to `True`.\n"
     ]
    },
    {
     "name": "stdout",
     "output_type": "stream",
     "text": [
      "   6/1125 [..............................] - ETA: 1:11 - loss: 0.6939 - auc: 0.4916WARNING:tensorflow:Callback method `on_train_batch_end` is slow compared to the batch time (batch time: 0.0085s vs `on_train_batch_end` time: 7.0258s). Check your callbacks.\n"
     ]
    },
    {
     "name": "stderr",
     "output_type": "stream",
     "text": [
      "WARNING:tensorflow:Callback method `on_train_batch_end` is slow compared to the batch time (batch time: 0.0085s vs `on_train_batch_end` time: 7.0258s). Check your callbacks.\n"
     ]
    },
    {
     "name": "stdout",
     "output_type": "stream",
     "text": [
      "1125/1125 [==============================] - ETA: 0s - loss: 0.3573 - auc: 0.8725WARNING:tensorflow:The parameters `output_attentions`, `output_hidden_states` and `use_cache` cannot be updated when calling a model.They have to be set to True/False in the config object (i.e.: `config=XConfig.from_pretrained('name', output_attentions=True)`).\n"
     ]
    },
    {
     "name": "stderr",
     "output_type": "stream",
     "text": [
      "WARNING:tensorflow:The parameters `output_attentions`, `output_hidden_states` and `use_cache` cannot be updated when calling a model.They have to be set to True/False in the config object (i.e.: `config=XConfig.from_pretrained('name', output_attentions=True)`).\n"
     ]
    },
    {
     "name": "stdout",
     "output_type": "stream",
     "text": [
      "WARNING:tensorflow:The parameter `return_dict` cannot be set in graph mode and will always be set to `True`.\n"
     ]
    },
    {
     "name": "stderr",
     "output_type": "stream",
     "text": [
      "WARNING:tensorflow:The parameter `return_dict` cannot be set in graph mode and will always be set to `True`.\n"
     ]
    },
    {
     "name": "stdout",
     "output_type": "stream",
     "text": [
      "\b\b\b\b\b\b\b\b\b\b\b\b\b\b\b\b\b\b\b\b\b\b\b\b\b\b\b\b\b\b\b\b\b\b\b\b\b\b\b\b\b\b\b\b\b\b\b\b\b\b\b\b\b\b\b\b\b\b\b\b\b\b\b\b\b\b\b\b\b\b\b\b\b\b\b\b\b\b\b\b\b\r",
      "1125/1125 [==============================] - 145s 71ms/step - loss: 0.3573 - auc: 0.8725 - val_loss: 0.2638 - val_auc: 0.9382\n",
      "\n",
      "Epoch 00001: val_auc improved from -inf to 0.93823, saving model to /content/drive/MyDrive/Ciência de Dados/Projeto Final/Resources/Models/best_bert_linear_classifier2_light.h5\n",
      "Epoch 2/50\n",
      "1125/1125 [==============================] - 74s 66ms/step - loss: 0.1856 - auc: 0.9676 - val_loss: 0.2597 - val_auc: 0.9409\n",
      "\n",
      "Epoch 00002: val_auc improved from 0.93823 to 0.94089, saving model to /content/drive/MyDrive/Ciência de Dados/Projeto Final/Resources/Models/best_bert_linear_classifier2_light.h5\n",
      "Epoch 3/50\n",
      "1125/1125 [==============================] - 74s 66ms/step - loss: 0.0984 - auc: 0.9895 - val_loss: 0.3012 - val_auc: 0.9336\n",
      "\n",
      "Epoch 00003: val_auc did not improve from 0.94089\n",
      "Epoch 4/50\n",
      "1125/1125 [==============================] - 75s 67ms/step - loss: 0.0597 - auc: 0.9954 - val_loss: 0.3477 - val_auc: 0.9279\n",
      "\n",
      "Epoch 00004: val_auc did not improve from 0.94089\n",
      "Epoch 5/50\n",
      "1125/1125 [==============================] - 73s 65ms/step - loss: 0.0435 - auc: 0.9972 - val_loss: 0.4044 - val_auc: 0.9078\n",
      "\n",
      "Epoch 00005: val_auc did not improve from 0.94089\n",
      "Epoch 6/50\n",
      "1125/1125 [==============================] - 73s 65ms/step - loss: 0.0336 - auc: 0.9979 - val_loss: 0.3866 - val_auc: 0.9187\n",
      "\n",
      "Epoch 00006: val_auc did not improve from 0.94089\n",
      "Epoch 7/50\n",
      "1125/1125 [==============================] - 72s 64ms/step - loss: 0.0278 - auc: 0.9980 - val_loss: 0.4559 - val_auc: 0.8991\n",
      "\n",
      "Epoch 00007: val_auc did not improve from 0.94089\n",
      "Epoch 8/50\n",
      "1125/1125 [==============================] - 72s 64ms/step - loss: 0.0261 - auc: 0.9983 - val_loss: 0.4298 - val_auc: 0.9120\n",
      "\n",
      "Epoch 00008: val_auc did not improve from 0.94089\n",
      "Epoch 9/50\n",
      "1125/1125 [==============================] - 74s 66ms/step - loss: 0.0213 - auc: 0.9982 - val_loss: 0.4779 - val_auc: 0.8967\n",
      "\n",
      "Epoch 00009: val_auc did not improve from 0.94089\n",
      "Epoch 10/50\n",
      "1125/1125 [==============================] - 72s 64ms/step - loss: 0.0203 - auc: 0.9988 - val_loss: 0.5090 - val_auc: 0.8969\n",
      "\n",
      "Epoch 00010: val_auc did not improve from 0.94089\n",
      "Epoch 11/50\n",
      "1125/1125 [==============================] - 73s 65ms/step - loss: 0.0189 - auc: 0.9989 - val_loss: 0.5628 - val_auc: 0.8760\n",
      "\n",
      "Epoch 00011: val_auc did not improve from 0.94089\n",
      "Epoch 12/50\n",
      "1125/1125 [==============================] - 73s 65ms/step - loss: 0.0182 - auc: 0.9987 - val_loss: 0.4932 - val_auc: 0.8992\n",
      "\n",
      "Epoch 00012: val_auc did not improve from 0.94089\n"
     ]
    }
   ],
   "source": [
    "np.random.seed(42)\n",
    "tf.random.set_seed(42)\n",
    "\n",
    "auc_score = AUC(multi_label=True)\n",
    "# f1_score = F1Score(num_classes=y.shape[1], threshold=0.5, average='weighted')\n",
    "\n",
    "model_path = BASE_PATH + '/resources/models/best_bert_linear_classifier2_light.h5'\n",
    "\n",
    "model_meta = model.run_text_classifier(model.bert_linear_classifier2,\n",
    "                                       [X_train_ids, X_train_masks], y_train,\n",
    "                                       [X_dev_ids, X_dev_masks], y_dev,\n",
    "                                       batch_size=32,\n",
    "                                       max_epochs=50,\n",
    "                                       patience=10,\n",
    "                                       eval_metric=auc_score,\n",
    "                                       monitor='val_auc',\n",
    "                                       source_length=text.MAX_LENGTH,\n",
    "                                       hidden_units=128,\n",
    "                                       labels_size=len(labels), \n",
    "                                       model_path=model_path)"
   ]
  },
  {
   "cell_type": "code",
   "execution_count": null,
   "metadata": {
    "colab": {
     "base_uri": "https://localhost:8080/"
    },
    "executionInfo": {
     "elapsed": 27,
     "status": "ok",
     "timestamp": 1629221640426,
     "user": {
      "displayName": "Bárbara Neves",
      "photoUrl": "https://lh3.googleusercontent.com/a-/AOh14GjAp_nU12lRGDLonAU6k8sURhdo84aDrahKT5_BTA=s64",
      "userId": "02067111595078707861"
     },
     "user_tz": 180
    },
    "id": "2uMFHJrwoipg",
    "outputId": "c991abbd-1bb6-4f9b-badb-c6468f4d3aa6"
   },
   "outputs": [
    {
     "data": {
      "text/plain": [
       "('00:15:52', '17/08/2021 14:17', '17/08/2021 14:34')"
      ]
     },
     "execution_count": 14,
     "metadata": {
      "tags": []
     },
     "output_type": "execute_result"
    }
   ],
   "source": [
    "model_meta['run_time'], model_meta['start'], model_meta['final']"
   ]
  },
  {
   "cell_type": "code",
   "execution_count": null,
   "metadata": {
    "colab": {
     "base_uri": "https://localhost:8080/",
     "height": 449
    },
    "executionInfo": {
     "elapsed": 591,
     "status": "ok",
     "timestamp": 1629221641003,
     "user": {
      "displayName": "Bárbara Neves",
      "photoUrl": "https://lh3.googleusercontent.com/a-/AOh14GjAp_nU12lRGDLonAU6k8sURhdo84aDrahKT5_BTA=s64",
      "userId": "02067111595078707861"
     },
     "user_tz": 180
    },
    "id": "L8GGLbsQBQsJ",
    "outputId": "61cc6b11-ce02-45c2-b482-de6f49ad0ee6"
   },
   "outputs": [
    {
     "data": {
      "image/png": "[encoded data removed]",
      "text/plain": [
       "<Figure size 1440x720 with 2 Axes>"
      ]
     },
     "metadata": {
      "needs_background": "light",
      "tags": []
     },
     "output_type": "display_data"
    }
   ],
   "source": [
    "model.plot_model_loss_score(model_meta['history'], score_name='auc')"
   ]
  },
  {
   "cell_type": "code",
   "execution_count": null,
   "metadata": {
    "colab": {
     "base_uri": "https://localhost:8080/"
    },
    "executionInfo": {
     "elapsed": 51588,
     "status": "ok",
     "timestamp": 1629221692584,
     "user": {
      "displayName": "Bárbara Neves",
      "photoUrl": "https://lh3.googleusercontent.com/a-/AOh14GjAp_nU12lRGDLonAU6k8sURhdo84aDrahKT5_BTA=s64",
      "userId": "02067111595078707861"
     },
     "user_tz": 180
    },
    "id": "XgR5o0titxCi",
    "outputId": "5f4c5c4f-85e5-498b-d14a-e33ae8205860"
   },
   "outputs": [
    {
     "name": "stderr",
     "output_type": "stream",
     "text": [
      "INFO:absl:TPU has inputs with dynamic shapes: [<tf.Tensor 'Const:0' shape=() dtype=int32>, <tf.Tensor 'cond_8/Identity:0' shape=(None, 60) dtype=int32>, <tf.Tensor 'cond_8/Identity_1:0' shape=(None, 60) dtype=int32>]\n"
     ]
    },
    {
     "name": "stdout",
     "output_type": "stream",
     "text": [
      "WARNING:tensorflow:The parameters `output_attentions`, `output_hidden_states` and `use_cache` cannot be updated when calling a model.They have to be set to True/False in the config object (i.e.: `config=XConfig.from_pretrained('name', output_attentions=True)`).\n"
     ]
    },
    {
     "name": "stderr",
     "output_type": "stream",
     "text": [
      "WARNING:tensorflow:The parameters `output_attentions`, `output_hidden_states` and `use_cache` cannot be updated when calling a model.They have to be set to True/False in the config object (i.e.: `config=XConfig.from_pretrained('name', output_attentions=True)`).\n"
     ]
    },
    {
     "name": "stdout",
     "output_type": "stream",
     "text": [
      "WARNING:tensorflow:The parameter `return_dict` cannot be set in graph mode and will always be set to `True`.\n"
     ]
    },
    {
     "name": "stderr",
     "output_type": "stream",
     "text": [
      "WARNING:tensorflow:The parameter `return_dict` cannot be set in graph mode and will always be set to `True`.\n"
     ]
    },
    {
     "name": "stdout",
     "output_type": "stream",
     "text": [
      "              precision    recall  f1-score   support\n",
      "\n",
      "      female       0.78      0.66      0.71      2122\n",
      "        male       0.83      0.65      0.73      1542\n",
      "     neutral       0.85      0.94      0.89      6336\n",
      "\n",
      "   micro avg       0.83      0.84      0.83     10000\n",
      "   macro avg       0.82      0.75      0.78     10000\n",
      "weighted avg       0.83      0.84      0.83     10000\n",
      " samples avg       0.83      0.84      0.83     10000\n",
      "\n"
     ]
    }
   ],
   "source": [
    "model_meta['model'].load_weights(model_path)\n",
    "y_pred = np.rint(model_meta['model'].predict([X_test_ids, X_test_masks]))\n",
    "\n",
    "print(classification_report(y_test, y_pred, target_names=labels))"
   ]
  }
 ],
 "metadata": {
  "accelerator": "TPU",
  "colab": {
   "collapsed_sections": [],
   "name": "4 - BERT Classifier for LIGHT.ipynb",
   "provenance": [],
   "toc_visible": true
  },
  "kernelspec": {
   "display_name": "Python 3",
   "language": "python",
   "name": "python3"
  },
  "language_info": {
   "codemirror_mode": {
    "name": "ipython",
    "version": 3
   },
   "file_extension": ".py",
   "mimetype": "text/x-python",
   "name": "python",
   "nbconvert_exporter": "python",
   "pygments_lexer": "ipython3",
   "version": "3.8.10"
  },
  "widgets": {
   "application/vnd.jupyter.widget-state+json": {
    "0ded83b02aeb4e5d998be10e6a912592": {
     "model_module": "@jupyter-widgets/controls",
     "model_module_version": "1.5.0",
     "model_name": "DescriptionStyleModel",
     "state": {
      "_model_module": "@jupyter-widgets/controls",
      "_model_module_version": "1.5.0",
      "_model_name": "DescriptionStyleModel",
      "_view_count": null,
      "_view_module": "@jupyter-widgets/base",
      "_view_module_version": "1.2.0",
      "_view_name": "StyleView",
      "description_width": ""
     }
    },
    "0e8d576e132d4085ab1b4645fbebc72a": {
     "model_module": "@jupyter-widgets/controls",
     "model_module_version": "1.5.0",
     "model_name": "ProgressStyleModel",
     "state": {
      "_model_module": "@jupyter-widgets/controls",
      "_model_module_version": "1.5.0",
      "_model_name": "ProgressStyleModel",
      "_view_count": null,
      "_view_module": "@jupyter-widgets/base",
      "_view_module_version": "1.2.0",
      "_view_name": "StyleView",
      "bar_color": null,
      "description_width": ""
     }
    },
    "19d0c587c1a24576aec6fa1f1e670893": {
     "model_module": "@jupyter-widgets/base",
     "model_module_version": "1.2.0",
     "model_name": "LayoutModel",
     "state": {
      "_model_module": "@jupyter-widgets/base",
      "_model_module_version": "1.2.0",
      "_model_name": "LayoutModel",
      "_view_count": null,
      "_view_module": "@jupyter-widgets/base",
      "_view_module_version": "1.2.0",
      "_view_name": "LayoutView",
      "align_content": null,
      "align_items": null,
      "align_self": null,
      "border": null,
      "bottom": null,
      "display": null,
      "flex": null,
      "flex_flow": null,
      "grid_area": null,
      "grid_auto_columns": null,
      "grid_auto_flow": null,
      "grid_auto_rows": null,
      "grid_column": null,
      "grid_gap": null,
      "grid_row": null,
      "grid_template_areas": null,
      "grid_template_columns": null,
      "grid_template_rows": null,
      "height": null,
      "justify_content": null,
      "justify_items": null,
      "left": null,
      "margin": null,
      "max_height": null,
      "max_width": null,
      "min_height": null,
      "min_width": null,
      "object_fit": null,
      "object_position": null,
      "order": null,
      "overflow": null,
      "overflow_x": null,
      "overflow_y": null,
      "padding": null,
      "right": null,
      "top": null,
      "visibility": null,
      "width": null
     }
    },
    "449f559def394595bfb46dc9e4f123e6": {
     "model_module": "@jupyter-widgets/controls",
     "model_module_version": "1.5.0",
     "model_name": "DescriptionStyleModel",
     "state": {
      "_model_module": "@jupyter-widgets/controls",
      "_model_module_version": "1.5.0",
      "_model_name": "DescriptionStyleModel",
      "_view_count": null,
      "_view_module": "@jupyter-widgets/base",
      "_view_module_version": "1.2.0",
      "_view_name": "StyleView",
      "description_width": ""
     }
    },
    "6593193532fe44628e8a22c5d3c484f6": {
     "model_module": "@jupyter-widgets/controls",
     "model_module_version": "1.5.0",
     "model_name": "FloatProgressModel",
     "state": {
      "_dom_classes": [],
      "_model_module": "@jupyter-widgets/controls",
      "_model_module_version": "1.5.0",
      "_model_name": "FloatProgressModel",
      "_view_count": null,
      "_view_module": "@jupyter-widgets/controls",
      "_view_module_version": "1.5.0",
      "_view_name": "ProgressView",
      "bar_style": "success",
      "description": "",
      "description_tooltip": null,
      "layout": "IPY_MODEL_19d0c587c1a24576aec6fa1f1e670893",
      "max": 50000,
      "min": 0,
      "orientation": "horizontal",
      "style": "IPY_MODEL_0e8d576e132d4085ab1b4645fbebc72a",
      "value": 50000
     }
    },
    "7dd65419395a426281d1103baca80b8e": {
     "model_module": "@jupyter-widgets/base",
     "model_module_version": "1.2.0",
     "model_name": "LayoutModel",
     "state": {
      "_model_module": "@jupyter-widgets/base",
      "_model_module_version": "1.2.0",
      "_model_name": "LayoutModel",
      "_view_count": null,
      "_view_module": "@jupyter-widgets/base",
      "_view_module_version": "1.2.0",
      "_view_name": "LayoutView",
      "align_content": null,
      "align_items": null,
      "align_self": null,
      "border": null,
      "bottom": null,
      "display": null,
      "flex": null,
      "flex_flow": null,
      "grid_area": null,
      "grid_auto_columns": null,
      "grid_auto_flow": null,
      "grid_auto_rows": null,
      "grid_column": null,
      "grid_gap": null,
      "grid_row": null,
      "grid_template_areas": null,
      "grid_template_columns": null,
      "grid_template_rows": null,
      "height": null,
      "justify_content": null,
      "justify_items": null,
      "left": null,
      "margin": null,
      "max_height": null,
      "max_width": null,
      "min_height": null,
      "min_width": null,
      "object_fit": null,
      "object_position": null,
      "order": null,
      "overflow": null,
      "overflow_x": null,
      "overflow_y": null,
      "padding": null,
      "right": null,
      "top": null,
      "visibility": null,
      "width": null
     }
    },
    "8180e5a73a1c4d3ea5c902b135656a24": {
     "model_module": "@jupyter-widgets/base",
     "model_module_version": "1.2.0",
     "model_name": "LayoutModel",
     "state": {
      "_model_module": "@jupyter-widgets/base",
      "_model_module_version": "1.2.0",
      "_model_name": "LayoutModel",
      "_view_count": null,
      "_view_module": "@jupyter-widgets/base",
      "_view_module_version": "1.2.0",
      "_view_name": "LayoutView",
      "align_content": null,
      "align_items": null,
      "align_self": null,
      "border": null,
      "bottom": null,
      "display": null,
      "flex": null,
      "flex_flow": null,
      "grid_area": null,
      "grid_auto_columns": null,
      "grid_auto_flow": null,
      "grid_auto_rows": null,
      "grid_column": null,
      "grid_gap": null,
      "grid_row": null,
      "grid_template_areas": null,
      "grid_template_columns": null,
      "grid_template_rows": null,
      "height": null,
      "justify_content": null,
      "justify_items": null,
      "left": null,
      "margin": null,
      "max_height": null,
      "max_width": null,
      "min_height": null,
      "min_width": null,
      "object_fit": null,
      "object_position": null,
      "order": null,
      "overflow": null,
      "overflow_x": null,
      "overflow_y": null,
      "padding": null,
      "right": null,
      "top": null,
      "visibility": null,
      "width": null
     }
    },
    "88f7b51dd1704b749313a543ec8881fd": {
     "model_module": "@jupyter-widgets/controls",
     "model_module_version": "1.5.0",
     "model_name": "HTMLModel",
     "state": {
      "_dom_classes": [],
      "_model_module": "@jupyter-widgets/controls",
      "_model_module_version": "1.5.0",
      "_model_name": "HTMLModel",
      "_view_count": null,
      "_view_module": "@jupyter-widgets/controls",
      "_view_module_version": "1.5.0",
      "_view_name": "HTMLView",
      "description": "",
      "description_tooltip": null,
      "layout": "IPY_MODEL_7dd65419395a426281d1103baca80b8e",
      "placeholder": "​",
      "style": "IPY_MODEL_0ded83b02aeb4e5d998be10e6a912592",
      "value": " 50000/50000 [00:27&lt;00:00, 1785.43it/s]"
     }
    },
    "97d10afea3ce4aab9674ae9fe7c10217": {
     "model_module": "@jupyter-widgets/controls",
     "model_module_version": "1.5.0",
     "model_name": "HTMLModel",
     "state": {
      "_dom_classes": [],
      "_model_module": "@jupyter-widgets/controls",
      "_model_module_version": "1.5.0",
      "_model_name": "HTMLModel",
      "_view_count": null,
      "_view_module": "@jupyter-widgets/controls",
      "_view_module_version": "1.5.0",
      "_view_name": "HTMLView",
      "description": "",
      "description_tooltip": null,
      "layout": "IPY_MODEL_8180e5a73a1c4d3ea5c902b135656a24",
      "placeholder": "​",
      "style": "IPY_MODEL_449f559def394595bfb46dc9e4f123e6",
      "value": "\nText to sequences for BERT Classifier: 100%"
     }
    },
    "c5b04b937ec24b5d9d7866d4234102bb": {
     "model_module": "@jupyter-widgets/controls",
     "model_module_version": "1.5.0",
     "model_name": "HBoxModel",
     "state": {
      "_dom_classes": [],
      "_model_module": "@jupyter-widgets/controls",
      "_model_module_version": "1.5.0",
      "_model_name": "HBoxModel",
      "_view_count": null,
      "_view_module": "@jupyter-widgets/controls",
      "_view_module_version": "1.5.0",
      "_view_name": "HBoxView",
      "box_style": "",
      "children": [
       "IPY_MODEL_97d10afea3ce4aab9674ae9fe7c10217",
       "IPY_MODEL_6593193532fe44628e8a22c5d3c484f6",
       "IPY_MODEL_88f7b51dd1704b749313a543ec8881fd"
      ],
      "layout": "IPY_MODEL_cec7293075074e02abff6b60abbffb65"
     }
    },
    "cec7293075074e02abff6b60abbffb65": {
     "model_module": "@jupyter-widgets/base",
     "model_module_version": "1.2.0",
     "model_name": "LayoutModel",
     "state": {
      "_model_module": "@jupyter-widgets/base",
      "_model_module_version": "1.2.0",
      "_model_name": "LayoutModel",
      "_view_count": null,
      "_view_module": "@jupyter-widgets/base",
      "_view_module_version": "1.2.0",
      "_view_name": "LayoutView",
      "align_content": null,
      "align_items": null,
      "align_self": null,
      "border": null,
      "bottom": null,
      "display": null,
      "flex": null,
      "flex_flow": null,
      "grid_area": null,
      "grid_auto_columns": null,
      "grid_auto_flow": null,
      "grid_auto_rows": null,
      "grid_column": null,
      "grid_gap": null,
      "grid_row": null,
      "grid_template_areas": null,
      "grid_template_columns": null,
      "grid_template_rows": null,
      "height": null,
      "justify_content": null,
      "justify_items": null,
      "left": null,
      "margin": null,
      "max_height": null,
      "max_width": null,
      "min_height": null,
      "min_width": null,
      "object_fit": null,
      "object_position": null,
      "order": null,
      "overflow": null,
      "overflow_x": null,
      "overflow_y": null,
      "padding": null,
      "right": null,
      "top": null,
      "visibility": null,
      "width": null
     }
    }
   }
  }
 },
 "nbformat": 4,
 "nbformat_minor": 1
}
