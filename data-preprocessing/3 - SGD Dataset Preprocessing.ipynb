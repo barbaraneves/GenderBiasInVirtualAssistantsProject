{
 "cells": [
  {
   "cell_type": "markdown",
   "metadata": {
    "id": "PYQz0KmRNRua"
   },
   "source": [
    "# *Gender Bias in Virtual Assistants Project*\n",
    "\n",
    "### Identificando Preconceitos de Gênero em Assistentes Virtuais\n",
    "\n",
    "![From Google](https://media-assets-01.thedrum.com/cache/images/thedrum-prod/s3-news-tmp-145694-untitled_design_70--default--1280.png)\n",
    "\n",
    "### Equipe formada por\n",
    "- Bárbara Stéphanie Neves Oliveira, 507526\n",
    "- Lucas Benjamim Cunha Bandeira, 507533\n",
    "- Samir Braga Chaves, 513788\n",
    "- Vinicius Bernardo Gabriel, 475210\n"
   ]
  },
  {
   "cell_type": "markdown",
   "metadata": {
    "id": "kT79PaUIOHY1"
   },
   "source": [
    "# *Schema-Guided Dialogue Dataset*\n",
    "\n",
    "<center>\n",
    "  <img width=\"500\" src=\"https://drive.google.com/uc?id=1n7-dx6YyjwOKJFewyk0gtjNPD-0UB8OQ\"/>\n",
    "</center>\n",
    "\n",
    "---\n",
    "\n",
    "### Descrição do *Schema-Guided Dialogue* *Dataset*\n",
    "\n",
    "- ***Schema* dos dados:**\n",
    "\n",
    "```json\n",
    "{\n",
    "  \"dialogue_id\": \"string\",\n",
    "  \"services\": {\n",
    "    \"[]\": \"string\"\n",
    "  },\n",
    "  \"turns\": {\n",
    "    \"[]\": {\n",
    "      \"frames\": {\n",
    "        \"[]\": {\n",
    "          \"actions\": {\n",
    "            \"[]\": {\n",
    "              \"act\": [\n",
    "                \"string\"\n",
    "              ],\n",
    "              \"canonical_values\": {\n",
    "                \"[]\": \"string\"\n",
    "              },\n",
    "              \"slot\": \"string\",\n",
    "              \"values\": {\n",
    "                \"[]\": \"string\"\n",
    "              }\n",
    "            }\n",
    "          },\n",
    "          \"service\": \"string\",\n",
    "          \"service_call\": {\n",
    "            \"method\": \"string\",\n",
    "            \"parameters\": {\n",
    "              \"[]\": {\n",
    "                \"parameter_canonical_value\": \"string\",\n",
    "                \"parameter_slot_name\": \"string\"\n",
    "              }\n",
    "            }\n",
    "          },\n",
    "          \"service_results\": {\n",
    "            \"[]\": {\n",
    "              \"service_results_list\": {\n",
    "                \"[]\": {\n",
    "                  \"service_canonical_value\": \"string\",\n",
    "                  \"service_slot_name\": \"string\"\n",
    "                }\n",
    "              }\n",
    "            }\n",
    "          },\n",
    "          \"slots\": {\n",
    "            \"[]\": {\n",
    "              \"exclusive_end\": \"int32\",\n",
    "              \"slot\": \"string\",\n",
    "              \"start\": \"int32\"\n",
    "            }\n",
    "          },\n",
    "          \"state\": {\n",
    "            \"active_intent\": \"string\",\n",
    "            \"requested_slots\": {\n",
    "              \"[]\": \"string\"\n",
    "            },\n",
    "            \"slot_values\": {\n",
    "              \"[]\": {\n",
    "                \"slot_name\": \"string\",\n",
    "                \"slot_value_list\": {\n",
    "                  \"[]\": \"string\"\n",
    "                }\n",
    "              }\n",
    "            }\n",
    "          }\n",
    "        }\n",
    "      },\n",
    "      \"speaker\": [\n",
    "        \"USER\",\n",
    "        \"SYSTEM\"\n",
    "      ],\n",
    "      \"utterance\": \"string\"\n",
    "    }\n",
    "  }\n",
    "}\n",
    "```\n",
    "\n",
    "- **Sumário:** \n",
    "  - As partes relevantes para o nosso trabalho estão na feature `turns`, principalmente em no campo `utterance`, que é o texto em linguagem natural e o campo `speaker`, que indica quem disse o texto em `utterance`. Outros atributos que podemos levar em consideração é o tipo de serviço que está sendo prestado, dessa forma podemos avaliar a distribuição de viez de gênero e toxicidade dos comentários através dos domínios e serviços.\n",
    "  - Campos do *schema* dos dados\n",
    "    - `service_name` - nome único para o serviço\n",
    "    - `description` - descrição em linguagem natural do serviço\n",
    "    - `slots` - lista de atributos que correspondem as entidades presentes nos serviços. Cada *slot* posui os seguintes campos:\n",
    "      - `name` - nome do *slot*\n",
    "      - `description` - descrição do *slot* em linguagem natural\n",
    "      - `is_categorical` - se verdadeiro, o *slot* pussui um conjunto fixo de valores\n",
    "      - `possible_values` - lista de possíveis valores que o *slot* pode conter\n",
    "      - `intents` - lista de tarefas suportadas pelo serviço. Contendo:\n",
    "        - `name` - nome da tarefa\n",
    "        - `description` - tarefa descrita em linguagem natural\n",
    "        - `is_transactional` - valor booleano\n",
    "        - `required_slots` - lista dos nomes dos *slots* necessários antes de chamar o serviço\n",
    "        - `result_slots` - lista dos nomes dos *slots* que estão presentes nos resutados da chamada ao serviço"
   ]
  },
  {
   "cell_type": "markdown",
   "metadata": {
    "id": "uBNyKIpgNg3Q"
   },
   "source": [
    "# Imports"
   ]
  },
  {
   "cell_type": "code",
   "execution_count": null,
   "metadata": {
    "id": "1kgA_kk1wZWr"
   },
   "outputs": [],
   "source": [
    "import pandas as pd\n",
    "import numpy as np\n",
    "\n",
    "from datasets import load_dataset, concatenate_datasets\n",
    "import matplotlib.pyplot as plt\n",
    "import seaborn as sns\n",
    "\n",
    "# Pré-processamento de textos\n",
    "import string\n",
    "from spacy.lang.en import STOP_WORDS\n",
    "\n",
    "CMAP_ICEFIRE = plt.get_cmap('icefire')\n",
    "DEFAULT_FONT_SIZE = 14\n",
    "plt.rcParams['font.size'] = DEFAULT_FONT_SIZE\n",
    "\n",
    "BASE_PATH = '.'\n",
    "DATASETS_PATH = BASE_PATH + \"/resources/datasets\""
   ]
  },
  {
   "cell_type": "code",
   "execution_count": null,
   "metadata": {
    "id": "SmCv0nCT62sS"
   },
   "outputs": [],
   "source": [
    "# Adicionando módulos customizados ao path\n",
    "import sys\n",
    "import warnings\n",
    "warnings.filterwarnings('ignore')\n",
    "\n",
    "sys.path.append(BASE_PATH + '/modules')\n",
    "import utils\n",
    "import text\n",
    "from importlib import reload"
   ]
  },
  {
   "cell_type": "markdown",
   "metadata": {
    "id": "85Q8EMhHPRYs"
   },
   "source": [
    "# Leitura dos Dados"
   ]
  },
  {
   "cell_type": "code",
   "execution_count": null,
   "metadata": {
    "colab": {
     "base_uri": "https://localhost:8080/",
     "height": 118,
     "referenced_widgets": [
      "24fc7ee0745b4f8aaffcba95ab4bdcb3",
      "7a6cc0c9abf043df8c1bff5448440b6f",
      "5bea75cdddf64bb9aeac9be17e59060d",
      "ea5aaf5a440147e3a0837c90c8d55a94",
      "ad5f07bae6644400a8daf85d89284a29",
      "e430ecb9183047958b3210dbbd0128fa",
      "dddba3efb2ce4748abb028cdb518b01e",
      "4b40e66fe0d84758af766de4b1d45cc7",
      "25a0b3e8d107451e9e6deed697f46954",
      "6257b43400a64cf5ba24b7df8d5d8df1",
      "0169da4720884968a0975dfb80b80218",
      "9f9be40e91d94410a2371d2648eaff2c",
      "6a5f0d2f024e4257a5f0db8734ff2939",
      "3496e9889b8a4f9b8810ea182a6b2060",
      "df391294ba674216976fd1f01aae0a37",
      "b721bb4cc9734843b9150c31a9fe229f",
      "b9c011bde31b41ec86b41552e6396065",
      "2434d21e21b748d095349632cadbdf5b",
      "4ea6bec8677b40548ac21774f6713c45",
      "aa719223ae57425881e90359282b50f0",
      "e2ab3cf087d341d5833f987e62b18ffc",
      "5d3fcdc5f17c4c0683851e2e0df98e85"
     ]
    },
    "executionInfo": {
     "elapsed": 21366,
     "status": "ok",
     "timestamp": 1629333633864,
     "user": {
      "displayName": "Vinicius Bernardo Gabriel UFC",
      "photoUrl": "",
      "userId": "06507825833297863155"
     },
     "user_tz": 180
    },
    "id": "p-nAkfw_P5_A",
    "outputId": "b72db549-0ae0-4cc7-bfe8-9aca818f319f"
   },
   "outputs": [
    {
     "data": {
      "application/vnd.jupyter.widget-view+json": {
       "model_id": "24fc7ee0745b4f8aaffcba95ab4bdcb3",
       "version_major": 2,
       "version_minor": 0
      },
      "text/plain": [
       "Downloading:   0%|          | 0.00/3.45k [00:00<?, ?B/s]"
      ]
     },
     "metadata": {},
     "output_type": "display_data"
    },
    {
     "data": {
      "application/vnd.jupyter.widget-view+json": {
       "model_id": "9f9be40e91d94410a2371d2648eaff2c",
       "version_major": 2,
       "version_minor": 0
      },
      "text/plain": [
       "Downloading:   0%|          | 0.00/22.0k [00:00<?, ?B/s]"
      ]
     },
     "metadata": {},
     "output_type": "display_data"
    },
    {
     "name": "stderr",
     "output_type": "stream",
     "text": [
      "Reusing dataset schema_guided_dstc8 (/content/drive/MyDrive/Ciência de Dados/Projeto Final/Resources/Datasets/SGD/schema_guided_dstc8/dialogues/0.0.0/198969f9783e0d5469f06a8200b63c78868e9834ba5f36529aee9e41c9bb02f2)\n"
     ]
    }
   ],
   "source": [
    "dataset = load_dataset('schema_guided_dstc8', 'dialogues', cache_dir = DATASETS_PATH + \"/SGD\")\n",
    "\n",
    "# Trabalhamos com todos os dados disponíveis\n",
    "data = concatenate_datasets([dataset[\"train\"], dataset[\"validation\"], dataset[\"test\"]])\n",
    "\n",
    "# Realizando um flatten para transformar subestruturas em features\n",
    "data = data.flatten()"
   ]
  },
  {
   "cell_type": "code",
   "execution_count": null,
   "metadata": {
    "colab": {
     "base_uri": "https://localhost:8080/",
     "height": 204
    },
    "executionInfo": {
     "elapsed": 14625,
     "status": "ok",
     "timestamp": 1629333648478,
     "user": {
      "displayName": "Vinicius Bernardo Gabriel UFC",
      "photoUrl": "",
      "userId": "06507825833297863155"
     },
     "user_tz": 180
    },
    "id": "xg4Pp0uGoGsI",
    "outputId": "2f00454c-b4b6-403f-8ce8-c90b138b25ac"
   },
   "outputs": [
    {
     "data": {
      "text/html": [
       "<div>\n",
       "<style scoped>\n",
       "    .dataframe tbody tr th:only-of-type {\n",
       "        vertical-align: middle;\n",
       "    }\n",
       "\n",
       "    .dataframe tbody tr th {\n",
       "        vertical-align: top;\n",
       "    }\n",
       "\n",
       "    .dataframe thead th {\n",
       "        text-align: right;\n",
       "    }\n",
       "</style>\n",
       "<table border=\"1\" class=\"dataframe\">\n",
       "  <thead>\n",
       "    <tr style=\"text-align: right;\">\n",
       "      <th></th>\n",
       "      <th>dialogue_id</th>\n",
       "      <th>services</th>\n",
       "      <th>speaker</th>\n",
       "      <th>utterance</th>\n",
       "    </tr>\n",
       "  </thead>\n",
       "  <tbody>\n",
       "    <tr>\n",
       "      <th>0</th>\n",
       "      <td>1_00000</td>\n",
       "      <td>[Restaurants]</td>\n",
       "      <td>0</td>\n",
       "      <td>I am feeling hungry so I would like to find a ...</td>\n",
       "    </tr>\n",
       "    <tr>\n",
       "      <th>1</th>\n",
       "      <td>1_00000</td>\n",
       "      <td>[Restaurants]</td>\n",
       "      <td>1</td>\n",
       "      <td>Do you have a specific which you want the eati...</td>\n",
       "    </tr>\n",
       "    <tr>\n",
       "      <th>2</th>\n",
       "      <td>1_00000</td>\n",
       "      <td>[Restaurants]</td>\n",
       "      <td>0</td>\n",
       "      <td>I would like for it to be in San Jose.</td>\n",
       "    </tr>\n",
       "    <tr>\n",
       "      <th>3</th>\n",
       "      <td>1_00000</td>\n",
       "      <td>[Restaurants]</td>\n",
       "      <td>1</td>\n",
       "      <td>Is there a specific cuisine type you enjoy, su...</td>\n",
       "    </tr>\n",
       "    <tr>\n",
       "      <th>4</th>\n",
       "      <td>1_00000</td>\n",
       "      <td>[Restaurants]</td>\n",
       "      <td>0</td>\n",
       "      <td>I usually like eating the American type of food.</td>\n",
       "    </tr>\n",
       "  </tbody>\n",
       "</table>\n",
       "</div>"
      ],
      "text/plain": [
       "  dialogue_id  ...                                          utterance\n",
       "0     1_00000  ...  I am feeling hungry so I would like to find a ...\n",
       "1     1_00000  ...  Do you have a specific which you want the eati...\n",
       "2     1_00000  ...             I would like for it to be in San Jose.\n",
       "3     1_00000  ...  Is there a specific cuisine type you enjoy, su...\n",
       "4     1_00000  ...   I usually like eating the American type of food.\n",
       "\n",
       "[5 rows x 4 columns]"
      ]
     },
     "execution_count": 6,
     "metadata": {},
     "output_type": "execute_result"
    }
   ],
   "source": [
    "# Transformando dados em um dataframe\n",
    "df = data.to_pandas()\n",
    "\n",
    "df['turns.speaker.utterance'] = df.apply(lambda x: list(zip(x[2], x[3])), axis =1)\n",
    "\n",
    "# Filtrando apenas informações relevantes para o nosso trabalho: id do dialogo, serviços presentes no dialogo e as conversas: quem fala e o texto.\n",
    "df = df[['dialogue_id', 'services', 'turns.speaker.utterance']]\n",
    "\n",
    "# Transforma lista de pares em turns.speaker.utterance em novas linhas do dataset\n",
    "df = df.explode('turns.speaker.utterance', ignore_index=True)\n",
    "\n",
    "# Transforma pares em turns.speaker.utterance em duas colunas separadas\n",
    "df[['speaker', 'utterance']] = pd.DataFrame(df['turns.speaker.utterance'].tolist())\n",
    "\n",
    "df = df[['dialogue_id', 'services', 'speaker', 'utterance']]\n",
    "\n",
    "# Removendo _ depois do nome do serviço\n",
    "df['services'] = df['services'].map(lambda services: list(map(lambda s: s.split(\"_\")[0], services)))\n",
    "\n",
    "df.drop_duplicates(subset=[\"utterance\", \"speaker\"], inplace=True)\n",
    "\n",
    "df.head()"
   ]
  },
  {
   "cell_type": "code",
   "execution_count": null,
   "metadata": {
    "colab": {
     "base_uri": "https://localhost:8080/"
    },
    "executionInfo": {
     "elapsed": 7,
     "status": "ok",
     "timestamp": 1629333648478,
     "user": {
      "displayName": "Vinicius Bernardo Gabriel UFC",
      "photoUrl": "",
      "userId": "06507825833297863155"
     },
     "user_tz": 180
    },
    "id": "KJSChxw7uZnh",
    "outputId": "e60c9957-1589-4a2b-b07d-2a7e9cfa1cfc"
   },
   "outputs": [
    {
     "name": "stdout",
     "output_type": "stream",
     "text": [
      "Número de instâncias = 335960\n",
      "Número de atributos = 4\n"
     ]
    }
   ],
   "source": [
    "print('Número de instâncias = {}'.format(len(df)))\n",
    "print('Número de atributos = {}'.format(len(df.columns)))"
   ]
  },
  {
   "cell_type": "markdown",
   "metadata": {
    "id": "VLOqtUB4umqA"
   },
   "source": [
    "# Pré-processamento dos Dados\n",
    "\n",
    "Como já realizamos uma análise exploratória do **SGD *dataset*** e guardamos algumas informações especificamente para a etapa de pré-processamento, executaremos os seguintes passos para treinamento e avaliação dos modelos com o presente conjunto de dados: \n",
    "\n",
    "1. Limpeza dos dados e remoção das *stopwords*\n",
    "2. Seleção de uma *sample* para treino e avaliação com base em um *threshold* \n",
    "\n"
   ]
  },
  {
   "cell_type": "markdown",
   "metadata": {
    "id": "AwdBvaEkN_qw"
   },
   "source": [
    "## Limpeza dos Dados e Remoção das *Stopwords*\n",
    "\n",
    "Nesta etapa, iremos repetir o que foi feito no *notebook* de EDA."
   ]
  },
  {
   "cell_type": "code",
   "execution_count": null,
   "metadata": {
    "colab": {
     "base_uri": "https://localhost:8080/",
     "height": 204
    },
    "executionInfo": {
     "elapsed": 6,
     "status": "ok",
     "timestamp": 1629333648479,
     "user": {
      "displayName": "Vinicius Bernardo Gabriel UFC",
      "photoUrl": "",
      "userId": "06507825833297863155"
     },
     "user_tz": 180
    },
    "id": "PxEEoUoNLfqt",
    "outputId": "d449fd48-a334-4771-b9d5-1a213e9bb1de"
   },
   "outputs": [
    {
     "data": {
      "text/html": [
       "<div>\n",
       "<style scoped>\n",
       "    .dataframe tbody tr th:only-of-type {\n",
       "        vertical-align: middle;\n",
       "    }\n",
       "\n",
       "    .dataframe tbody tr th {\n",
       "        vertical-align: top;\n",
       "    }\n",
       "\n",
       "    .dataframe thead th {\n",
       "        text-align: right;\n",
       "    }\n",
       "</style>\n",
       "<table border=\"1\" class=\"dataframe\">\n",
       "  <thead>\n",
       "    <tr style=\"text-align: right;\">\n",
       "      <th></th>\n",
       "      <th>dialogue_id</th>\n",
       "      <th>services</th>\n",
       "      <th>speaker</th>\n",
       "      <th>utterance</th>\n",
       "    </tr>\n",
       "  </thead>\n",
       "  <tbody>\n",
       "    <tr>\n",
       "      <th>0</th>\n",
       "      <td>1_00000</td>\n",
       "      <td>[Restaurants]</td>\n",
       "      <td>0</td>\n",
       "      <td>I am feeling hungry so I would like to find a ...</td>\n",
       "    </tr>\n",
       "    <tr>\n",
       "      <th>1</th>\n",
       "      <td>1_00000</td>\n",
       "      <td>[Restaurants]</td>\n",
       "      <td>1</td>\n",
       "      <td>Do you have a specific which you want the eati...</td>\n",
       "    </tr>\n",
       "    <tr>\n",
       "      <th>2</th>\n",
       "      <td>1_00000</td>\n",
       "      <td>[Restaurants]</td>\n",
       "      <td>0</td>\n",
       "      <td>I would like for it to be in San Jose.</td>\n",
       "    </tr>\n",
       "    <tr>\n",
       "      <th>3</th>\n",
       "      <td>1_00000</td>\n",
       "      <td>[Restaurants]</td>\n",
       "      <td>1</td>\n",
       "      <td>Is there a specific cuisine type you enjoy, su...</td>\n",
       "    </tr>\n",
       "    <tr>\n",
       "      <th>4</th>\n",
       "      <td>1_00000</td>\n",
       "      <td>[Restaurants]</td>\n",
       "      <td>0</td>\n",
       "      <td>I usually like eating the American type of food.</td>\n",
       "    </tr>\n",
       "  </tbody>\n",
       "</table>\n",
       "</div>"
      ],
      "text/plain": [
       "  dialogue_id  ...                                          utterance\n",
       "0     1_00000  ...  I am feeling hungry so I would like to find a ...\n",
       "1     1_00000  ...  Do you have a specific which you want the eati...\n",
       "2     1_00000  ...             I would like for it to be in San Jose.\n",
       "3     1_00000  ...  Is there a specific cuisine type you enjoy, su...\n",
       "4     1_00000  ...   I usually like eating the American type of food.\n",
       "\n",
       "[5 rows x 4 columns]"
      ]
     },
     "execution_count": 8,
     "metadata": {},
     "output_type": "execute_result"
    }
   ],
   "source": [
    "df.head()"
   ]
  },
  {
   "cell_type": "code",
   "execution_count": null,
   "metadata": {
    "colab": {
     "base_uri": "https://localhost:8080/",
     "height": 204
    },
    "executionInfo": {
     "elapsed": 5763,
     "status": "ok",
     "timestamp": 1629333654237,
     "user": {
      "displayName": "Vinicius Bernardo Gabriel UFC",
      "photoUrl": "",
      "userId": "06507825833297863155"
     },
     "user_tz": 180
    },
    "id": "1OvFDvaBf_E6",
    "outputId": "97a1f27f-1084-4987-dc24-c96c0befb11b"
   },
   "outputs": [
    {
     "data": {
      "text/html": [
       "<div>\n",
       "<style scoped>\n",
       "    .dataframe tbody tr th:only-of-type {\n",
       "        vertical-align: middle;\n",
       "    }\n",
       "\n",
       "    .dataframe tbody tr th {\n",
       "        vertical-align: top;\n",
       "    }\n",
       "\n",
       "    .dataframe thead th {\n",
       "        text-align: right;\n",
       "    }\n",
       "</style>\n",
       "<table border=\"1\" class=\"dataframe\">\n",
       "  <thead>\n",
       "    <tr style=\"text-align: right;\">\n",
       "      <th></th>\n",
       "      <th>dialogue_id</th>\n",
       "      <th>services</th>\n",
       "      <th>speaker</th>\n",
       "      <th>utterance</th>\n",
       "      <th>utterance_tokens</th>\n",
       "      <th>clean_utterance</th>\n",
       "      <th>utterance_tokens_count</th>\n",
       "      <th>clean_utterance_words2ignore</th>\n",
       "    </tr>\n",
       "  </thead>\n",
       "  <tbody>\n",
       "    <tr>\n",
       "      <th>0</th>\n",
       "      <td>1_00000</td>\n",
       "      <td>[Restaurants]</td>\n",
       "      <td>0</td>\n",
       "      <td>I am feeling hungry so I would like to find a ...</td>\n",
       "      <td>[feeling, hungry, place, eat]</td>\n",
       "      <td>i am feeling hungry so i would like to find a ...</td>\n",
       "      <td>14</td>\n",
       "      <td>feeling hungry place eat</td>\n",
       "    </tr>\n",
       "    <tr>\n",
       "      <th>1</th>\n",
       "      <td>1_00000</td>\n",
       "      <td>[Restaurants]</td>\n",
       "      <td>1</td>\n",
       "      <td>Do you have a specific which you want the eati...</td>\n",
       "      <td>[specific, eating, place, located]</td>\n",
       "      <td>do you have a specific which you want the eati...</td>\n",
       "      <td>15</td>\n",
       "      <td>specific eating place located</td>\n",
       "    </tr>\n",
       "    <tr>\n",
       "      <th>2</th>\n",
       "      <td>1_00000</td>\n",
       "      <td>[Restaurants]</td>\n",
       "      <td>0</td>\n",
       "      <td>I would like for it to be in San Jose.</td>\n",
       "      <td>[jose]</td>\n",
       "      <td>i would like for it to be in san jose</td>\n",
       "      <td>10</td>\n",
       "      <td>jose</td>\n",
       "    </tr>\n",
       "    <tr>\n",
       "      <th>3</th>\n",
       "      <td>1_00000</td>\n",
       "      <td>[Restaurants]</td>\n",
       "      <td>1</td>\n",
       "      <td>Is there a specific cuisine type you enjoy, su...</td>\n",
       "      <td>[specific, cuisine, type, enjoy, mexican, ital...</td>\n",
       "      <td>is there a specific cuisine type you enjoy suc...</td>\n",
       "      <td>15</td>\n",
       "      <td>specific cuisine type enjoy mexican italian</td>\n",
       "    </tr>\n",
       "    <tr>\n",
       "      <th>4</th>\n",
       "      <td>1_00000</td>\n",
       "      <td>[Restaurants]</td>\n",
       "      <td>0</td>\n",
       "      <td>I usually like eating the American type of food.</td>\n",
       "      <td>[usually, eating, american, type, food]</td>\n",
       "      <td>i usually like eating the american type of food</td>\n",
       "      <td>9</td>\n",
       "      <td>usually eating american type food</td>\n",
       "    </tr>\n",
       "  </tbody>\n",
       "</table>\n",
       "</div>"
      ],
      "text/plain": [
       "  dialogue_id  ...                 clean_utterance_words2ignore\n",
       "0     1_00000  ...                     feeling hungry place eat\n",
       "1     1_00000  ...                specific eating place located\n",
       "2     1_00000  ...                                         jose\n",
       "3     1_00000  ...  specific cuisine type enjoy mexican italian\n",
       "4     1_00000  ...            usually eating american type food\n",
       "\n",
       "[5 rows x 8 columns]"
      ]
     },
     "execution_count": 9,
     "metadata": {},
     "output_type": "execute_result"
    }
   ],
   "source": [
    "df['utterance_tokens'] = df['utterance'].apply(lambda r: r.translate(str.maketrans('', '', string.punctuation)).lower().split()) \n",
    "df['clean_utterance'] = df['utterance_tokens'].apply(lambda x: ' '.join(x))\n",
    "df['utterance_tokens_count'] = df['utterance_tokens'].apply(lambda r: len(r)) # Quantidade de tokens de cada texto\n",
    "\n",
    "all_utterance_tokens = df['utterance_tokens'].explode() \n",
    "all_utterance_clean_tokens = [token for token in all_utterance_tokens if token not in STOP_WORDS]\n",
    "\n",
    "# Corta palavras que aparecem mais de 7000 vezes\n",
    "frequency_cut = 7000\n",
    "\n",
    "most_common_clean_tokens = utils.make_most_common_words(all_utterance_clean_tokens, n_most_common=50)\n",
    "words2ignore = [tup[0] for tup in most_common_clean_tokens if tup[1] > frequency_cut] # Valor que estava no notebook de EDA\n",
    "set_stop_words2ignore = STOP_WORDS.union(set(words2ignore))\n",
    "\n",
    "df['utterance_tokens'] = df['utterance_tokens'].apply(lambda x: text.remove_potencial_stopwords(x, words2ignore=set_stop_words2ignore))\n",
    "df['clean_utterance_words2ignore'] = df['utterance_tokens'].apply(lambda x: ' '.join(x))\n",
    "\n",
    "df.head()"
   ]
  },
  {
   "cell_type": "code",
   "execution_count": null,
   "metadata": {
    "colab": {
     "base_uri": "https://localhost:8080/"
    },
    "executionInfo": {
     "elapsed": 1221,
     "status": "ok",
     "timestamp": 1629333655453,
     "user": {
      "displayName": "Vinicius Bernardo Gabriel UFC",
      "photoUrl": "",
      "userId": "06507825833297863155"
     },
     "user_tz": 180
    },
    "id": "KRyWDSpggeXR",
    "outputId": "9a67e9bf-ae35-4b7d-f0be-20eeaafb4384"
   },
   "outputs": [
    {
     "name": "stdout",
     "output_type": "stream",
     "text": [
      "Estatísticas básicas da contagem de tokens dos dialogos =\n",
      "count    335960.000000\n",
      "mean         11.709590\n",
      "std           6.608093\n",
      "min           0.000000\n",
      "25%           7.000000\n",
      "50%          10.000000\n",
      "75%          15.000000\n",
      "max          84.000000\n",
      "Name: utterance_tokens_count, dtype: float64\n",
      "\n",
      "Quantidade de palavras de todos os diálogos = 1300521\n",
      "Quantidade de palavras ÚNICAS de todos os diálogos = 22102\n"
     ]
    }
   ],
   "source": [
    "print('Estatísticas básicas da contagem de tokens dos dialogos =\\n{}\\n'.format(df['utterance_tokens_count'].describe()))\n",
    "\n",
    "# Todos os tokens dos dialogos\n",
    "all_utterance_tokens = df['utterance_tokens'].explode() \n",
    "\n",
    "print('Quantidade de palavras de todos os diálogos = {}'.format(len(list(all_utterance_tokens))))\n",
    "print('Quantidade de palavras ÚNICAS de todos os diálogos = {}'.format(len(set(all_utterance_tokens))))"
   ]
  },
  {
   "cell_type": "code",
   "execution_count": null,
   "metadata": {
    "colab": {
     "base_uri": "https://localhost:8080/",
     "height": 517
    },
    "executionInfo": {
     "elapsed": 436,
     "status": "ok",
     "timestamp": 1629333655887,
     "user": {
      "displayName": "Vinicius Bernardo Gabriel UFC",
      "photoUrl": "",
      "userId": "06507825833297863155"
     },
     "user_tz": 180
    },
    "id": "gRrFrDY9lraW",
    "outputId": "1d57ac44-ae65-4414-cb3a-374e73899776"
   },
   "outputs": [
    {
     "data": {
      "image/png": "[encoded data removed]",
      "text/plain": [
       "<Figure size 1152x576 with 1 Axes>"
      ]
     },
     "metadata": {},
     "output_type": "display_data"
    }
   ],
   "source": [
    "utterance_tokens_percentil_75 = df['utterance_tokens_count'].describe()['75%']\n",
    "\n",
    "utils.plot_distribution_large_data(df['utterance_tokens_count'], \n",
    "                                   title='Distribuição do número de palavras dos textos dos diálogos', \n",
    "                                   xaxis_interval=utterance_tokens_percentil_75)"
   ]
  },
  {
   "cell_type": "markdown",
   "metadata": {
    "id": "1au6A05ZnKd6"
   },
   "source": [
    "## *Sample* Final dos Dados\n",
    "\n",
    "Aqui, iremos selecionar mais uma *sample* do conjunto de dados. Como o intuito final do presente trabalho consiste em unir as predições de dois modelos diferentes (um para identificação de viés de gênero e outro para toxicidade), precisamos escolher um valor de *threshold* para o tamanho dos textos. Este valor também é usado no *notebook* de pré-processamento para os *datasets* anotados conforme o gênero. Nossos modelos precisam receber textos que possuam uma quantidade de palavras proporcional.\n",
    "\n",
    "- Valor do *threshold* = até 60 palavras"
   ]
  },
  {
   "cell_type": "code",
   "execution_count": null,
   "metadata": {
    "colab": {
     "base_uri": "https://localhost:8080/"
    },
    "executionInfo": {
     "elapsed": 251,
     "status": "ok",
     "timestamp": 1629333656135,
     "user": {
      "displayName": "Vinicius Bernardo Gabriel UFC",
      "photoUrl": "",
      "userId": "06507825833297863155"
     },
     "user_tz": 180
    },
    "id": "AhnnkFPYodNw",
    "outputId": "e6d8337d-1e35-43d6-b1ed-5cb38a08a58f"
   },
   "outputs": [
    {
     "name": "stdout",
     "output_type": "stream",
     "text": [
      "Número de instâncias = 335960\n",
      "Número de instâncias após a remoção = 335408\n"
     ]
    }
   ],
   "source": [
    "print('Número de instâncias = {}'.format(len(df)))\n",
    "\n",
    "df = df[df['utterance_tokens_count'] > 1] # Retirando textos que possuem apenas uma palavra (ou nenhuma)\n",
    "df = df[df['utterance_tokens_count'] <= text.MAX_LENGTH]\n",
    "print('Número de instâncias após a remoção = {}'.format(len(df)))"
   ]
  },
  {
   "cell_type": "code",
   "execution_count": null,
   "metadata": {
    "colab": {
     "base_uri": "https://localhost:8080/",
     "height": 419
    },
    "executionInfo": {
     "elapsed": 232,
     "status": "ok",
     "timestamp": 1629333677025,
     "user": {
      "displayName": "Vinicius Bernardo Gabriel UFC",
      "photoUrl": "",
      "userId": "06507825833297863155"
     },
     "user_tz": 180
    },
    "id": "TgX7sBHqFMcf",
    "outputId": "c485d0d1-ea95-453b-d0ba-cc10aa309bd6"
   },
   "outputs": [
    {
     "data": {
      "text/html": [
       "<div>\n",
       "<style scoped>\n",
       "    .dataframe tbody tr th:only-of-type {\n",
       "        vertical-align: middle;\n",
       "    }\n",
       "\n",
       "    .dataframe tbody tr th {\n",
       "        vertical-align: top;\n",
       "    }\n",
       "\n",
       "    .dataframe thead th {\n",
       "        text-align: right;\n",
       "    }\n",
       "</style>\n",
       "<table border=\"1\" class=\"dataframe\">\n",
       "  <thead>\n",
       "    <tr style=\"text-align: right;\">\n",
       "      <th></th>\n",
       "      <th>dialogue_id</th>\n",
       "      <th>services</th>\n",
       "      <th>speaker</th>\n",
       "      <th>utterance</th>\n",
       "      <th>utterance_tokens</th>\n",
       "      <th>clean_utterance</th>\n",
       "      <th>utterance_tokens_count</th>\n",
       "      <th>clean_utterance_words2ignore</th>\n",
       "    </tr>\n",
       "  </thead>\n",
       "  <tbody>\n",
       "    <tr>\n",
       "      <th>0</th>\n",
       "      <td>1_00000</td>\n",
       "      <td>[Restaurants]</td>\n",
       "      <td>0</td>\n",
       "      <td>I am feeling hungry so I would like to find a ...</td>\n",
       "      <td>[feeling, hungry, place, eat]</td>\n",
       "      <td>i am feeling hungry so i would like to find a ...</td>\n",
       "      <td>14</td>\n",
       "      <td>feeling hungry place eat</td>\n",
       "    </tr>\n",
       "    <tr>\n",
       "      <th>1</th>\n",
       "      <td>1_00000</td>\n",
       "      <td>[Restaurants]</td>\n",
       "      <td>1</td>\n",
       "      <td>Do you have a specific which you want the eati...</td>\n",
       "      <td>[specific, eating, place, located]</td>\n",
       "      <td>do you have a specific which you want the eati...</td>\n",
       "      <td>15</td>\n",
       "      <td>specific eating place located</td>\n",
       "    </tr>\n",
       "    <tr>\n",
       "      <th>2</th>\n",
       "      <td>1_00000</td>\n",
       "      <td>[Restaurants]</td>\n",
       "      <td>0</td>\n",
       "      <td>I would like for it to be in San Jose.</td>\n",
       "      <td>[jose]</td>\n",
       "      <td>i would like for it to be in san jose</td>\n",
       "      <td>10</td>\n",
       "      <td>jose</td>\n",
       "    </tr>\n",
       "    <tr>\n",
       "      <th>3</th>\n",
       "      <td>1_00000</td>\n",
       "      <td>[Restaurants]</td>\n",
       "      <td>1</td>\n",
       "      <td>Is there a specific cuisine type you enjoy, su...</td>\n",
       "      <td>[specific, cuisine, type, enjoy, mexican, ital...</td>\n",
       "      <td>is there a specific cuisine type you enjoy suc...</td>\n",
       "      <td>15</td>\n",
       "      <td>specific cuisine type enjoy mexican italian</td>\n",
       "    </tr>\n",
       "    <tr>\n",
       "      <th>4</th>\n",
       "      <td>1_00000</td>\n",
       "      <td>[Restaurants]</td>\n",
       "      <td>0</td>\n",
       "      <td>I usually like eating the American type of food.</td>\n",
       "      <td>[usually, eating, american, type, food]</td>\n",
       "      <td>i usually like eating the american type of food</td>\n",
       "      <td>9</td>\n",
       "      <td>usually eating american type food</td>\n",
       "    </tr>\n",
       "    <tr>\n",
       "      <th>...</th>\n",
       "      <td>...</td>\n",
       "      <td>...</td>\n",
       "      <td>...</td>\n",
       "      <td>...</td>\n",
       "      <td>...</td>\n",
       "      <td>...</td>\n",
       "      <td>...</td>\n",
       "      <td>...</td>\n",
       "    </tr>\n",
       "    <tr>\n",
       "      <th>463276</th>\n",
       "      <td>34_00053</td>\n",
       "      <td>[Hotels, Travel]</td>\n",
       "      <td>0</td>\n",
       "      <td>I need two rooms at the hotel you found beginn...</td>\n",
       "      <td>[rooms, beginning, 12th]</td>\n",
       "      <td>i need two rooms at the hotel you found beginn...</td>\n",
       "      <td>16</td>\n",
       "      <td>rooms beginning 12th</td>\n",
       "    </tr>\n",
       "    <tr>\n",
       "      <th>463277</th>\n",
       "      <td>34_00053</td>\n",
       "      <td>[Hotels, Travel]</td>\n",
       "      <td>1</td>\n",
       "      <td>Please confirm, checking in the Ac Hotel by Ma...</td>\n",
       "      <td>[checking, ac, marriott, paris, porte, maillot...</td>\n",
       "      <td>please confirm checking in the ac hotel by mar...</td>\n",
       "      <td>29</td>\n",
       "      <td>checking ac marriott paris porte maillot paris...</td>\n",
       "    </tr>\n",
       "    <tr>\n",
       "      <th>463278</th>\n",
       "      <td>34_00053</td>\n",
       "      <td>[Hotels, Travel]</td>\n",
       "      <td>0</td>\n",
       "      <td>Thanks! That is great.</td>\n",
       "      <td>[]</td>\n",
       "      <td>thanks that is great</td>\n",
       "      <td>4</td>\n",
       "      <td></td>\n",
       "    </tr>\n",
       "    <tr>\n",
       "      <th>463280</th>\n",
       "      <td>34_00053</td>\n",
       "      <td>[Hotels, Travel]</td>\n",
       "      <td>0</td>\n",
       "      <td>Is smoking permitted? What is the price per ni...</td>\n",
       "      <td>[smoking, permitted, price, night]</td>\n",
       "      <td>is smoking permitted what is the price per night</td>\n",
       "      <td>9</td>\n",
       "      <td>smoking permitted price night</td>\n",
       "    </tr>\n",
       "    <tr>\n",
       "      <th>463281</th>\n",
       "      <td>34_00053</td>\n",
       "      <td>[Hotels, Travel]</td>\n",
       "      <td>1</td>\n",
       "      <td>No, you cannot smoke. The cost is $192.</td>\n",
       "      <td>[smoke, cost, 192]</td>\n",
       "      <td>no you cannot smoke the cost is 192</td>\n",
       "      <td>8</td>\n",
       "      <td>smoke cost 192</td>\n",
       "    </tr>\n",
       "  </tbody>\n",
       "</table>\n",
       "<p>335408 rows × 8 columns</p>\n",
       "</div>"
      ],
      "text/plain": [
       "       dialogue_id  ...                       clean_utterance_words2ignore\n",
       "0          1_00000  ...                           feeling hungry place eat\n",
       "1          1_00000  ...                      specific eating place located\n",
       "2          1_00000  ...                                               jose\n",
       "3          1_00000  ...        specific cuisine type enjoy mexican italian\n",
       "4          1_00000  ...                  usually eating american type food\n",
       "...            ...  ...                                                ...\n",
       "463276    34_00053  ...                               rooms beginning 12th\n",
       "463277    34_00053  ...  checking ac marriott paris porte maillot paris...\n",
       "463278    34_00053  ...                                                   \n",
       "463280    34_00053  ...                      smoking permitted price night\n",
       "463281    34_00053  ...                                     smoke cost 192\n",
       "\n",
       "[335408 rows x 8 columns]"
      ]
     },
     "execution_count": 13,
     "metadata": {},
     "output_type": "execute_result"
    }
   ],
   "source": [
    "df"
   ]
  },
  {
   "cell_type": "markdown",
   "metadata": {
    "id": "jesSklJG2wXo"
   },
   "source": [
    "Como podemos ver, existem instâncias que tem uma lista vazia de *tokens*, pois a frase era composta apenas por *stopwords* ou palavras que tinham frequência muito grande, como a frase \"*Thanks! That is great*\". Abaixo, removemos essas linhas do *dataframe*."
   ]
  },
  {
   "cell_type": "code",
   "execution_count": null,
   "metadata": {
    "colab": {
     "base_uri": "https://localhost:8080/"
    },
    "executionInfo": {
     "elapsed": 592,
     "status": "ok",
     "timestamp": 1629334104474,
     "user": {
      "displayName": "Vinicius Bernardo Gabriel UFC",
      "photoUrl": "",
      "userId": "06507825833297863155"
     },
     "user_tz": 180
    },
    "id": "rBrFHv3Z3ipB",
    "outputId": "c4ca7874-91f6-4669-89ce-d59e9c192d4e"
   },
   "outputs": [
    {
     "name": "stdout",
     "output_type": "stream",
     "text": [
      "Quantidade de linhas com zero tokens: 17088\n",
      "Numero de linhas antes da remoção: 335408\n",
      "Numero de linhas apos a remoção: 318320\n"
     ]
    }
   ],
   "source": [
    "print(f\"Quantidade de linhas com zero tokens: {len(df[df['utterance_tokens'].str.len() == 0])}\")\n",
    "print(f\"Numero de linhas antes da remoção: {len(df)}\")\n",
    "df = df[df['utterance_tokens'].str.len() > 0]\n",
    "print(f\"Numero de linhas apos a remoção: {len(df)}\")"
   ]
  },
  {
   "cell_type": "code",
   "execution_count": null,
   "metadata": {
    "id": "EXY8ykBsyfF7"
   },
   "outputs": [],
   "source": [
    "df.to_csv(BASE_PATH + '/resources/datasets/SGD/new_data.csv', index=False)"
   ]
  },
  {
   "cell_type": "markdown",
   "metadata": {
    "id": "17_G6XOfo9-k"
   },
   "source": [
    "# Observações \n",
    "\n",
    "*Só isso de pré-processamento? E a representação textual? E os rótulos? Ficam assim mesmo?*\n",
    "\n",
    "Paciência, gafanhoto. Quem espera sempre alcança! \n",
    "\n",
    "No que diz respeito aos rótulos, eles estão no formato ideal. Enquanto que os textos ainda precisam passar por algumas mudanças para serem usados como entrada para os modelos. Este passo será feito na etapa de treinamento ;)"
   ]
  }
 ],
 "metadata": {
  "accelerator": "TPU",
  "colab": {
   "collapsed_sections": [],
   "name": "3 - SGD Dataset Preprocessing.ipynb",
   "provenance": [],
   "toc_visible": true
  },
  "kernelspec": {
   "display_name": "Python 3",
   "language": "python",
   "name": "python3"
  },
  "language_info": {
   "codemirror_mode": {
    "name": "ipython",
    "version": 3
   },
   "file_extension": ".py",
   "mimetype": "text/x-python",
   "name": "python",
   "nbconvert_exporter": "python",
   "pygments_lexer": "ipython3",
   "version": "3.8.10"
  },
  "widgets": {
   "application/vnd.jupyter.widget-state+json": {
    "0169da4720884968a0975dfb80b80218": {
     "model_module": "@jupyter-widgets/base",
     "model_module_version": "1.2.0",
     "model_name": "LayoutModel",
     "state": {
      "_model_module": "@jupyter-widgets/base",
      "_model_module_version": "1.2.0",
      "_model_name": "LayoutModel",
      "_view_count": null,
      "_view_module": "@jupyter-widgets/base",
      "_view_module_version": "1.2.0",
      "_view_name": "LayoutView",
      "align_content": null,
      "align_items": null,
      "align_self": null,
      "border": null,
      "bottom": null,
      "display": null,
      "flex": null,
      "flex_flow": null,
      "grid_area": null,
      "grid_auto_columns": null,
      "grid_auto_flow": null,
      "grid_auto_rows": null,
      "grid_column": null,
      "grid_gap": null,
      "grid_row": null,
      "grid_template_areas": null,
      "grid_template_columns": null,
      "grid_template_rows": null,
      "height": null,
      "justify_content": null,
      "justify_items": null,
      "left": null,
      "margin": null,
      "max_height": null,
      "max_width": null,
      "min_height": null,
      "min_width": null,
      "object_fit": null,
      "object_position": null,
      "order": null,
      "overflow": null,
      "overflow_x": null,
      "overflow_y": null,
      "padding": null,
      "right": null,
      "top": null,
      "visibility": null,
      "width": null
     }
    },
    "2434d21e21b748d095349632cadbdf5b": {
     "model_module": "@jupyter-widgets/base",
     "model_module_version": "1.2.0",
     "model_name": "LayoutModel",
     "state": {
      "_model_module": "@jupyter-widgets/base",
      "_model_module_version": "1.2.0",
      "_model_name": "LayoutModel",
      "_view_count": null,
      "_view_module": "@jupyter-widgets/base",
      "_view_module_version": "1.2.0",
      "_view_name": "LayoutView",
      "align_content": null,
      "align_items": null,
      "align_self": null,
      "border": null,
      "bottom": null,
      "display": null,
      "flex": null,
      "flex_flow": null,
      "grid_area": null,
      "grid_auto_columns": null,
      "grid_auto_flow": null,
      "grid_auto_rows": null,
      "grid_column": null,
      "grid_gap": null,
      "grid_row": null,
      "grid_template_areas": null,
      "grid_template_columns": null,
      "grid_template_rows": null,
      "height": null,
      "justify_content": null,
      "justify_items": null,
      "left": null,
      "margin": null,
      "max_height": null,
      "max_width": null,
      "min_height": null,
      "min_width": null,
      "object_fit": null,
      "object_position": null,
      "order": null,
      "overflow": null,
      "overflow_x": null,
      "overflow_y": null,
      "padding": null,
      "right": null,
      "top": null,
      "visibility": null,
      "width": null
     }
    },
    "24fc7ee0745b4f8aaffcba95ab4bdcb3": {
     "model_module": "@jupyter-widgets/controls",
     "model_module_version": "1.5.0",
     "model_name": "HBoxModel",
     "state": {
      "_dom_classes": [],
      "_model_module": "@jupyter-widgets/controls",
      "_model_module_version": "1.5.0",
      "_model_name": "HBoxModel",
      "_view_count": null,
      "_view_module": "@jupyter-widgets/controls",
      "_view_module_version": "1.5.0",
      "_view_name": "HBoxView",
      "box_style": "",
      "children": [
       "IPY_MODEL_5bea75cdddf64bb9aeac9be17e59060d",
       "IPY_MODEL_ea5aaf5a440147e3a0837c90c8d55a94",
       "IPY_MODEL_ad5f07bae6644400a8daf85d89284a29"
      ],
      "layout": "IPY_MODEL_7a6cc0c9abf043df8c1bff5448440b6f"
     }
    },
    "25a0b3e8d107451e9e6deed697f46954": {
     "model_module": "@jupyter-widgets/base",
     "model_module_version": "1.2.0",
     "model_name": "LayoutModel",
     "state": {
      "_model_module": "@jupyter-widgets/base",
      "_model_module_version": "1.2.0",
      "_model_name": "LayoutModel",
      "_view_count": null,
      "_view_module": "@jupyter-widgets/base",
      "_view_module_version": "1.2.0",
      "_view_name": "LayoutView",
      "align_content": null,
      "align_items": null,
      "align_self": null,
      "border": null,
      "bottom": null,
      "display": null,
      "flex": null,
      "flex_flow": null,
      "grid_area": null,
      "grid_auto_columns": null,
      "grid_auto_flow": null,
      "grid_auto_rows": null,
      "grid_column": null,
      "grid_gap": null,
      "grid_row": null,
      "grid_template_areas": null,
      "grid_template_columns": null,
      "grid_template_rows": null,
      "height": null,
      "justify_content": null,
      "justify_items": null,
      "left": null,
      "margin": null,
      "max_height": null,
      "max_width": null,
      "min_height": null,
      "min_width": null,
      "object_fit": null,
      "object_position": null,
      "order": null,
      "overflow": null,
      "overflow_x": null,
      "overflow_y": null,
      "padding": null,
      "right": null,
      "top": null,
      "visibility": null,
      "width": null
     }
    },
    "3496e9889b8a4f9b8810ea182a6b2060": {
     "model_module": "@jupyter-widgets/controls",
     "model_module_version": "1.5.0",
     "model_name": "HTMLModel",
     "state": {
      "_dom_classes": [],
      "_model_module": "@jupyter-widgets/controls",
      "_model_module_version": "1.5.0",
      "_model_name": "HTMLModel",
      "_view_count": null,
      "_view_module": "@jupyter-widgets/controls",
      "_view_module_version": "1.5.0",
      "_view_name": "HTMLView",
      "description": "",
      "description_tooltip": null,
      "layout": "IPY_MODEL_2434d21e21b748d095349632cadbdf5b",
      "placeholder": "​",
      "style": "IPY_MODEL_b9c011bde31b41ec86b41552e6396065",
      "value": "Downloading: "
     }
    },
    "4b40e66fe0d84758af766de4b1d45cc7": {
     "model_module": "@jupyter-widgets/controls",
     "model_module_version": "1.5.0",
     "model_name": "ProgressStyleModel",
     "state": {
      "_model_module": "@jupyter-widgets/controls",
      "_model_module_version": "1.5.0",
      "_model_name": "ProgressStyleModel",
      "_view_count": null,
      "_view_module": "@jupyter-widgets/base",
      "_view_module_version": "1.2.0",
      "_view_name": "StyleView",
      "bar_color": null,
      "description_width": ""
     }
    },
    "4ea6bec8677b40548ac21774f6713c45": {
     "model_module": "@jupyter-widgets/controls",
     "model_module_version": "1.5.0",
     "model_name": "ProgressStyleModel",
     "state": {
      "_model_module": "@jupyter-widgets/controls",
      "_model_module_version": "1.5.0",
      "_model_name": "ProgressStyleModel",
      "_view_count": null,
      "_view_module": "@jupyter-widgets/base",
      "_view_module_version": "1.2.0",
      "_view_name": "StyleView",
      "bar_color": null,
      "description_width": ""
     }
    },
    "5bea75cdddf64bb9aeac9be17e59060d": {
     "model_module": "@jupyter-widgets/controls",
     "model_module_version": "1.5.0",
     "model_name": "HTMLModel",
     "state": {
      "_dom_classes": [],
      "_model_module": "@jupyter-widgets/controls",
      "_model_module_version": "1.5.0",
      "_model_name": "HTMLModel",
      "_view_count": null,
      "_view_module": "@jupyter-widgets/controls",
      "_view_module_version": "1.5.0",
      "_view_name": "HTMLView",
      "description": "",
      "description_tooltip": null,
      "layout": "IPY_MODEL_dddba3efb2ce4748abb028cdb518b01e",
      "placeholder": "​",
      "style": "IPY_MODEL_e430ecb9183047958b3210dbbd0128fa",
      "value": "Downloading: "
     }
    },
    "5d3fcdc5f17c4c0683851e2e0df98e85": {
     "model_module": "@jupyter-widgets/base",
     "model_module_version": "1.2.0",
     "model_name": "LayoutModel",
     "state": {
      "_model_module": "@jupyter-widgets/base",
      "_model_module_version": "1.2.0",
      "_model_name": "LayoutModel",
      "_view_count": null,
      "_view_module": "@jupyter-widgets/base",
      "_view_module_version": "1.2.0",
      "_view_name": "LayoutView",
      "align_content": null,
      "align_items": null,
      "align_self": null,
      "border": null,
      "bottom": null,
      "display": null,
      "flex": null,
      "flex_flow": null,
      "grid_area": null,
      "grid_auto_columns": null,
      "grid_auto_flow": null,
      "grid_auto_rows": null,
      "grid_column": null,
      "grid_gap": null,
      "grid_row": null,
      "grid_template_areas": null,
      "grid_template_columns": null,
      "grid_template_rows": null,
      "height": null,
      "justify_content": null,
      "justify_items": null,
      "left": null,
      "margin": null,
      "max_height": null,
      "max_width": null,
      "min_height": null,
      "min_width": null,
      "object_fit": null,
      "object_position": null,
      "order": null,
      "overflow": null,
      "overflow_x": null,
      "overflow_y": null,
      "padding": null,
      "right": null,
      "top": null,
      "visibility": null,
      "width": null
     }
    },
    "6257b43400a64cf5ba24b7df8d5d8df1": {
     "model_module": "@jupyter-widgets/controls",
     "model_module_version": "1.5.0",
     "model_name": "DescriptionStyleModel",
     "state": {
      "_model_module": "@jupyter-widgets/controls",
      "_model_module_version": "1.5.0",
      "_model_name": "DescriptionStyleModel",
      "_view_count": null,
      "_view_module": "@jupyter-widgets/base",
      "_view_module_version": "1.2.0",
      "_view_name": "StyleView",
      "description_width": ""
     }
    },
    "6a5f0d2f024e4257a5f0db8734ff2939": {
     "model_module": "@jupyter-widgets/base",
     "model_module_version": "1.2.0",
     "model_name": "LayoutModel",
     "state": {
      "_model_module": "@jupyter-widgets/base",
      "_model_module_version": "1.2.0",
      "_model_name": "LayoutModel",
      "_view_count": null,
      "_view_module": "@jupyter-widgets/base",
      "_view_module_version": "1.2.0",
      "_view_name": "LayoutView",
      "align_content": null,
      "align_items": null,
      "align_self": null,
      "border": null,
      "bottom": null,
      "display": null,
      "flex": null,
      "flex_flow": null,
      "grid_area": null,
      "grid_auto_columns": null,
      "grid_auto_flow": null,
      "grid_auto_rows": null,
      "grid_column": null,
      "grid_gap": null,
      "grid_row": null,
      "grid_template_areas": null,
      "grid_template_columns": null,
      "grid_template_rows": null,
      "height": null,
      "justify_content": null,
      "justify_items": null,
      "left": null,
      "margin": null,
      "max_height": null,
      "max_width": null,
      "min_height": null,
      "min_width": null,
      "object_fit": null,
      "object_position": null,
      "order": null,
      "overflow": null,
      "overflow_x": null,
      "overflow_y": null,
      "padding": null,
      "right": null,
      "top": null,
      "visibility": null,
      "width": null
     }
    },
    "7a6cc0c9abf043df8c1bff5448440b6f": {
     "model_module": "@jupyter-widgets/base",
     "model_module_version": "1.2.0",
     "model_name": "LayoutModel",
     "state": {
      "_model_module": "@jupyter-widgets/base",
      "_model_module_version": "1.2.0",
      "_model_name": "LayoutModel",
      "_view_count": null,
      "_view_module": "@jupyter-widgets/base",
      "_view_module_version": "1.2.0",
      "_view_name": "LayoutView",
      "align_content": null,
      "align_items": null,
      "align_self": null,
      "border": null,
      "bottom": null,
      "display": null,
      "flex": null,
      "flex_flow": null,
      "grid_area": null,
      "grid_auto_columns": null,
      "grid_auto_flow": null,
      "grid_auto_rows": null,
      "grid_column": null,
      "grid_gap": null,
      "grid_row": null,
      "grid_template_areas": null,
      "grid_template_columns": null,
      "grid_template_rows": null,
      "height": null,
      "justify_content": null,
      "justify_items": null,
      "left": null,
      "margin": null,
      "max_height": null,
      "max_width": null,
      "min_height": null,
      "min_width": null,
      "object_fit": null,
      "object_position": null,
      "order": null,
      "overflow": null,
      "overflow_x": null,
      "overflow_y": null,
      "padding": null,
      "right": null,
      "top": null,
      "visibility": null,
      "width": null
     }
    },
    "9f9be40e91d94410a2371d2648eaff2c": {
     "model_module": "@jupyter-widgets/controls",
     "model_module_version": "1.5.0",
     "model_name": "HBoxModel",
     "state": {
      "_dom_classes": [],
      "_model_module": "@jupyter-widgets/controls",
      "_model_module_version": "1.5.0",
      "_model_name": "HBoxModel",
      "_view_count": null,
      "_view_module": "@jupyter-widgets/controls",
      "_view_module_version": "1.5.0",
      "_view_name": "HBoxView",
      "box_style": "",
      "children": [
       "IPY_MODEL_3496e9889b8a4f9b8810ea182a6b2060",
       "IPY_MODEL_df391294ba674216976fd1f01aae0a37",
       "IPY_MODEL_b721bb4cc9734843b9150c31a9fe229f"
      ],
      "layout": "IPY_MODEL_6a5f0d2f024e4257a5f0db8734ff2939"
     }
    },
    "aa719223ae57425881e90359282b50f0": {
     "model_module": "@jupyter-widgets/base",
     "model_module_version": "1.2.0",
     "model_name": "LayoutModel",
     "state": {
      "_model_module": "@jupyter-widgets/base",
      "_model_module_version": "1.2.0",
      "_model_name": "LayoutModel",
      "_view_count": null,
      "_view_module": "@jupyter-widgets/base",
      "_view_module_version": "1.2.0",
      "_view_name": "LayoutView",
      "align_content": null,
      "align_items": null,
      "align_self": null,
      "border": null,
      "bottom": null,
      "display": null,
      "flex": null,
      "flex_flow": null,
      "grid_area": null,
      "grid_auto_columns": null,
      "grid_auto_flow": null,
      "grid_auto_rows": null,
      "grid_column": null,
      "grid_gap": null,
      "grid_row": null,
      "grid_template_areas": null,
      "grid_template_columns": null,
      "grid_template_rows": null,
      "height": null,
      "justify_content": null,
      "justify_items": null,
      "left": null,
      "margin": null,
      "max_height": null,
      "max_width": null,
      "min_height": null,
      "min_width": null,
      "object_fit": null,
      "object_position": null,
      "order": null,
      "overflow": null,
      "overflow_x": null,
      "overflow_y": null,
      "padding": null,
      "right": null,
      "top": null,
      "visibility": null,
      "width": null
     }
    },
    "ad5f07bae6644400a8daf85d89284a29": {
     "model_module": "@jupyter-widgets/controls",
     "model_module_version": "1.5.0",
     "model_name": "HTMLModel",
     "state": {
      "_dom_classes": [],
      "_model_module": "@jupyter-widgets/controls",
      "_model_module_version": "1.5.0",
      "_model_name": "HTMLModel",
      "_view_count": null,
      "_view_module": "@jupyter-widgets/controls",
      "_view_module_version": "1.5.0",
      "_view_name": "HTMLView",
      "description": "",
      "description_tooltip": null,
      "layout": "IPY_MODEL_0169da4720884968a0975dfb80b80218",
      "placeholder": "​",
      "style": "IPY_MODEL_6257b43400a64cf5ba24b7df8d5d8df1",
      "value": " 15.0k/? [00:00&lt;00:00, 261kB/s]"
     }
    },
    "b721bb4cc9734843b9150c31a9fe229f": {
     "model_module": "@jupyter-widgets/controls",
     "model_module_version": "1.5.0",
     "model_name": "HTMLModel",
     "state": {
      "_dom_classes": [],
      "_model_module": "@jupyter-widgets/controls",
      "_model_module_version": "1.5.0",
      "_model_name": "HTMLModel",
      "_view_count": null,
      "_view_module": "@jupyter-widgets/controls",
      "_view_module_version": "1.5.0",
      "_view_name": "HTMLView",
      "description": "",
      "description_tooltip": null,
      "layout": "IPY_MODEL_5d3fcdc5f17c4c0683851e2e0df98e85",
      "placeholder": "​",
      "style": "IPY_MODEL_e2ab3cf087d341d5833f987e62b18ffc",
      "value": " 87.9k/? [00:00&lt;00:00, 1.59MB/s]"
     }
    },
    "b9c011bde31b41ec86b41552e6396065": {
     "model_module": "@jupyter-widgets/controls",
     "model_module_version": "1.5.0",
     "model_name": "DescriptionStyleModel",
     "state": {
      "_model_module": "@jupyter-widgets/controls",
      "_model_module_version": "1.5.0",
      "_model_name": "DescriptionStyleModel",
      "_view_count": null,
      "_view_module": "@jupyter-widgets/base",
      "_view_module_version": "1.2.0",
      "_view_name": "StyleView",
      "description_width": ""
     }
    },
    "dddba3efb2ce4748abb028cdb518b01e": {
     "model_module": "@jupyter-widgets/base",
     "model_module_version": "1.2.0",
     "model_name": "LayoutModel",
     "state": {
      "_model_module": "@jupyter-widgets/base",
      "_model_module_version": "1.2.0",
      "_model_name": "LayoutModel",
      "_view_count": null,
      "_view_module": "@jupyter-widgets/base",
      "_view_module_version": "1.2.0",
      "_view_name": "LayoutView",
      "align_content": null,
      "align_items": null,
      "align_self": null,
      "border": null,
      "bottom": null,
      "display": null,
      "flex": null,
      "flex_flow": null,
      "grid_area": null,
      "grid_auto_columns": null,
      "grid_auto_flow": null,
      "grid_auto_rows": null,
      "grid_column": null,
      "grid_gap": null,
      "grid_row": null,
      "grid_template_areas": null,
      "grid_template_columns": null,
      "grid_template_rows": null,
      "height": null,
      "justify_content": null,
      "justify_items": null,
      "left": null,
      "margin": null,
      "max_height": null,
      "max_width": null,
      "min_height": null,
      "min_width": null,
      "object_fit": null,
      "object_position": null,
      "order": null,
      "overflow": null,
      "overflow_x": null,
      "overflow_y": null,
      "padding": null,
      "right": null,
      "top": null,
      "visibility": null,
      "width": null
     }
    },
    "df391294ba674216976fd1f01aae0a37": {
     "model_module": "@jupyter-widgets/controls",
     "model_module_version": "1.5.0",
     "model_name": "FloatProgressModel",
     "state": {
      "_dom_classes": [],
      "_model_module": "@jupyter-widgets/controls",
      "_model_module_version": "1.5.0",
      "_model_name": "FloatProgressModel",
      "_view_count": null,
      "_view_module": "@jupyter-widgets/controls",
      "_view_module_version": "1.5.0",
      "_view_name": "ProgressView",
      "bar_style": "success",
      "description": "",
      "description_tooltip": null,
      "layout": "IPY_MODEL_aa719223ae57425881e90359282b50f0",
      "max": 21954,
      "min": 0,
      "orientation": "horizontal",
      "style": "IPY_MODEL_4ea6bec8677b40548ac21774f6713c45",
      "value": 21954
     }
    },
    "e2ab3cf087d341d5833f987e62b18ffc": {
     "model_module": "@jupyter-widgets/controls",
     "model_module_version": "1.5.0",
     "model_name": "DescriptionStyleModel",
     "state": {
      "_model_module": "@jupyter-widgets/controls",
      "_model_module_version": "1.5.0",
      "_model_name": "DescriptionStyleModel",
      "_view_count": null,
      "_view_module": "@jupyter-widgets/base",
      "_view_module_version": "1.2.0",
      "_view_name": "StyleView",
      "description_width": ""
     }
    },
    "e430ecb9183047958b3210dbbd0128fa": {
     "model_module": "@jupyter-widgets/controls",
     "model_module_version": "1.5.0",
     "model_name": "DescriptionStyleModel",
     "state": {
      "_model_module": "@jupyter-widgets/controls",
      "_model_module_version": "1.5.0",
      "_model_name": "DescriptionStyleModel",
      "_view_count": null,
      "_view_module": "@jupyter-widgets/base",
      "_view_module_version": "1.2.0",
      "_view_name": "StyleView",
      "description_width": ""
     }
    },
    "ea5aaf5a440147e3a0837c90c8d55a94": {
     "model_module": "@jupyter-widgets/controls",
     "model_module_version": "1.5.0",
     "model_name": "FloatProgressModel",
     "state": {
      "_dom_classes": [],
      "_model_module": "@jupyter-widgets/controls",
      "_model_module_version": "1.5.0",
      "_model_name": "FloatProgressModel",
      "_view_count": null,
      "_view_module": "@jupyter-widgets/controls",
      "_view_module_version": "1.5.0",
      "_view_name": "ProgressView",
      "bar_style": "success",
      "description": "",
      "description_tooltip": null,
      "layout": "IPY_MODEL_25a0b3e8d107451e9e6deed697f46954",
      "max": 3450,
      "min": 0,
      "orientation": "horizontal",
      "style": "IPY_MODEL_4b40e66fe0d84758af766de4b1d45cc7",
      "value": 3450
     }
    }
   }
  }
 },
 "nbformat": 4,
 "nbformat_minor": 1
}
