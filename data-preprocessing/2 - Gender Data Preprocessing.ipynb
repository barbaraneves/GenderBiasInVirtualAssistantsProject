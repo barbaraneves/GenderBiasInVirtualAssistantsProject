{
 "cells": [
  {
   "cell_type": "markdown",
   "metadata": {
    "id": "PYQz0KmRNRua"
   },
   "source": [
    "# *Gender Bias in Virtual Assistants Project*\n",
    "\n",
    "### Identificando Preconceitos de Gênero em Assistentes Virtuais\n",
    "\n",
    "![From Google](https://media-assets-01.thedrum.com/cache/images/thedrum-prod/s3-news-tmp-145694-untitled_design_70--default--1280.png)\n",
    "\n",
    "### Equipe formada por\n",
    "- Bárbara Stéphanie Neves Oliveira, 507526\n",
    "- Lucas Benjamim Cunha Bandeira, 507533\n",
    "- Samir Braga Chaves, 513788\n",
    "- Vinicius Bernardo Gabriel, 475210\n"
   ]
  },
  {
   "cell_type": "markdown",
   "metadata": {
    "id": "E6K0PBNKlQgL"
   },
   "source": [
    "# *Gender Datasets* \n",
    "\n",
    "<center>\n",
    "  <img width=\"600\" src=\"https://drive.google.com/uc?id=11KlguWCUIDUzA8bN5dtzzab4tiY_2pz4\"/>\n",
    "</center>\n",
    "\n",
    "---\n",
    "\n",
    "### Descrição do MDGender *Dataset*\n",
    "\n",
    "- ***Schema* dos dados:**\n",
    "\n",
    "``` py\n",
    "{\n",
    "  \"class_type\": [\n",
    "    0: \"about\",\n",
    "    1: \"partner\",\n",
    "    2: \"self\"\n",
    "  ],\n",
    "  \"confidence\": \"string\",\n",
    "  \"episode_done\": \"bool\",\n",
    "  \"labels\": [\n",
    "    0: \"ABOUT:female\"\n",
    "    1: \"ABOUT:male\",\n",
    "    2: \"PARTNER:female\",\n",
    "    3: \"PARTNER:male\",\n",
    "    4: \"SELF:female\",\n",
    "    5: \"SELF:male\"\n",
    "  ],\n",
    "  \"original\": \"string\",\n",
    "  \"text\": \"string\",\n",
    "  \"turker_gender\": [\n",
    "    0: \"man\",\n",
    "    1: \"woman\",\n",
    "    2: \"nonbinary\",\n",
    "    3: \"prefer not to say\",\n",
    "    4: \"no answer\"\n",
    "  ]\n",
    "}\n",
    "```\n",
    "\n",
    "- **Sumário:** \n",
    "> - Possui 232 MB de tamanho\n",
    "  - Campos do *schema* dos dados\n",
    "    - `class_type` - dimensão da classificação\n",
    "    - `confidence` - confiança do anotador em resposta ao rótulo do texto, sendo masculino ou feminino em relação às dimensões ABOUT/TO/AS\n",
    "    - `episode_done` - valor que indica se a conversa foi concluída\n",
    "    - `labels` - rótulo de classificação, com valores possíveis incluindo `ABOUT:female`, `ABOUT:male`, `PARTNER:female`, `PARTNER:male`, `SELF:female` e `SELF:male`.\n",
    "    - `original` - texto antes da reformulação\n",
    "    - `text` - texto a ser classificado\n",
    "    - `turker_gender` - respota do anotador em relação a seu gênero\n",
    "\n",
    "---\n",
    "\n",
    "### Descrição do ConvAI2 *Dataset*\n",
    "\n",
    "- ***Schema* dos dados:**\n",
    "\n",
    "``` py\n",
    "  { \n",
    "    # Anotação binária\n",
    "    \"binary_label\": [ \n",
    "      0: \"ABOUT:female\",\n",
    "      1: \"ABOUT:male\"\n",
    "    ],\n",
    "    \"binary_score\": \"float32\", # Score da anotação binária\n",
    "\n",
    "    # Anotação considernado o gênero neutro\n",
    "    \"ternary_label\": [ \n",
    "      0: \"ABOUT:female\",\n",
    "      1: \"ABOUT:male\",\n",
    "      2: \"ABOUT:gender-neutral\"\n",
    "    ],\n",
    "    \"ternary_score\": \"float32\", # Score da anotação ternária\n",
    "    \"text\": \"string\"\n",
    "  }\n",
    "```\n",
    "\n",
    "- **Sumário:** \n",
    "> - Possui 243 MB de tamanho\n",
    "  - Campos do *schema* dos dados\n",
    "    - `text` - o texto a ser classificado\n",
    "    - `binary_label` - um rótulo de classificação, com valores possíveis incluindo `ABOUT:female` e `ABOUT:male`\n",
    "    - `binary_score` - valor que indica uma pontuação entre 0 e 1\n",
    "    - `ternary_label` - um rótulo de classificação, com valores possíveis incluindo `ABOUT:female`, `ABOUT:male` e `ABOUT:gender-neutral`\n",
    "    - `ternary_score` - valor que indica uma pontuação entre 0 e 1\n",
    "\n",
    "---\n",
    "\n",
    "### Descrição do LIGHT *Dataset*\n",
    "\n",
    "- ***Schema* dos dados:**\n",
    "> *Mesmo esquema do ConvIA2.*\n",
    "\n",
    "- **Sumário:** \n",
    "> - Possui 245 MB de tamanho\n",
    "  - Campos do *schema* dos dados\n",
    "    - `text` - o texto a ser classificado\n",
    "    - `binary_label` - um rótulo de classificação, com valores possíveis incluindo `ABOUT:female` e `ABOUT:male`\n",
    "    - `binary_score` - valor que indica uma pontuação entre 0 e 1\n",
    "    - `ternary_label` - um rótulo de classificação, com valores possíveis incluindo `ABOUT:female`, `ABOUT:male` e `ABOUT:gender-neutral`\n",
    "    - `ternary_score` - valor que indica uma pontuação entre 0 e 1\n",
    "\n"
   ]
  },
  {
   "cell_type": "markdown",
   "metadata": {
    "id": "uBNyKIpgNg3Q"
   },
   "source": [
    "# Imports"
   ]
  },
  {
   "cell_type": "code",
   "execution_count": null,
   "metadata": {
    "id": "1kgA_kk1wZWr"
   },
   "outputs": [],
   "source": [
    "import pandas as pd\n",
    "import numpy as np\n",
    "\n",
    "import matplotlib.pyplot as plt\n",
    "import seaborn as sns\n",
    "from datasets import load_dataset\n",
    "\n",
    "import string\n",
    "from spacy.lang.en import STOP_WORDS\n",
    "from sklearn.preprocessing import OneHotEncoder\n",
    "\n",
    "CMAP_ICEFIRE = plt.get_cmap('icefire')\n",
    "DEFAULT_FONT_SIZE = 14\n",
    "plt.rcParams['font.size'] = DEFAULT_FONT_SIZE\n",
    "\n",
    "BASE_PATH = '.'\n",
    "DATASETS_PATH = BASE_PATH + \"/resources/datasets\""
   ]
  },
  {
   "cell_type": "code",
   "execution_count": null,
   "metadata": {
    "id": "SmCv0nCT62sS"
   },
   "outputs": [],
   "source": [
    "# Adicionando módulos customizados ao path\n",
    "import sys\n",
    "import warnings\n",
    "warnings.filterwarnings('ignore')\n",
    "\n",
    "sys.path.append(BASE_PATH + '/modules')\n",
    "import utils, text\n",
    "from importlib import reload"
   ]
  },
  {
   "cell_type": "markdown",
   "metadata": {
    "id": "85Q8EMhHPRYs"
   },
   "source": [
    "# Leitura dos Dados"
   ]
  },
  {
   "cell_type": "code",
   "execution_count": null,
   "metadata": {
    "colab": {
     "base_uri": "https://localhost:8080/"
    },
    "executionInfo": {
     "elapsed": 20282,
     "status": "ok",
     "timestamp": 1629041052137,
     "user": {
      "displayName": "Bárbara Neves",
      "photoUrl": "https://lh3.googleusercontent.com/a-/AOh14GjAp_nU12lRGDLonAU6k8sURhdo84aDrahKT5_BTA=s64",
      "userId": "02067111595078707861"
     },
     "user_tz": 180
    },
    "id": "zDZBzqYwyFbL",
    "outputId": "c01c6b3c-5f17-4083-829d-811854537920"
   },
   "outputs": [
    {
     "name": "stderr",
     "output_type": "stream",
     "text": [
      "Reusing dataset md_gender_bias (/content/drive/MyDrive/Ciência de Dados/Projeto Final/Resources/Datasets/MDGender/md_gender_bias/new_data/1.0.0/01dacda3d3a362db704fa0485596d225bb3790186f7ab7625fa9f81c6402f224)\n",
      "Reusing dataset md_gender_bias (/content/drive/MyDrive/Ciência de Dados/Projeto Final/Resources/Datasets/MDGender/md_gender_bias/convai2_inferred/1.0.0/01dacda3d3a362db704fa0485596d225bb3790186f7ab7625fa9f81c6402f224)\n",
      "Reusing dataset md_gender_bias (/content/drive/MyDrive/Ciência de Dados/Projeto Final/Resources/Datasets/MDGender/md_gender_bias/light_inferred/1.0.0/01dacda3d3a362db704fa0485596d225bb3790186f7ab7625fa9f81c6402f224)\n"
     ]
    }
   ],
   "source": [
    "md_gender_data = load_dataset('md_gender_bias', 'new_data', cache_dir = DATASETS_PATH + \"/MDGender\")\n",
    "convai2_data = load_dataset('md_gender_bias', 'convai2_inferred', cache_dir = DATASETS_PATH + \"/MDGender\")\n",
    "light_data = load_dataset('md_gender_bias', 'light_inferred', cache_dir = DATASETS_PATH + \"/MDGender\")\n",
    "\n",
    "df_md_gender = pd.DataFrame(md_gender_data['train'])\n",
    "df_convai2 = pd.DataFrame(convai2_data['train'])\n",
    "df_light = pd.DataFrame(light_data['train'])"
   ]
  },
  {
   "cell_type": "code",
   "execution_count": null,
   "metadata": {
    "colab": {
     "base_uri": "https://localhost:8080/"
    },
    "executionInfo": {
     "elapsed": 37,
     "status": "ok",
     "timestamp": 1629041052146,
     "user": {
      "displayName": "Bárbara Neves",
      "photoUrl": "https://lh3.googleusercontent.com/a-/AOh14GjAp_nU12lRGDLonAU6k8sURhdo84aDrahKT5_BTA=s64",
      "userId": "02067111595078707861"
     },
     "user_tz": 180
    },
    "id": "KJSChxw7uZnh",
    "outputId": "ba8c9824-0248-4f1c-9b90-eb07c412ba62"
   },
   "outputs": [
    {
     "name": "stdout",
     "output_type": "stream",
     "text": [
      "-------------------- MDGENDER -------------------\n",
      "Número de instâncias = 2345\n",
      "Número de atributos = 7\n",
      "\n",
      "-------------------- CONVAI2 --------------------\n",
      "Número de instâncias = 131438\n",
      "Número de atributos = 5\n",
      "\n",
      "--------------------- LIGHT ---------------------\n",
      "Número de instâncias = 106122\n",
      "Número de atributos = 5\n"
     ]
    }
   ],
   "source": [
    "print('-------------------- MDGENDER -------------------')\n",
    "print('Número de instâncias = {}'.format(len(df_md_gender)))\n",
    "print('Número de atributos = {}'.format(len(df_md_gender.columns)))\n",
    "\n",
    "print('\\n-------------------- CONVAI2 --------------------')\n",
    "print('Número de instâncias = {}'.format(len(df_convai2)))\n",
    "print('Número de atributos = {}'.format(len(df_convai2.columns)))\n",
    "\n",
    "print('\\n--------------------- LIGHT ---------------------')\n",
    "print('Número de instâncias = {}'.format(len(df_light)))\n",
    "print('Número de atributos = {}'.format(len(df_light.columns)))"
   ]
  },
  {
   "cell_type": "code",
   "execution_count": null,
   "metadata": {
    "colab": {
     "base_uri": "https://localhost:8080/"
    },
    "executionInfo": {
     "elapsed": 426,
     "status": "ok",
     "timestamp": 1629041052548,
     "user": {
      "displayName": "Bárbara Neves",
      "photoUrl": "https://lh3.googleusercontent.com/a-/AOh14GjAp_nU12lRGDLonAU6k8sURhdo84aDrahKT5_BTA=s64",
      "userId": "02067111595078707861"
     },
     "user_tz": 180
    },
    "id": "9eetObNF0fBb",
    "outputId": "38cbfe9e-2ddc-49f6-8376-9cbe27c923fc"
   },
   "outputs": [
    {
     "name": "stdout",
     "output_type": "stream",
     "text": [
      "-------------------- MDGENDER -------------------\n",
      "Número de linhas duplicadas = 0\n",
      "Número de instâncias = 2292\n",
      "Número de instâncias após a remoção = 2292\n",
      "\n",
      "-------------------- CONVAI2 --------------------\n",
      "Número de linhas duplicadas = 15560\n",
      "Número de instâncias = 131438\n",
      "Número de instâncias após a remoção = 115878\n",
      "\n",
      "--------------------- LIGHT ---------------------\n",
      "Número de linhas duplicadas = 1497\n",
      "Número de instâncias = 106122\n",
      "Número de instâncias após a remoção = 104625\n"
     ]
    }
   ],
   "source": [
    "print('-------------------- MDGENDER -------------------')\n",
    "# Transformando a coluna labels em valores inteiros\n",
    "df_md_gender['labels'] = df_md_gender['labels'].apply(lambda x: x[0])\n",
    "# Selecionando os textos que possuem apenas um valor de confidence como certain e pretty sure\n",
    "df_md_gender = df_md_gender[df_md_gender['confidence'] != 'unsure']\n",
    "\n",
    "dups = df_md_gender.duplicated()\n",
    "print('Número de linhas duplicadas = {}'.format(dups.sum()))\n",
    "print('Número de instâncias = {}'.format(len(df_md_gender)))\n",
    "# Excluindo as linhas duplicadas\n",
    "df_md_gender.drop_duplicates(inplace=True)\n",
    "print('Número de instâncias após a remoção = {}'.format(len(df_md_gender)))\n",
    "\n",
    "print('\\n-------------------- CONVAI2 --------------------')\n",
    "dups = df_convai2.duplicated()\n",
    "print('Número de linhas duplicadas = {}'.format(dups.sum()))\n",
    "print('Número de instâncias = {}'.format(len(df_convai2)))\n",
    "# Excluindo as linhas duplicadas\n",
    "df_convai2.drop_duplicates(inplace=True)\n",
    "print('Número de instâncias após a remoção = {}'.format(len(df_convai2)))\n",
    "\n",
    "print('\\n--------------------- LIGHT ---------------------')\n",
    "dups = df_light.duplicated()\n",
    "print('Número de linhas duplicadas = {}'.format(dups.sum()))\n",
    "print('Número de instâncias = {}'.format(len(df_light)))\n",
    "# Excluindo as linhas duplicadas\n",
    "df_light.drop_duplicates(inplace=True)\n",
    "print('Número de instâncias após a remoção = {}'.format(len(df_light)))"
   ]
  },
  {
   "cell_type": "markdown",
   "metadata": {
    "id": "VLOqtUB4umqA"
   },
   "source": [
    "# Pré-Processamento dos Dados\n",
    "\n",
    "Como já realizamos uma análise exploratória de todos os ***gender datasets*** e guardamos algumas informações especificamente para a etapa de pré-processamento, executaremos os seguintes passos para treinamento e avaliação dos modelos com os conjuntos de dados de gênero: \n",
    "\n",
    "1. Limpeza dos dados e remoção das *stopwords*\n",
    "2. Seleção de uma *sample* para treino e avaliação com base em um *threshold* \n",
    "3. Vetorização das classes com *one-hot encoding*\n",
    "\n"
   ]
  },
  {
   "cell_type": "markdown",
   "metadata": {
    "id": "AwdBvaEkN_qw"
   },
   "source": [
    "## Limpeza dos Dados e Remoção das *Stopwords*\n",
    "\n",
    "Como todos os dados de gênero estão balanceados, partiremos logo para a etapa de normalização/limpeza dos dados. Nesta etapa, iremos repetir o que foi feito nos *notebooks* de EDA."
   ]
  },
  {
   "cell_type": "markdown",
   "metadata": {
    "id": "LUuoOTb-2vI7"
   },
   "source": [
    "### MD*Gender*"
   ]
  },
  {
   "cell_type": "code",
   "execution_count": null,
   "metadata": {
    "colab": {
     "base_uri": "https://localhost:8080/",
     "height": 357
    },
    "executionInfo": {
     "elapsed": 47,
     "status": "ok",
     "timestamp": 1629041052552,
     "user": {
      "displayName": "Bárbara Neves",
      "photoUrl": "https://lh3.googleusercontent.com/a-/AOh14GjAp_nU12lRGDLonAU6k8sURhdo84aDrahKT5_BTA=s64",
      "userId": "02067111595078707861"
     },
     "user_tz": 180
    },
    "id": "1OvFDvaBf_E6",
    "outputId": "b1b3ef88-e619-4f32-fb96-7232bc82f37b"
   },
   "outputs": [
    {
     "data": {
      "text/html": [
       "<div>\n",
       "<style scoped>\n",
       "    .dataframe tbody tr th:only-of-type {\n",
       "        vertical-align: middle;\n",
       "    }\n",
       "\n",
       "    .dataframe tbody tr th {\n",
       "        vertical-align: top;\n",
       "    }\n",
       "\n",
       "    .dataframe thead th {\n",
       "        text-align: right;\n",
       "    }\n",
       "</style>\n",
       "<table border=\"1\" class=\"dataframe\">\n",
       "  <thead>\n",
       "    <tr style=\"text-align: right;\">\n",
       "      <th></th>\n",
       "      <th>text</th>\n",
       "      <th>original</th>\n",
       "      <th>labels</th>\n",
       "      <th>class_type</th>\n",
       "      <th>turker_gender</th>\n",
       "      <th>episode_done</th>\n",
       "      <th>confidence</th>\n",
       "      <th>text_tokens</th>\n",
       "      <th>clean_text</th>\n",
       "      <th>text_tokens_count</th>\n",
       "      <th>clean_text_words2ignore</th>\n",
       "    </tr>\n",
       "  </thead>\n",
       "  <tbody>\n",
       "    <tr>\n",
       "      <th>0</th>\n",
       "      <td>He designed monumental Lovissa War Cemetery in...</td>\n",
       "      <td>She designed monumental Loviisa war cemetery ...</td>\n",
       "      <td>1</td>\n",
       "      <td>0</td>\n",
       "      <td>4</td>\n",
       "      <td>True</td>\n",
       "      <td>certain</td>\n",
       "      <td>[designed, monumental, lovissa, war, cemetery,...</td>\n",
       "      <td>he designed monumental lovissa war cemetery in...</td>\n",
       "      <td>8</td>\n",
       "      <td>designed monumental lovissa war cemetery 1920</td>\n",
       "    </tr>\n",
       "    <tr>\n",
       "      <th>1</th>\n",
       "      <td>She works as a volunteer firefighter.</td>\n",
       "      <td>I work as a volunteer firefighter.</td>\n",
       "      <td>4</td>\n",
       "      <td>2</td>\n",
       "      <td>4</td>\n",
       "      <td>True</td>\n",
       "      <td>certain</td>\n",
       "      <td>[works, volunteer, firefighter]</td>\n",
       "      <td>she works as a volunteer firefighter</td>\n",
       "      <td>6</td>\n",
       "      <td>works volunteer firefighter</td>\n",
       "    </tr>\n",
       "    <tr>\n",
       "      <th>2</th>\n",
       "      <td>She participated in the FIVB volleyball grand ...</td>\n",
       "      <td>She participated in the FIVB volleyball grand ...</td>\n",
       "      <td>0</td>\n",
       "      <td>0</td>\n",
       "      <td>4</td>\n",
       "      <td>True</td>\n",
       "      <td>certain</td>\n",
       "      <td>[participated, fivb, volleyball, grand, champi...</td>\n",
       "      <td>she participated in the fivb volleyball grand ...</td>\n",
       "      <td>11</td>\n",
       "      <td>participated fivb volleyball grand champions c...</td>\n",
       "    </tr>\n",
       "    <tr>\n",
       "      <th>3</th>\n",
       "      <td>Correct ! Walter Havighurst was an author of m...</td>\n",
       "      <td>Correct! Walter Havighurst was an author of ma...</td>\n",
       "      <td>1</td>\n",
       "      <td>0</td>\n",
       "      <td>4</td>\n",
       "      <td>True</td>\n",
       "      <td>certain</td>\n",
       "      <td>[correct, walter, havighurst, author, books, l...</td>\n",
       "      <td>correct walter havighurst was an author of man...</td>\n",
       "      <td>19</td>\n",
       "      <td>correct walter havighurst author books loved b...</td>\n",
       "    </tr>\n",
       "    <tr>\n",
       "      <th>4</th>\n",
       "      <td>Yes, she released only one album with them, \"w...</td>\n",
       "      <td>yes, He released only one album with them, \"Wo...</td>\n",
       "      <td>0</td>\n",
       "      <td>0</td>\n",
       "      <td>4</td>\n",
       "      <td>True</td>\n",
       "      <td>certain</td>\n",
       "      <td>[yes, released, album, wołanie, o, słońce, nad...</td>\n",
       "      <td>yes she released only one album with them woła...</td>\n",
       "      <td>13</td>\n",
       "      <td>yes released album wołanie o słońce nad światem</td>\n",
       "    </tr>\n",
       "  </tbody>\n",
       "</table>\n",
       "</div>"
      ],
      "text/plain": [
       "                                                text  ...                            clean_text_words2ignore\n",
       "0  He designed monumental Lovissa War Cemetery in...  ...      designed monumental lovissa war cemetery 1920\n",
       "1              She works as a volunteer firefighter.  ...                        works volunteer firefighter\n",
       "2  She participated in the FIVB volleyball grand ...  ...  participated fivb volleyball grand champions c...\n",
       "3  Correct ! Walter Havighurst was an author of m...  ...  correct walter havighurst author books loved b...\n",
       "4  Yes, she released only one album with them, \"w...  ...    yes released album wołanie o słońce nad światem\n",
       "\n",
       "[5 rows x 11 columns]"
      ]
     },
     "execution_count": 8,
     "metadata": {
      "tags": []
     },
     "output_type": "execute_result"
    }
   ],
   "source": [
    "df_md_gender['text_tokens'] = df_md_gender['text'].apply(lambda r: r.translate(str.maketrans('', '', string.punctuation)).lower().split()) \n",
    "df_md_gender['clean_text'] = df_md_gender['text_tokens'].apply(lambda x: ' '.join(x))\n",
    "df_md_gender['text_tokens_count'] = df_md_gender['text_tokens'].apply(lambda r: len(r)) # Quantidade de tokens de cada texto\n",
    "\n",
    "md_gender_all_tokens = df_md_gender['text_tokens'].explode() \n",
    "md_gender_all_clean_tokens = [token for token in md_gender_all_tokens if token not in STOP_WORDS]\n",
    "\n",
    "md_gender_most_common_clean_tokens = utils.make_most_common_words(md_gender_all_clean_tokens, n_most_common=50)\n",
    "md_gender_words2ignore = [tup[0] for tup in md_gender_most_common_clean_tokens if tup[1] > 20000] # Valor que estava no notebook de EDA\n",
    "md_gender_set_stop_words2ignore = STOP_WORDS.union(set(md_gender_words2ignore))\n",
    "\n",
    "df_md_gender['text_tokens'] = df_md_gender['text_tokens'].apply(lambda x: text.remove_potencial_stopwords(x, words2ignore=md_gender_set_stop_words2ignore))\n",
    "df_md_gender['clean_text_words2ignore'] = df_md_gender['text_tokens'].apply(lambda x: ' '.join(x))\n",
    "\n",
    "df_md_gender.head()"
   ]
  },
  {
   "cell_type": "code",
   "execution_count": null,
   "metadata": {
    "colab": {
     "base_uri": "https://localhost:8080/"
    },
    "executionInfo": {
     "elapsed": 39,
     "status": "ok",
     "timestamp": 1629041052555,
     "user": {
      "displayName": "Bárbara Neves",
      "photoUrl": "https://lh3.googleusercontent.com/a-/AOh14GjAp_nU12lRGDLonAU6k8sURhdo84aDrahKT5_BTA=s64",
      "userId": "02067111595078707861"
     },
     "user_tz": 180
    },
    "id": "KRyWDSpggeXR",
    "outputId": "83ba74d0-2bd0-4b57-e94c-04960983f0d6"
   },
   "outputs": [
    {
     "name": "stdout",
     "output_type": "stream",
     "text": [
      "Estatísticas básicas da contagem de tokens dos comentários =\n",
      "count    2292.000000\n",
      "mean       11.769634\n",
      "std         4.253448\n",
      "min         4.000000\n",
      "25%         9.000000\n",
      "50%        11.000000\n",
      "75%        14.000000\n",
      "max        32.000000\n",
      "Name: text_tokens_count, dtype: float64\n",
      "\n",
      "Quantidade de palavras de todos os comentários = 12130\n",
      "Quantidade de palavras ÚNICAS de todos os comentários = 2580\n"
     ]
    }
   ],
   "source": [
    "print('Estatísticas básicas da contagem de tokens dos comentários =\\n{}\\n'.format(df_md_gender['text_tokens_count'].describe()))\n",
    "\n",
    "# Todos os tokens dos comentários\n",
    "md_gender_all_tokens = df_md_gender['text_tokens'].explode() \n",
    "\n",
    "print('Quantidade de palavras de todos os comentários = {}'.format(len(list(md_gender_all_tokens))))\n",
    "print('Quantidade de palavras ÚNICAS de todos os comentários = {}'.format(len(set(md_gender_all_tokens))))"
   ]
  },
  {
   "cell_type": "code",
   "execution_count": null,
   "metadata": {
    "colab": {
     "base_uri": "https://localhost:8080/",
     "height": 517
    },
    "executionInfo": {
     "elapsed": 783,
     "status": "ok",
     "timestamp": 1629041053318,
     "user": {
      "displayName": "Bárbara Neves",
      "photoUrl": "https://lh3.googleusercontent.com/a-/AOh14GjAp_nU12lRGDLonAU6k8sURhdo84aDrahKT5_BTA=s64",
      "userId": "02067111595078707861"
     },
     "user_tz": 180
    },
    "id": "gRrFrDY9lraW",
    "outputId": "47447616-4fc9-4039-ba27-60e2bbac1073"
   },
   "outputs": [
    {
     "data": {
      "image/png": "[encoded data removed]",
      "text/plain": [
       "<Figure size 1152x576 with 1 Axes>"
      ]
     },
     "metadata": {
      "tags": []
     },
     "output_type": "display_data"
    }
   ],
   "source": [
    "utils.plot_distribution_large_data(df_md_gender['text_tokens_count'], \n",
    "                                   title='Distribuição do número de palavras dos textos', \n",
    "                                   xaxis_interval=1)"
   ]
  },
  {
   "cell_type": "markdown",
   "metadata": {
    "id": "2Vsk36TE3laC"
   },
   "source": [
    "### ConvIA2"
   ]
  },
  {
   "cell_type": "code",
   "execution_count": null,
   "metadata": {
    "colab": {
     "base_uri": "https://localhost:8080/",
     "height": 289
    },
    "executionInfo": {
     "elapsed": 1991,
     "status": "ok",
     "timestamp": 1629041055301,
     "user": {
      "displayName": "Bárbara Neves",
      "photoUrl": "https://lh3.googleusercontent.com/a-/AOh14GjAp_nU12lRGDLonAU6k8sURhdo84aDrahKT5_BTA=s64",
      "userId": "02067111595078707861"
     },
     "user_tz": 180
    },
    "id": "BP6A05Gp3laK",
    "outputId": "4a23cf92-e262-490e-bd7c-939aa92793a8"
   },
   "outputs": [
    {
     "data": {
      "text/html": [
       "<div>\n",
       "<style scoped>\n",
       "    .dataframe tbody tr th:only-of-type {\n",
       "        vertical-align: middle;\n",
       "    }\n",
       "\n",
       "    .dataframe tbody tr th {\n",
       "        vertical-align: top;\n",
       "    }\n",
       "\n",
       "    .dataframe thead th {\n",
       "        text-align: right;\n",
       "    }\n",
       "</style>\n",
       "<table border=\"1\" class=\"dataframe\">\n",
       "  <thead>\n",
       "    <tr style=\"text-align: right;\">\n",
       "      <th></th>\n",
       "      <th>text</th>\n",
       "      <th>binary_label</th>\n",
       "      <th>binary_score</th>\n",
       "      <th>ternary_label</th>\n",
       "      <th>ternary_score</th>\n",
       "      <th>text_tokens</th>\n",
       "      <th>clean_text</th>\n",
       "      <th>text_tokens_count</th>\n",
       "      <th>clean_text_words2ignore</th>\n",
       "    </tr>\n",
       "  </thead>\n",
       "  <tbody>\n",
       "    <tr>\n",
       "      <th>0</th>\n",
       "      <td>hi , how are you doing ? i'm getting ready to ...</td>\n",
       "      <td>1</td>\n",
       "      <td>0.6522</td>\n",
       "      <td>2</td>\n",
       "      <td>0.4496</td>\n",
       "      <td>[hi, im, getting, ready, cheetah, chasing, sta...</td>\n",
       "      <td>hi how are you doing im getting ready to do so...</td>\n",
       "      <td>17</td>\n",
       "      <td>hi im getting ready cheetah chasing stay shape</td>\n",
       "    </tr>\n",
       "    <tr>\n",
       "      <th>1</th>\n",
       "      <td>i am ! for my hobby i like to do canning or so...</td>\n",
       "      <td>1</td>\n",
       "      <td>0.6505</td>\n",
       "      <td>2</td>\n",
       "      <td>0.8413</td>\n",
       "      <td>[hobby, like, canning, whittling]</td>\n",
       "      <td>i am for my hobby i like to do canning or some...</td>\n",
       "      <td>13</td>\n",
       "      <td>hobby like canning whittling</td>\n",
       "    </tr>\n",
       "    <tr>\n",
       "      <th>2</th>\n",
       "      <td>that's neat . when i was in high school i plac...</td>\n",
       "      <td>1</td>\n",
       "      <td>0.8615</td>\n",
       "      <td>1</td>\n",
       "      <td>0.5290</td>\n",
       "      <td>[thats, neat, high, school, placed, 6th, 100m,...</td>\n",
       "      <td>thats neat when i was in high school i placed ...</td>\n",
       "      <td>14</td>\n",
       "      <td>thats neat high school placed 6th 100m dash</td>\n",
       "    </tr>\n",
       "    <tr>\n",
       "      <th>3</th>\n",
       "      <td>i do not . but i do have a favorite meat since...</td>\n",
       "      <td>0</td>\n",
       "      <td>0.6487</td>\n",
       "      <td>2</td>\n",
       "      <td>0.5111</td>\n",
       "      <td>[favorite, meat, eat, exclusively]</td>\n",
       "      <td>i do not but i do have a favorite meat since t...</td>\n",
       "      <td>17</td>\n",
       "      <td>favorite meat eat exclusively</td>\n",
       "    </tr>\n",
       "    <tr>\n",
       "      <th>4</th>\n",
       "      <td>i would have to say its prime rib . do you hav...</td>\n",
       "      <td>0</td>\n",
       "      <td>0.5697</td>\n",
       "      <td>2</td>\n",
       "      <td>0.5346</td>\n",
       "      <td>[prime, rib, favorite, foods]</td>\n",
       "      <td>i would have to say its prime rib do you have ...</td>\n",
       "      <td>14</td>\n",
       "      <td>prime rib favorite foods</td>\n",
       "    </tr>\n",
       "  </tbody>\n",
       "</table>\n",
       "</div>"
      ],
      "text/plain": [
       "                                                text  ...                         clean_text_words2ignore\n",
       "0  hi , how are you doing ? i'm getting ready to ...  ...  hi im getting ready cheetah chasing stay shape\n",
       "1  i am ! for my hobby i like to do canning or so...  ...                    hobby like canning whittling\n",
       "2  that's neat . when i was in high school i plac...  ...     thats neat high school placed 6th 100m dash\n",
       "3  i do not . but i do have a favorite meat since...  ...                   favorite meat eat exclusively\n",
       "4  i would have to say its prime rib . do you hav...  ...                        prime rib favorite foods\n",
       "\n",
       "[5 rows x 9 columns]"
      ]
     },
     "execution_count": 11,
     "metadata": {
      "tags": []
     },
     "output_type": "execute_result"
    }
   ],
   "source": [
    "df_convai2['text_tokens'] = df_convai2['text'].apply(lambda r: r.translate(str.maketrans('', '', string.punctuation)).lower().split()) \n",
    "df_convai2['clean_text'] = df_convai2['text_tokens'].apply(lambda x: ' '.join(x))\n",
    "df_convai2['text_tokens_count'] = df_convai2['text_tokens'].apply(lambda r: len(r)) # Quantidade de tokens de cada texto\n",
    "\n",
    "convai2_all_tokens = df_convai2['text_tokens'].explode() \n",
    "convai2_all_clean_tokens = [token for token in convai2_all_tokens if token not in STOP_WORDS]\n",
    "\n",
    "convai2_most_common_clean_tokens = utils.make_most_common_words(convai2_all_clean_tokens, n_most_common=50)\n",
    "convai2_words2ignore = [tup[0] for tup in convai2_most_common_clean_tokens if tup[1] > 20000] # Valor que estava no notebook de EDA\n",
    "convai2_set_stop_words2ignore = STOP_WORDS.union(set(convai2_words2ignore))\n",
    "\n",
    "df_convai2['text_tokens'] = df_convai2['text_tokens'].apply(lambda x: utils.remove_potencial_stopwords(x, words2ignore=convai2_set_stop_words2ignore))\n",
    "df_convai2['clean_text_words2ignore'] = df_convai2['text_tokens'].apply(lambda x: ' '.join(x))\n",
    "\n",
    "df_convai2.head()"
   ]
  },
  {
   "cell_type": "code",
   "execution_count": null,
   "metadata": {
    "colab": {
     "base_uri": "https://localhost:8080/"
    },
    "executionInfo": {
     "elapsed": 447,
     "status": "ok",
     "timestamp": 1629041055738,
     "user": {
      "displayName": "Bárbara Neves",
      "photoUrl": "https://lh3.googleusercontent.com/a-/AOh14GjAp_nU12lRGDLonAU6k8sURhdo84aDrahKT5_BTA=s64",
      "userId": "02067111595078707861"
     },
     "user_tz": 180
    },
    "id": "2wk_ZA4x3laN",
    "outputId": "802a4aaf-321e-47e7-9ab8-700efe26a5ca"
   },
   "outputs": [
    {
     "name": "stdout",
     "output_type": "stream",
     "text": [
      "Estatísticas básicas da contagem de tokens dos comentários =\n",
      "count    115878.000000\n",
      "mean         10.153316\n",
      "std           3.343498\n",
      "min           0.000000\n",
      "25%           7.000000\n",
      "50%          10.000000\n",
      "75%          13.000000\n",
      "max          20.000000\n",
      "Name: text_tokens_count, dtype: float64\n",
      "\n",
      "Quantidade de palavras de todos os comentários = 518576\n",
      "Quantidade de palavras ÚNICAS de todos os comentários = 17783\n"
     ]
    }
   ],
   "source": [
    "print('Estatísticas básicas da contagem de tokens dos comentários =\\n{}\\n'.format(df_convai2['text_tokens_count'].describe()))\n",
    "\n",
    "# Todos os tokens dos comentários\n",
    "convai2_all_tokens = df_convai2['text_tokens'].explode() \n",
    "\n",
    "print('Quantidade de palavras de todos os comentários = {}'.format(len(list(convai2_all_tokens))))\n",
    "print('Quantidade de palavras ÚNICAS de todos os comentários = {}'.format(len(set(convai2_all_tokens))))"
   ]
  },
  {
   "cell_type": "code",
   "execution_count": null,
   "metadata": {
    "colab": {
     "base_uri": "https://localhost:8080/",
     "height": 519
    },
    "executionInfo": {
     "elapsed": 587,
     "status": "ok",
     "timestamp": 1629041056320,
     "user": {
      "displayName": "Bárbara Neves",
      "photoUrl": "https://lh3.googleusercontent.com/a-/AOh14GjAp_nU12lRGDLonAU6k8sURhdo84aDrahKT5_BTA=s64",
      "userId": "02067111595078707861"
     },
     "user_tz": 180
    },
    "id": "KUkYhGvt3laO",
    "outputId": "79437c02-70f6-4ae3-d484-d53af281ce90"
   },
   "outputs": [
    {
     "data": {
      "image/png": "[encoded data removed]",
      "text/plain": [
       "<Figure size 1152x576 with 1 Axes>"
      ]
     },
     "metadata": {
      "tags": []
     },
     "output_type": "display_data"
    }
   ],
   "source": [
    "utils.plot_distribution_large_data(df_convai2['text_tokens_count'], \n",
    "                                   title='Distribuição do número de palavras dos textos', \n",
    "                                   xaxis_interval=1)"
   ]
  },
  {
   "cell_type": "markdown",
   "metadata": {
    "id": "tb3QvSTM36gF"
   },
   "source": [
    "### LIGHT"
   ]
  },
  {
   "cell_type": "code",
   "execution_count": null,
   "metadata": {
    "colab": {
     "base_uri": "https://localhost:8080/",
     "height": 238
    },
    "executionInfo": {
     "elapsed": 2154,
     "status": "ok",
     "timestamp": 1629041058464,
     "user": {
      "displayName": "Bárbara Neves",
      "photoUrl": "https://lh3.googleusercontent.com/a-/AOh14GjAp_nU12lRGDLonAU6k8sURhdo84aDrahKT5_BTA=s64",
      "userId": "02067111595078707861"
     },
     "user_tz": 180
    },
    "id": "VKn6jgfK36gU",
    "outputId": "b716ceb1-2108-450b-b855-e6f62fbbdf05"
   },
   "outputs": [
    {
     "data": {
      "text/html": [
       "<div>\n",
       "<style scoped>\n",
       "    .dataframe tbody tr th:only-of-type {\n",
       "        vertical-align: middle;\n",
       "    }\n",
       "\n",
       "    .dataframe tbody tr th {\n",
       "        vertical-align: top;\n",
       "    }\n",
       "\n",
       "    .dataframe thead th {\n",
       "        text-align: right;\n",
       "    }\n",
       "</style>\n",
       "<table border=\"1\" class=\"dataframe\">\n",
       "  <thead>\n",
       "    <tr style=\"text-align: right;\">\n",
       "      <th></th>\n",
       "      <th>text</th>\n",
       "      <th>binary_label</th>\n",
       "      <th>binary_score</th>\n",
       "      <th>ternary_label</th>\n",
       "      <th>ternary_score</th>\n",
       "      <th>text_tokens</th>\n",
       "      <th>clean_text</th>\n",
       "      <th>text_tokens_count</th>\n",
       "      <th>clean_text_words2ignore</th>\n",
       "    </tr>\n",
       "  </thead>\n",
       "  <tbody>\n",
       "    <tr>\n",
       "      <th>0</th>\n",
       "      <td>hello</td>\n",
       "      <td>0</td>\n",
       "      <td>0.5660</td>\n",
       "      <td>2</td>\n",
       "      <td>0.3920</td>\n",
       "      <td>[hello]</td>\n",
       "      <td>hello</td>\n",
       "      <td>1</td>\n",
       "      <td>hello</td>\n",
       "    </tr>\n",
       "    <tr>\n",
       "      <th>1</th>\n",
       "      <td>what brings you here, dear?</td>\n",
       "      <td>0</td>\n",
       "      <td>0.5897</td>\n",
       "      <td>0</td>\n",
       "      <td>0.4741</td>\n",
       "      <td>[brings, dear]</td>\n",
       "      <td>what brings you here dear</td>\n",
       "      <td>5</td>\n",
       "      <td>brings dear</td>\n",
       "    </tr>\n",
       "    <tr>\n",
       "      <th>2</th>\n",
       "      <td>oh goddess of the forest, we seek thy blessings!</td>\n",
       "      <td>0</td>\n",
       "      <td>0.7413</td>\n",
       "      <td>2</td>\n",
       "      <td>0.5145</td>\n",
       "      <td>[oh, goddess, forest, seek, thy, blessings]</td>\n",
       "      <td>oh goddess of the forest we seek thy blessings</td>\n",
       "      <td>9</td>\n",
       "      <td>oh goddess forest seek thy blessings</td>\n",
       "    </tr>\n",
       "    <tr>\n",
       "      <th>3</th>\n",
       "      <td>time to rest, we can leave the launching point...</td>\n",
       "      <td>1</td>\n",
       "      <td>0.6374</td>\n",
       "      <td>2</td>\n",
       "      <td>0.5910</td>\n",
       "      <td>[time, rest, leave, launching, point, tomorrow]</td>\n",
       "      <td>time to rest we can leave the launching point ...</td>\n",
       "      <td>10</td>\n",
       "      <td>time rest leave launching point tomorrow</td>\n",
       "    </tr>\n",
       "    <tr>\n",
       "      <th>4</th>\n",
       "      <td>-tweets a song-</td>\n",
       "      <td>0</td>\n",
       "      <td>0.5460</td>\n",
       "      <td>1</td>\n",
       "      <td>0.4366</td>\n",
       "      <td>[tweets, song]</td>\n",
       "      <td>tweets a song</td>\n",
       "      <td>3</td>\n",
       "      <td>tweets song</td>\n",
       "    </tr>\n",
       "  </tbody>\n",
       "</table>\n",
       "</div>"
      ],
      "text/plain": [
       "                                                text  ...                   clean_text_words2ignore\n",
       "0                                              hello  ...                                     hello\n",
       "1                        what brings you here, dear?  ...                               brings dear\n",
       "2   oh goddess of the forest, we seek thy blessings!  ...      oh goddess forest seek thy blessings\n",
       "3  time to rest, we can leave the launching point...  ...  time rest leave launching point tomorrow\n",
       "4                                    -tweets a song-  ...                               tweets song\n",
       "\n",
       "[5 rows x 9 columns]"
      ]
     },
     "execution_count": 14,
     "metadata": {
      "tags": []
     },
     "output_type": "execute_result"
    }
   ],
   "source": [
    "df_light['text_tokens'] = df_light['text'].apply(lambda r: r.translate(str.maketrans('', '', string.punctuation)).lower().split()) \n",
    "df_light['clean_text'] = df_light['text_tokens'].apply(lambda x: ' '.join(x))\n",
    "df_light['text_tokens_count'] = df_light['text_tokens'].apply(lambda r: len(r)) # Quantidade de tokens de cada texto\n",
    "\n",
    "light_all_tokens = df_light['text_tokens'].explode() \n",
    "light_all_clean_tokens = [token for token in light_all_tokens if token not in STOP_WORDS]\n",
    "\n",
    "light_most_common_clean_tokens = utils.make_most_common_words(light_all_clean_tokens, n_most_common=50)\n",
    "light_words2ignore = [tup[0] for tup in light_most_common_clean_tokens if tup[1] > 20000] # Valor que estava no notebook de EDA\n",
    "light_set_stop_words2ignore = STOP_WORDS.union(set(light_words2ignore))\n",
    "\n",
    "df_light['text_tokens'] = df_light['text_tokens'].apply(lambda x: utils.remove_potencial_stopwords(x, words2ignore=light_set_stop_words2ignore))\n",
    "df_light['clean_text_words2ignore'] = df_light['text_tokens'].apply(lambda x: ' '.join(x))\n",
    "\n",
    "df_light.head()"
   ]
  },
  {
   "cell_type": "code",
   "execution_count": null,
   "metadata": {
    "colab": {
     "base_uri": "https://localhost:8080/"
    },
    "executionInfo": {
     "elapsed": 382,
     "status": "ok",
     "timestamp": 1629041058836,
     "user": {
      "displayName": "Bárbara Neves",
      "photoUrl": "https://lh3.googleusercontent.com/a-/AOh14GjAp_nU12lRGDLonAU6k8sURhdo84aDrahKT5_BTA=s64",
      "userId": "02067111595078707861"
     },
     "user_tz": 180
    },
    "id": "-If9ncw836gZ",
    "outputId": "a420acfa-6e30-475b-f030-08410c35c13b"
   },
   "outputs": [
    {
     "name": "stdout",
     "output_type": "stream",
     "text": [
      "Estatísticas básicas da contagem de tokens dos comentários =\n",
      "count    104625.000000\n",
      "mean         15.181945\n",
      "std           9.716477\n",
      "min           0.000000\n",
      "25%           8.000000\n",
      "50%          13.000000\n",
      "75%          20.000000\n",
      "max         131.000000\n",
      "Name: text_tokens_count, dtype: float64\n",
      "\n",
      "Quantidade de palavras de todos os comentários = 611503\n",
      "Quantidade de palavras ÚNICAS de todos os comentários = 29276\n"
     ]
    }
   ],
   "source": [
    "print('Estatísticas básicas da contagem de tokens dos comentários =\\n{}\\n'.format(df_light['text_tokens_count'].describe()))\n",
    "\n",
    "# Todos os tokens dos comentários\n",
    "light_all_tokens = df_light['text_tokens'].explode() \n",
    "\n",
    "print('Quantidade de palavras de todos os comentários = {}'.format(len(list(light_all_tokens))))\n",
    "print('Quantidade de palavras ÚNICAS de todos os comentários = {}'.format(len(set(light_all_tokens))))"
   ]
  },
  {
   "cell_type": "code",
   "execution_count": null,
   "metadata": {
    "colab": {
     "base_uri": "https://localhost:8080/",
     "height": 524
    },
    "executionInfo": {
     "elapsed": 807,
     "status": "ok",
     "timestamp": 1629041059635,
     "user": {
      "displayName": "Bárbara Neves",
      "photoUrl": "https://lh3.googleusercontent.com/a-/AOh14GjAp_nU12lRGDLonAU6k8sURhdo84aDrahKT5_BTA=s64",
      "userId": "02067111595078707861"
     },
     "user_tz": 180
    },
    "id": "SskgOvbS36gb",
    "outputId": "fe9e33e6-6c2d-44f3-ae56-831bf08a8d3c"
   },
   "outputs": [
    {
     "data": {
      "image/png": "[encoded data removed]",
      "text/plain": [
       "<Figure size 1152x576 with 1 Axes>"
      ]
     },
     "metadata": {
      "tags": []
     },
     "output_type": "display_data"
    }
   ],
   "source": [
    "utils.plot_distribution_large_data(df_light['text_tokens_count'], \n",
    "                                   title='Distribuição do número de palavras dos textos', \n",
    "                                   xaxis_interval=10)"
   ]
  },
  {
   "cell_type": "markdown",
   "metadata": {
    "id": "1au6A05ZnKd6"
   },
   "source": [
    "## *Sample* Final dos Dados\n",
    "\n",
    "Aqui, iremos selecionar uma *sample* final dos conjuntos de dados. Como o intuito final do presente trabalho consiste em unir as predições de dois modelos diferentes (um para identificação de viés de gênero e outro para toxicidade), precisamos escolher um valor de *threshold* para o tamanho dos textos. Nossos modelos precisam receber textos que possuam uma quantidade de palavras proporcional.\n",
    "\n",
    "- Valor do *threshold* = até 60 palavras"
   ]
  },
  {
   "cell_type": "code",
   "execution_count": null,
   "metadata": {
    "colab": {
     "base_uri": "https://localhost:8080/"
    },
    "executionInfo": {
     "elapsed": 71,
     "status": "ok",
     "timestamp": 1629041059638,
     "user": {
      "displayName": "Bárbara Neves",
      "photoUrl": "https://lh3.googleusercontent.com/a-/AOh14GjAp_nU12lRGDLonAU6k8sURhdo84aDrahKT5_BTA=s64",
      "userId": "02067111595078707861"
     },
     "user_tz": 180
    },
    "id": "QGERRhk24Nd5",
    "outputId": "ece3b7bc-96ee-4a57-cb00-4eba60b2243f"
   },
   "outputs": [
    {
     "name": "stdout",
     "output_type": "stream",
     "text": [
      "-------------------- MDGENDER -------------------\n",
      "Número de instâncias = 2292\n",
      "Número de instâncias após a remoção = 2292\n",
      "\n",
      "-------------------- CONVAI2 --------------------\n",
      "Número de instâncias = 115878\n",
      "Número de instâncias após a remoção = 115809\n",
      "\n",
      "--------------------- LIGHT ---------------------\n",
      "Número de instâncias = 104625\n",
      "Número de instâncias após a remoção = 103601\n"
     ]
    }
   ],
   "source": [
    "print('-------------------- MDGENDER -------------------')\n",
    "print('Número de instâncias = {}'.format(len(df_md_gender)))\n",
    "df_md_gender = df_md_gender[df_md_gender['text_tokens_count'] > 1] # Retirando textos que possuem apenas uma palavra (ou nenhuma)\n",
    "df_md_gender = df_md_gender[df_md_gender['text_tokens_count'] <= text.MAX_LENGTH]\n",
    "print('Número de instâncias após a remoção = {}'.format(len(df_md_gender)))\n",
    "\n",
    "print('\\n-------------------- CONVAI2 --------------------')\n",
    "print('Número de instâncias = {}'.format(len(df_convai2)))\n",
    "df_convai2 = df_convai2[df_convai2['text_tokens_count'] > 1] # Retirando textos que possuem apenas uma palavra (ou nenhuma)\n",
    "df_convai2 = df_convai2[df_convai2['text_tokens_count'] <= text.MAX_LENGTH]\n",
    "print('Número de instâncias após a remoção = {}'.format(len(df_convai2)))\n",
    "\n",
    "\n",
    "print('\\n--------------------- LIGHT ---------------------')\n",
    "print('Número de instâncias = {}'.format(len(df_light)))\n",
    "df_light = df_light[df_light['text_tokens_count'] > 1] # Retirando textos que possuem apenas uma palavra (ou nenhuma)\n",
    "df_light = df_light[df_light['text_tokens_count'] <= text.MAX_LENGTH]\n",
    "print('Número de instâncias após a remoção = {}'.format(len(df_light)))"
   ]
  },
  {
   "cell_type": "markdown",
   "metadata": {
    "id": "KOqWsLrM40HF"
   },
   "source": [
    "## *One-hot Encoding* das Classes\n",
    "\n",
    "Como as nossas classes são categóricas, iremos aplicar a técnica de *one-hot encoding* [[1](https://machinelearningmastery.com/why-one-hot-encode-data-in-machine-learning/)]."
   ]
  },
  {
   "cell_type": "code",
   "execution_count": null,
   "metadata": {
    "id": "9vc04rNBimAu"
   },
   "outputs": [],
   "source": [
    "binary_labels = ['male', 'female']\n",
    "ternary_labels = ['male', 'female', 'neutral']\n",
    "\n",
    "enc = OneHotEncoder(sparse=False)"
   ]
  },
  {
   "cell_type": "markdown",
   "metadata": {
    "id": "7KP7uwHkKEwY"
   },
   "source": [
    "### MD*Gender*"
   ]
  },
  {
   "cell_type": "code",
   "execution_count": null,
   "metadata": {
    "id": "fxQTssWmKMjB"
   },
   "outputs": [],
   "source": [
    "FEMALE = [0, 2, 4]\n",
    "MALE = [1, 3, 5]\n",
    "\n",
    "def change_column_labels(row):\n",
    "  if row in FEMALE:\n",
    "    return 'female'\n",
    "  else:\n",
    "    return 'male'"
   ]
  },
  {
   "cell_type": "code",
   "execution_count": null,
   "metadata": {
    "colab": {
     "base_uri": "https://localhost:8080/",
     "height": 357
    },
    "executionInfo": {
     "elapsed": 61,
     "status": "ok",
     "timestamp": 1629041059649,
     "user": {
      "displayName": "Bárbara Neves",
      "photoUrl": "https://lh3.googleusercontent.com/a-/AOh14GjAp_nU12lRGDLonAU6k8sURhdo84aDrahKT5_BTA=s64",
      "userId": "02067111595078707861"
     },
     "user_tz": 180
    },
    "id": "w_RgReX0FqbP",
    "outputId": "1daa26de-8256-43d9-8306-efaeabf82402"
   },
   "outputs": [
    {
     "data": {
      "text/html": [
       "<div>\n",
       "<style scoped>\n",
       "    .dataframe tbody tr th:only-of-type {\n",
       "        vertical-align: middle;\n",
       "    }\n",
       "\n",
       "    .dataframe tbody tr th {\n",
       "        vertical-align: top;\n",
       "    }\n",
       "\n",
       "    .dataframe thead th {\n",
       "        text-align: right;\n",
       "    }\n",
       "</style>\n",
       "<table border=\"1\" class=\"dataframe\">\n",
       "  <thead>\n",
       "    <tr style=\"text-align: right;\">\n",
       "      <th></th>\n",
       "      <th>text</th>\n",
       "      <th>original</th>\n",
       "      <th>labels</th>\n",
       "      <th>class_type</th>\n",
       "      <th>turker_gender</th>\n",
       "      <th>episode_done</th>\n",
       "      <th>confidence</th>\n",
       "      <th>text_tokens</th>\n",
       "      <th>clean_text</th>\n",
       "      <th>text_tokens_count</th>\n",
       "      <th>clean_text_words2ignore</th>\n",
       "    </tr>\n",
       "  </thead>\n",
       "  <tbody>\n",
       "    <tr>\n",
       "      <th>0</th>\n",
       "      <td>He designed monumental Lovissa War Cemetery in...</td>\n",
       "      <td>She designed monumental Loviisa war cemetery ...</td>\n",
       "      <td>male</td>\n",
       "      <td>0</td>\n",
       "      <td>4</td>\n",
       "      <td>True</td>\n",
       "      <td>certain</td>\n",
       "      <td>[designed, monumental, lovissa, war, cemetery,...</td>\n",
       "      <td>he designed monumental lovissa war cemetery in...</td>\n",
       "      <td>8</td>\n",
       "      <td>designed monumental lovissa war cemetery 1920</td>\n",
       "    </tr>\n",
       "    <tr>\n",
       "      <th>1</th>\n",
       "      <td>She works as a volunteer firefighter.</td>\n",
       "      <td>I work as a volunteer firefighter.</td>\n",
       "      <td>female</td>\n",
       "      <td>2</td>\n",
       "      <td>4</td>\n",
       "      <td>True</td>\n",
       "      <td>certain</td>\n",
       "      <td>[works, volunteer, firefighter]</td>\n",
       "      <td>she works as a volunteer firefighter</td>\n",
       "      <td>6</td>\n",
       "      <td>works volunteer firefighter</td>\n",
       "    </tr>\n",
       "    <tr>\n",
       "      <th>2</th>\n",
       "      <td>She participated in the FIVB volleyball grand ...</td>\n",
       "      <td>She participated in the FIVB volleyball grand ...</td>\n",
       "      <td>female</td>\n",
       "      <td>0</td>\n",
       "      <td>4</td>\n",
       "      <td>True</td>\n",
       "      <td>certain</td>\n",
       "      <td>[participated, fivb, volleyball, grand, champi...</td>\n",
       "      <td>she participated in the fivb volleyball grand ...</td>\n",
       "      <td>11</td>\n",
       "      <td>participated fivb volleyball grand champions c...</td>\n",
       "    </tr>\n",
       "    <tr>\n",
       "      <th>3</th>\n",
       "      <td>Correct ! Walter Havighurst was an author of m...</td>\n",
       "      <td>Correct! Walter Havighurst was an author of ma...</td>\n",
       "      <td>male</td>\n",
       "      <td>0</td>\n",
       "      <td>4</td>\n",
       "      <td>True</td>\n",
       "      <td>certain</td>\n",
       "      <td>[correct, walter, havighurst, author, books, l...</td>\n",
       "      <td>correct walter havighurst was an author of man...</td>\n",
       "      <td>19</td>\n",
       "      <td>correct walter havighurst author books loved b...</td>\n",
       "    </tr>\n",
       "    <tr>\n",
       "      <th>4</th>\n",
       "      <td>Yes, she released only one album with them, \"w...</td>\n",
       "      <td>yes, He released only one album with them, \"Wo...</td>\n",
       "      <td>female</td>\n",
       "      <td>0</td>\n",
       "      <td>4</td>\n",
       "      <td>True</td>\n",
       "      <td>certain</td>\n",
       "      <td>[yes, released, album, wołanie, o, słońce, nad...</td>\n",
       "      <td>yes she released only one album with them woła...</td>\n",
       "      <td>13</td>\n",
       "      <td>yes released album wołanie o słońce nad światem</td>\n",
       "    </tr>\n",
       "  </tbody>\n",
       "</table>\n",
       "</div>"
      ],
      "text/plain": [
       "                                                text  ...                            clean_text_words2ignore\n",
       "0  He designed monumental Lovissa War Cemetery in...  ...      designed monumental lovissa war cemetery 1920\n",
       "1              She works as a volunteer firefighter.  ...                        works volunteer firefighter\n",
       "2  She participated in the FIVB volleyball grand ...  ...  participated fivb volleyball grand champions c...\n",
       "3  Correct ! Walter Havighurst was an author of m...  ...  correct walter havighurst author books loved b...\n",
       "4  Yes, she released only one album with them, \"w...  ...    yes released album wołanie o słońce nad światem\n",
       "\n",
       "[5 rows x 11 columns]"
      ]
     },
     "execution_count": 20,
     "metadata": {
      "tags": []
     },
     "output_type": "execute_result"
    }
   ],
   "source": [
    "df_md_gender['labels'] = df_md_gender['labels'].apply(change_column_labels)\n",
    "\n",
    "df_md_gender.head()"
   ]
  },
  {
   "cell_type": "code",
   "execution_count": null,
   "metadata": {
    "colab": {
     "base_uri": "https://localhost:8080/",
     "height": 581
    },
    "executionInfo": {
     "elapsed": 60,
     "status": "ok",
     "timestamp": 1629041059654,
     "user": {
      "displayName": "Bárbara Neves",
      "photoUrl": "https://lh3.googleusercontent.com/a-/AOh14GjAp_nU12lRGDLonAU6k8sURhdo84aDrahKT5_BTA=s64",
      "userId": "02067111595078707861"
     },
     "user_tz": 180
    },
    "id": "zyNHfqbbGn6p",
    "outputId": "cd9ccd00-74ed-43a2-a6b2-e57dbf7b9ac1"
   },
   "outputs": [
    {
     "data": {
      "text/html": [
       "<div>\n",
       "<style scoped>\n",
       "    .dataframe tbody tr th:only-of-type {\n",
       "        vertical-align: middle;\n",
       "    }\n",
       "\n",
       "    .dataframe tbody tr th {\n",
       "        vertical-align: top;\n",
       "    }\n",
       "\n",
       "    .dataframe thead th {\n",
       "        text-align: right;\n",
       "    }\n",
       "</style>\n",
       "<table border=\"1\" class=\"dataframe\">\n",
       "  <thead>\n",
       "    <tr style=\"text-align: right;\">\n",
       "      <th></th>\n",
       "      <th>text</th>\n",
       "      <th>original</th>\n",
       "      <th>labels</th>\n",
       "      <th>class_type</th>\n",
       "      <th>turker_gender</th>\n",
       "      <th>episode_done</th>\n",
       "      <th>confidence</th>\n",
       "      <th>text_tokens</th>\n",
       "      <th>clean_text</th>\n",
       "      <th>text_tokens_count</th>\n",
       "      <th>clean_text_words2ignore</th>\n",
       "      <th>labels_enc</th>\n",
       "      <th>label_pos_0</th>\n",
       "      <th>label_pos_1</th>\n",
       "    </tr>\n",
       "  </thead>\n",
       "  <tbody>\n",
       "    <tr>\n",
       "      <th>0</th>\n",
       "      <td>He designed monumental Lovissa War Cemetery in...</td>\n",
       "      <td>She designed monumental Loviisa war cemetery ...</td>\n",
       "      <td>male</td>\n",
       "      <td>0</td>\n",
       "      <td>4</td>\n",
       "      <td>True</td>\n",
       "      <td>certain</td>\n",
       "      <td>[designed, monumental, lovissa, war, cemetery,...</td>\n",
       "      <td>he designed monumental lovissa war cemetery in...</td>\n",
       "      <td>8</td>\n",
       "      <td>designed monumental lovissa war cemetery 1920</td>\n",
       "      <td>1</td>\n",
       "      <td>0.0</td>\n",
       "      <td>1.0</td>\n",
       "    </tr>\n",
       "    <tr>\n",
       "      <th>1</th>\n",
       "      <td>She works as a volunteer firefighter.</td>\n",
       "      <td>I work as a volunteer firefighter.</td>\n",
       "      <td>female</td>\n",
       "      <td>2</td>\n",
       "      <td>4</td>\n",
       "      <td>True</td>\n",
       "      <td>certain</td>\n",
       "      <td>[works, volunteer, firefighter]</td>\n",
       "      <td>she works as a volunteer firefighter</td>\n",
       "      <td>6</td>\n",
       "      <td>works volunteer firefighter</td>\n",
       "      <td>0</td>\n",
       "      <td>1.0</td>\n",
       "      <td>0.0</td>\n",
       "    </tr>\n",
       "    <tr>\n",
       "      <th>2</th>\n",
       "      <td>She participated in the FIVB volleyball grand ...</td>\n",
       "      <td>She participated in the FIVB volleyball grand ...</td>\n",
       "      <td>female</td>\n",
       "      <td>0</td>\n",
       "      <td>4</td>\n",
       "      <td>True</td>\n",
       "      <td>certain</td>\n",
       "      <td>[participated, fivb, volleyball, grand, champi...</td>\n",
       "      <td>she participated in the fivb volleyball grand ...</td>\n",
       "      <td>11</td>\n",
       "      <td>participated fivb volleyball grand champions c...</td>\n",
       "      <td>0</td>\n",
       "      <td>1.0</td>\n",
       "      <td>0.0</td>\n",
       "    </tr>\n",
       "    <tr>\n",
       "      <th>3</th>\n",
       "      <td>Correct ! Walter Havighurst was an author of m...</td>\n",
       "      <td>Correct! Walter Havighurst was an author of ma...</td>\n",
       "      <td>male</td>\n",
       "      <td>0</td>\n",
       "      <td>4</td>\n",
       "      <td>True</td>\n",
       "      <td>certain</td>\n",
       "      <td>[correct, walter, havighurst, author, books, l...</td>\n",
       "      <td>correct walter havighurst was an author of man...</td>\n",
       "      <td>19</td>\n",
       "      <td>correct walter havighurst author books loved b...</td>\n",
       "      <td>1</td>\n",
       "      <td>0.0</td>\n",
       "      <td>1.0</td>\n",
       "    </tr>\n",
       "    <tr>\n",
       "      <th>4</th>\n",
       "      <td>Yes, she released only one album with them, \"w...</td>\n",
       "      <td>yes, He released only one album with them, \"Wo...</td>\n",
       "      <td>female</td>\n",
       "      <td>0</td>\n",
       "      <td>4</td>\n",
       "      <td>True</td>\n",
       "      <td>certain</td>\n",
       "      <td>[yes, released, album, wołanie, o, słońce, nad...</td>\n",
       "      <td>yes she released only one album with them woła...</td>\n",
       "      <td>13</td>\n",
       "      <td>yes released album wołanie o słońce nad światem</td>\n",
       "      <td>0</td>\n",
       "      <td>1.0</td>\n",
       "      <td>0.0</td>\n",
       "    </tr>\n",
       "  </tbody>\n",
       "</table>\n",
       "</div>"
      ],
      "text/plain": [
       "                                                text  ... label_pos_1\n",
       "0  He designed monumental Lovissa War Cemetery in...  ...         1.0\n",
       "1              She works as a volunteer firefighter.  ...         0.0\n",
       "2  She participated in the FIVB volleyball grand ...  ...         0.0\n",
       "3  Correct ! Walter Havighurst was an author of m...  ...         1.0\n",
       "4  Yes, she released only one album with them, \"w...  ...         0.0\n",
       "\n",
       "[5 rows x 14 columns]"
      ]
     },
     "execution_count": 21,
     "metadata": {
      "tags": []
     },
     "output_type": "execute_result"
    }
   ],
   "source": [
    "df_md_gender['labels_enc'] = df_md_gender['labels'].astype('category').cat.codes.astype(int) \n",
    "df_md_gender_enc_labels = pd.DataFrame(enc.fit_transform(df_md_gender[['labels']])) \n",
    "\n",
    "df_md_gender = pd.concat([df_md_gender.reset_index(drop=True), df_md_gender_enc_labels.reset_index(drop=True)], axis=1)\n",
    "df_md_gender.rename(columns={\n",
    "    0: 'label_pos_0', # Female\n",
    "    1: 'label_pos_1', # Male\n",
    "}, inplace=True)\n",
    "\n",
    "df_md_gender.head()"
   ]
  },
  {
   "cell_type": "code",
   "execution_count": null,
   "metadata": {
    "id": "x4OGTvmdLwaz"
   },
   "outputs": [],
   "source": [
    "df_md_gender.to_csv('/content/drive/MyDrive/Ciência de Dados/Projeto Final/Resources/Datasets/MDGender/md_gender_bias/new_data/new_data.csv', index=False)"
   ]
  },
  {
   "cell_type": "markdown",
   "metadata": {
    "id": "khfcK_yPK2sS"
   },
   "source": [
    "### ConvAI2"
   ]
  },
  {
   "cell_type": "code",
   "execution_count": null,
   "metadata": {
    "colab": {
     "base_uri": "https://localhost:8080/",
     "height": 289
    },
    "executionInfo": {
     "elapsed": 364,
     "status": "ok",
     "timestamp": 1629041059970,
     "user": {
      "displayName": "Bárbara Neves",
      "photoUrl": "https://lh3.googleusercontent.com/a-/AOh14GjAp_nU12lRGDLonAU6k8sURhdo84aDrahKT5_BTA=s64",
      "userId": "02067111595078707861"
     },
     "user_tz": 180
    },
    "id": "1p8Iu8fsK2sd",
    "outputId": "582cc929-1b73-4d32-be28-67e051dcbade"
   },
   "outputs": [
    {
     "data": {
      "text/html": [
       "<div>\n",
       "<style scoped>\n",
       "    .dataframe tbody tr th:only-of-type {\n",
       "        vertical-align: middle;\n",
       "    }\n",
       "\n",
       "    .dataframe tbody tr th {\n",
       "        vertical-align: top;\n",
       "    }\n",
       "\n",
       "    .dataframe thead th {\n",
       "        text-align: right;\n",
       "    }\n",
       "</style>\n",
       "<table border=\"1\" class=\"dataframe\">\n",
       "  <thead>\n",
       "    <tr style=\"text-align: right;\">\n",
       "      <th></th>\n",
       "      <th>text</th>\n",
       "      <th>binary_label</th>\n",
       "      <th>binary_score</th>\n",
       "      <th>ternary_label</th>\n",
       "      <th>ternary_score</th>\n",
       "      <th>text_tokens</th>\n",
       "      <th>clean_text</th>\n",
       "      <th>text_tokens_count</th>\n",
       "      <th>clean_text_words2ignore</th>\n",
       "    </tr>\n",
       "  </thead>\n",
       "  <tbody>\n",
       "    <tr>\n",
       "      <th>0</th>\n",
       "      <td>hi , how are you doing ? i'm getting ready to ...</td>\n",
       "      <td>1</td>\n",
       "      <td>0.6522</td>\n",
       "      <td>neutral</td>\n",
       "      <td>0.4496</td>\n",
       "      <td>[hi, im, getting, ready, cheetah, chasing, sta...</td>\n",
       "      <td>hi how are you doing im getting ready to do so...</td>\n",
       "      <td>17</td>\n",
       "      <td>hi im getting ready cheetah chasing stay shape</td>\n",
       "    </tr>\n",
       "    <tr>\n",
       "      <th>1</th>\n",
       "      <td>i am ! for my hobby i like to do canning or so...</td>\n",
       "      <td>1</td>\n",
       "      <td>0.6505</td>\n",
       "      <td>neutral</td>\n",
       "      <td>0.8413</td>\n",
       "      <td>[hobby, like, canning, whittling]</td>\n",
       "      <td>i am for my hobby i like to do canning or some...</td>\n",
       "      <td>13</td>\n",
       "      <td>hobby like canning whittling</td>\n",
       "    </tr>\n",
       "    <tr>\n",
       "      <th>2</th>\n",
       "      <td>that's neat . when i was in high school i plac...</td>\n",
       "      <td>1</td>\n",
       "      <td>0.8615</td>\n",
       "      <td>female</td>\n",
       "      <td>0.5290</td>\n",
       "      <td>[thats, neat, high, school, placed, 6th, 100m,...</td>\n",
       "      <td>thats neat when i was in high school i placed ...</td>\n",
       "      <td>14</td>\n",
       "      <td>thats neat high school placed 6th 100m dash</td>\n",
       "    </tr>\n",
       "    <tr>\n",
       "      <th>3</th>\n",
       "      <td>i do not . but i do have a favorite meat since...</td>\n",
       "      <td>0</td>\n",
       "      <td>0.6487</td>\n",
       "      <td>neutral</td>\n",
       "      <td>0.5111</td>\n",
       "      <td>[favorite, meat, eat, exclusively]</td>\n",
       "      <td>i do not but i do have a favorite meat since t...</td>\n",
       "      <td>17</td>\n",
       "      <td>favorite meat eat exclusively</td>\n",
       "    </tr>\n",
       "    <tr>\n",
       "      <th>4</th>\n",
       "      <td>i would have to say its prime rib . do you hav...</td>\n",
       "      <td>0</td>\n",
       "      <td>0.5697</td>\n",
       "      <td>neutral</td>\n",
       "      <td>0.5346</td>\n",
       "      <td>[prime, rib, favorite, foods]</td>\n",
       "      <td>i would have to say its prime rib do you have ...</td>\n",
       "      <td>14</td>\n",
       "      <td>prime rib favorite foods</td>\n",
       "    </tr>\n",
       "  </tbody>\n",
       "</table>\n",
       "</div>"
      ],
      "text/plain": [
       "                                                text  ...                         clean_text_words2ignore\n",
       "0  hi , how are you doing ? i'm getting ready to ...  ...  hi im getting ready cheetah chasing stay shape\n",
       "1  i am ! for my hobby i like to do canning or so...  ...                    hobby like canning whittling\n",
       "2  that's neat . when i was in high school i plac...  ...     thats neat high school placed 6th 100m dash\n",
       "3  i do not . but i do have a favorite meat since...  ...                   favorite meat eat exclusively\n",
       "4  i would have to say its prime rib . do you hav...  ...                        prime rib favorite foods\n",
       "\n",
       "[5 rows x 9 columns]"
      ]
     },
     "execution_count": 23,
     "metadata": {
      "tags": []
     },
     "output_type": "execute_result"
    }
   ],
   "source": [
    "df_convai2.update(df_convai2.loc[:, 'ternary_label'].replace({k: v for k, v in enumerate(ternary_labels)}))\n",
    "\n",
    "df_convai2.head()"
   ]
  },
  {
   "cell_type": "code",
   "execution_count": null,
   "metadata": {
    "colab": {
     "base_uri": "https://localhost:8080/",
     "height": 734
    },
    "executionInfo": {
     "elapsed": 31,
     "status": "ok",
     "timestamp": 1629041059973,
     "user": {
      "displayName": "Bárbara Neves",
      "photoUrl": "https://lh3.googleusercontent.com/a-/AOh14GjAp_nU12lRGDLonAU6k8sURhdo84aDrahKT5_BTA=s64",
      "userId": "02067111595078707861"
     },
     "user_tz": 180
    },
    "id": "fmhwUQNeK2sf",
    "outputId": "b5d1a135-e818-40f3-a548-2404f789d5c3"
   },
   "outputs": [
    {
     "data": {
      "text/html": [
       "<div>\n",
       "<style scoped>\n",
       "    .dataframe tbody tr th:only-of-type {\n",
       "        vertical-align: middle;\n",
       "    }\n",
       "\n",
       "    .dataframe tbody tr th {\n",
       "        vertical-align: top;\n",
       "    }\n",
       "\n",
       "    .dataframe thead th {\n",
       "        text-align: right;\n",
       "    }\n",
       "</style>\n",
       "<table border=\"1\" class=\"dataframe\">\n",
       "  <thead>\n",
       "    <tr style=\"text-align: right;\">\n",
       "      <th></th>\n",
       "      <th>text</th>\n",
       "      <th>binary_label</th>\n",
       "      <th>binary_score</th>\n",
       "      <th>ternary_label</th>\n",
       "      <th>ternary_score</th>\n",
       "      <th>text_tokens</th>\n",
       "      <th>clean_text</th>\n",
       "      <th>text_tokens_count</th>\n",
       "      <th>clean_text_words2ignore</th>\n",
       "      <th>labels_enc</th>\n",
       "      <th>label_pos_0</th>\n",
       "      <th>label_pos_1</th>\n",
       "      <th>label_pos_2</th>\n",
       "    </tr>\n",
       "  </thead>\n",
       "  <tbody>\n",
       "    <tr>\n",
       "      <th>0</th>\n",
       "      <td>hi , how are you doing ? i'm getting ready to ...</td>\n",
       "      <td>1</td>\n",
       "      <td>0.6522</td>\n",
       "      <td>neutral</td>\n",
       "      <td>0.4496</td>\n",
       "      <td>[hi, im, getting, ready, cheetah, chasing, sta...</td>\n",
       "      <td>hi how are you doing im getting ready to do so...</td>\n",
       "      <td>17</td>\n",
       "      <td>hi im getting ready cheetah chasing stay shape</td>\n",
       "      <td>2</td>\n",
       "      <td>0.0</td>\n",
       "      <td>0.0</td>\n",
       "      <td>1.0</td>\n",
       "    </tr>\n",
       "    <tr>\n",
       "      <th>1</th>\n",
       "      <td>i am ! for my hobby i like to do canning or so...</td>\n",
       "      <td>1</td>\n",
       "      <td>0.6505</td>\n",
       "      <td>neutral</td>\n",
       "      <td>0.8413</td>\n",
       "      <td>[hobby, like, canning, whittling]</td>\n",
       "      <td>i am for my hobby i like to do canning or some...</td>\n",
       "      <td>13</td>\n",
       "      <td>hobby like canning whittling</td>\n",
       "      <td>2</td>\n",
       "      <td>0.0</td>\n",
       "      <td>0.0</td>\n",
       "      <td>1.0</td>\n",
       "    </tr>\n",
       "    <tr>\n",
       "      <th>2</th>\n",
       "      <td>that's neat . when i was in high school i plac...</td>\n",
       "      <td>1</td>\n",
       "      <td>0.8615</td>\n",
       "      <td>female</td>\n",
       "      <td>0.5290</td>\n",
       "      <td>[thats, neat, high, school, placed, 6th, 100m,...</td>\n",
       "      <td>thats neat when i was in high school i placed ...</td>\n",
       "      <td>14</td>\n",
       "      <td>thats neat high school placed 6th 100m dash</td>\n",
       "      <td>0</td>\n",
       "      <td>1.0</td>\n",
       "      <td>0.0</td>\n",
       "      <td>0.0</td>\n",
       "    </tr>\n",
       "    <tr>\n",
       "      <th>3</th>\n",
       "      <td>i do not . but i do have a favorite meat since...</td>\n",
       "      <td>0</td>\n",
       "      <td>0.6487</td>\n",
       "      <td>neutral</td>\n",
       "      <td>0.5111</td>\n",
       "      <td>[favorite, meat, eat, exclusively]</td>\n",
       "      <td>i do not but i do have a favorite meat since t...</td>\n",
       "      <td>17</td>\n",
       "      <td>favorite meat eat exclusively</td>\n",
       "      <td>2</td>\n",
       "      <td>0.0</td>\n",
       "      <td>0.0</td>\n",
       "      <td>1.0</td>\n",
       "    </tr>\n",
       "    <tr>\n",
       "      <th>4</th>\n",
       "      <td>i would have to say its prime rib . do you hav...</td>\n",
       "      <td>0</td>\n",
       "      <td>0.5697</td>\n",
       "      <td>neutral</td>\n",
       "      <td>0.5346</td>\n",
       "      <td>[prime, rib, favorite, foods]</td>\n",
       "      <td>i would have to say its prime rib do you have ...</td>\n",
       "      <td>14</td>\n",
       "      <td>prime rib favorite foods</td>\n",
       "      <td>2</td>\n",
       "      <td>0.0</td>\n",
       "      <td>0.0</td>\n",
       "      <td>1.0</td>\n",
       "    </tr>\n",
       "  </tbody>\n",
       "</table>\n",
       "</div>"
      ],
      "text/plain": [
       "                                                text  ...  label_pos_2\n",
       "0  hi , how are you doing ? i'm getting ready to ...  ...          1.0\n",
       "1  i am ! for my hobby i like to do canning or so...  ...          1.0\n",
       "2  that's neat . when i was in high school i plac...  ...          0.0\n",
       "3  i do not . but i do have a favorite meat since...  ...          1.0\n",
       "4  i would have to say its prime rib . do you hav...  ...          1.0\n",
       "\n",
       "[5 rows x 13 columns]"
      ]
     },
     "execution_count": 24,
     "metadata": {
      "tags": []
     },
     "output_type": "execute_result"
    }
   ],
   "source": [
    "df_convai2['labels_enc'] = df_convai2['ternary_label'].astype('category').cat.codes.astype(int) \n",
    "df_convai2_enc_labels = pd.DataFrame(enc.fit_transform(df_convai2[['ternary_label']])) \n",
    "\n",
    "df_convai2 = pd.concat([df_convai2.reset_index(drop=True), df_convai2_enc_labels.reset_index(drop=True)], axis=1)\n",
    "df_convai2.rename(columns={\n",
    "    0: 'label_pos_0', # Female\n",
    "    1: 'label_pos_1', # Male\n",
    "    2: 'label_pos_2' # Neutral\n",
    "}, inplace=True)\n",
    "\n",
    "df_convai2.head()"
   ]
  },
  {
   "cell_type": "code",
   "execution_count": null,
   "metadata": {
    "id": "bXXdYKacL-JF"
   },
   "outputs": [],
   "source": [
    "df_convai2.to_csv('/content/drive/MyDrive/Ciência de Dados/Projeto Final/Resources/Datasets/MDGender/md_gender_bias/convai2_inferred/new_data.csv', index=False)"
   ]
  },
  {
   "cell_type": "markdown",
   "metadata": {
    "id": "i5d86JN9LVOV"
   },
   "source": [
    "### LIGHT"
   ]
  },
  {
   "cell_type": "code",
   "execution_count": null,
   "metadata": {
    "colab": {
     "base_uri": "https://localhost:8080/",
     "height": 255
    },
    "executionInfo": {
     "elapsed": 34,
     "status": "ok",
     "timestamp": 1629041061602,
     "user": {
      "displayName": "Bárbara Neves",
      "photoUrl": "https://lh3.googleusercontent.com/a-/AOh14GjAp_nU12lRGDLonAU6k8sURhdo84aDrahKT5_BTA=s64",
      "userId": "02067111595078707861"
     },
     "user_tz": 180
    },
    "id": "vBhLG_RSLVOZ",
    "outputId": "21fe7ebb-7c37-4225-887f-58dbed5649a1"
   },
   "outputs": [
    {
     "data": {
      "text/html": [
       "<div>\n",
       "<style scoped>\n",
       "    .dataframe tbody tr th:only-of-type {\n",
       "        vertical-align: middle;\n",
       "    }\n",
       "\n",
       "    .dataframe tbody tr th {\n",
       "        vertical-align: top;\n",
       "    }\n",
       "\n",
       "    .dataframe thead th {\n",
       "        text-align: right;\n",
       "    }\n",
       "</style>\n",
       "<table border=\"1\" class=\"dataframe\">\n",
       "  <thead>\n",
       "    <tr style=\"text-align: right;\">\n",
       "      <th></th>\n",
       "      <th>text</th>\n",
       "      <th>binary_label</th>\n",
       "      <th>binary_score</th>\n",
       "      <th>ternary_label</th>\n",
       "      <th>ternary_score</th>\n",
       "      <th>text_tokens</th>\n",
       "      <th>clean_text</th>\n",
       "      <th>text_tokens_count</th>\n",
       "      <th>clean_text_words2ignore</th>\n",
       "    </tr>\n",
       "  </thead>\n",
       "  <tbody>\n",
       "    <tr>\n",
       "      <th>1</th>\n",
       "      <td>what brings you here, dear?</td>\n",
       "      <td>0</td>\n",
       "      <td>0.5897</td>\n",
       "      <td>male</td>\n",
       "      <td>0.4741</td>\n",
       "      <td>[brings, dear]</td>\n",
       "      <td>what brings you here dear</td>\n",
       "      <td>5</td>\n",
       "      <td>brings dear</td>\n",
       "    </tr>\n",
       "    <tr>\n",
       "      <th>2</th>\n",
       "      <td>oh goddess of the forest, we seek thy blessings!</td>\n",
       "      <td>0</td>\n",
       "      <td>0.7413</td>\n",
       "      <td>neutral</td>\n",
       "      <td>0.5145</td>\n",
       "      <td>[oh, goddess, forest, seek, thy, blessings]</td>\n",
       "      <td>oh goddess of the forest we seek thy blessings</td>\n",
       "      <td>9</td>\n",
       "      <td>oh goddess forest seek thy blessings</td>\n",
       "    </tr>\n",
       "    <tr>\n",
       "      <th>3</th>\n",
       "      <td>time to rest, we can leave the launching point...</td>\n",
       "      <td>1</td>\n",
       "      <td>0.6374</td>\n",
       "      <td>neutral</td>\n",
       "      <td>0.5910</td>\n",
       "      <td>[time, rest, leave, launching, point, tomorrow]</td>\n",
       "      <td>time to rest we can leave the launching point ...</td>\n",
       "      <td>10</td>\n",
       "      <td>time rest leave launching point tomorrow</td>\n",
       "    </tr>\n",
       "    <tr>\n",
       "      <th>4</th>\n",
       "      <td>-tweets a song-</td>\n",
       "      <td>0</td>\n",
       "      <td>0.5460</td>\n",
       "      <td>female</td>\n",
       "      <td>0.4366</td>\n",
       "      <td>[tweets, song]</td>\n",
       "      <td>tweets a song</td>\n",
       "      <td>3</td>\n",
       "      <td>tweets song</td>\n",
       "    </tr>\n",
       "    <tr>\n",
       "      <th>5</th>\n",
       "      <td>hello! what are you looking shopping for?</td>\n",
       "      <td>0</td>\n",
       "      <td>0.5989</td>\n",
       "      <td>male</td>\n",
       "      <td>0.4476</td>\n",
       "      <td>[hello, looking, shopping]</td>\n",
       "      <td>hello what are you looking shopping for</td>\n",
       "      <td>7</td>\n",
       "      <td>hello looking shopping</td>\n",
       "    </tr>\n",
       "  </tbody>\n",
       "</table>\n",
       "</div>"
      ],
      "text/plain": [
       "                                                text  ...                   clean_text_words2ignore\n",
       "1                        what brings you here, dear?  ...                               brings dear\n",
       "2   oh goddess of the forest, we seek thy blessings!  ...      oh goddess forest seek thy blessings\n",
       "3  time to rest, we can leave the launching point...  ...  time rest leave launching point tomorrow\n",
       "4                                    -tweets a song-  ...                               tweets song\n",
       "5         hello! what are you looking shopping for?   ...                    hello looking shopping\n",
       "\n",
       "[5 rows x 9 columns]"
      ]
     },
     "execution_count": 26,
     "metadata": {
      "tags": []
     },
     "output_type": "execute_result"
    }
   ],
   "source": [
    "df_light.update(df_light.loc[:, 'ternary_label'].replace({k: v for k, v in enumerate(ternary_labels)}))\n",
    "\n",
    "df_light.head()"
   ]
  },
  {
   "cell_type": "code",
   "execution_count": null,
   "metadata": {
    "colab": {
     "base_uri": "https://localhost:8080/",
     "height": 547
    },
    "executionInfo": {
     "elapsed": 31,
     "status": "ok",
     "timestamp": 1629041061605,
     "user": {
      "displayName": "Bárbara Neves",
      "photoUrl": "https://lh3.googleusercontent.com/a-/AOh14GjAp_nU12lRGDLonAU6k8sURhdo84aDrahKT5_BTA=s64",
      "userId": "02067111595078707861"
     },
     "user_tz": 180
    },
    "id": "UZ50rwVvLVOa",
    "outputId": "7ac042f1-f1c0-4e88-bfb0-05eb6c5c0883"
   },
   "outputs": [
    {
     "data": {
      "text/html": [
       "<div>\n",
       "<style scoped>\n",
       "    .dataframe tbody tr th:only-of-type {\n",
       "        vertical-align: middle;\n",
       "    }\n",
       "\n",
       "    .dataframe tbody tr th {\n",
       "        vertical-align: top;\n",
       "    }\n",
       "\n",
       "    .dataframe thead th {\n",
       "        text-align: right;\n",
       "    }\n",
       "</style>\n",
       "<table border=\"1\" class=\"dataframe\">\n",
       "  <thead>\n",
       "    <tr style=\"text-align: right;\">\n",
       "      <th></th>\n",
       "      <th>text</th>\n",
       "      <th>binary_label</th>\n",
       "      <th>binary_score</th>\n",
       "      <th>ternary_label</th>\n",
       "      <th>ternary_score</th>\n",
       "      <th>text_tokens</th>\n",
       "      <th>clean_text</th>\n",
       "      <th>text_tokens_count</th>\n",
       "      <th>clean_text_words2ignore</th>\n",
       "      <th>labels_enc</th>\n",
       "      <th>label_pos_0</th>\n",
       "      <th>label_pos_1</th>\n",
       "      <th>label_pos_2</th>\n",
       "    </tr>\n",
       "  </thead>\n",
       "  <tbody>\n",
       "    <tr>\n",
       "      <th>0</th>\n",
       "      <td>what brings you here, dear?</td>\n",
       "      <td>0</td>\n",
       "      <td>0.5897</td>\n",
       "      <td>male</td>\n",
       "      <td>0.4741</td>\n",
       "      <td>[brings, dear]</td>\n",
       "      <td>what brings you here dear</td>\n",
       "      <td>5</td>\n",
       "      <td>brings dear</td>\n",
       "      <td>1</td>\n",
       "      <td>0.0</td>\n",
       "      <td>1.0</td>\n",
       "      <td>0.0</td>\n",
       "    </tr>\n",
       "    <tr>\n",
       "      <th>1</th>\n",
       "      <td>oh goddess of the forest, we seek thy blessings!</td>\n",
       "      <td>0</td>\n",
       "      <td>0.7413</td>\n",
       "      <td>neutral</td>\n",
       "      <td>0.5145</td>\n",
       "      <td>[oh, goddess, forest, seek, thy, blessings]</td>\n",
       "      <td>oh goddess of the forest we seek thy blessings</td>\n",
       "      <td>9</td>\n",
       "      <td>oh goddess forest seek thy blessings</td>\n",
       "      <td>2</td>\n",
       "      <td>0.0</td>\n",
       "      <td>0.0</td>\n",
       "      <td>1.0</td>\n",
       "    </tr>\n",
       "    <tr>\n",
       "      <th>2</th>\n",
       "      <td>time to rest, we can leave the launching point...</td>\n",
       "      <td>1</td>\n",
       "      <td>0.6374</td>\n",
       "      <td>neutral</td>\n",
       "      <td>0.5910</td>\n",
       "      <td>[time, rest, leave, launching, point, tomorrow]</td>\n",
       "      <td>time to rest we can leave the launching point ...</td>\n",
       "      <td>10</td>\n",
       "      <td>time rest leave launching point tomorrow</td>\n",
       "      <td>2</td>\n",
       "      <td>0.0</td>\n",
       "      <td>0.0</td>\n",
       "      <td>1.0</td>\n",
       "    </tr>\n",
       "    <tr>\n",
       "      <th>3</th>\n",
       "      <td>-tweets a song-</td>\n",
       "      <td>0</td>\n",
       "      <td>0.5460</td>\n",
       "      <td>female</td>\n",
       "      <td>0.4366</td>\n",
       "      <td>[tweets, song]</td>\n",
       "      <td>tweets a song</td>\n",
       "      <td>3</td>\n",
       "      <td>tweets song</td>\n",
       "      <td>0</td>\n",
       "      <td>1.0</td>\n",
       "      <td>0.0</td>\n",
       "      <td>0.0</td>\n",
       "    </tr>\n",
       "    <tr>\n",
       "      <th>4</th>\n",
       "      <td>hello! what are you looking shopping for?</td>\n",
       "      <td>0</td>\n",
       "      <td>0.5989</td>\n",
       "      <td>male</td>\n",
       "      <td>0.4476</td>\n",
       "      <td>[hello, looking, shopping]</td>\n",
       "      <td>hello what are you looking shopping for</td>\n",
       "      <td>7</td>\n",
       "      <td>hello looking shopping</td>\n",
       "      <td>1</td>\n",
       "      <td>0.0</td>\n",
       "      <td>1.0</td>\n",
       "      <td>0.0</td>\n",
       "    </tr>\n",
       "  </tbody>\n",
       "</table>\n",
       "</div>"
      ],
      "text/plain": [
       "                                                text  ...  label_pos_2\n",
       "0                        what brings you here, dear?  ...          0.0\n",
       "1   oh goddess of the forest, we seek thy blessings!  ...          1.0\n",
       "2  time to rest, we can leave the launching point...  ...          1.0\n",
       "3                                    -tweets a song-  ...          0.0\n",
       "4         hello! what are you looking shopping for?   ...          0.0\n",
       "\n",
       "[5 rows x 13 columns]"
      ]
     },
     "execution_count": 27,
     "metadata": {
      "tags": []
     },
     "output_type": "execute_result"
    }
   ],
   "source": [
    "df_light['labels_enc'] = df_light['ternary_label'].astype('category').cat.codes.astype(int) \n",
    "df_light_enc_labels = pd.DataFrame(enc.fit_transform(df_light[['ternary_label']])) \n",
    "\n",
    "df_light = pd.concat([df_light.reset_index(drop=True), df_light_enc_labels.reset_index(drop=True)], axis=1)\n",
    "df_light.rename(columns={\n",
    "    0: 'label_pos_0', # Female\n",
    "    1: 'label_pos_1', # Male\n",
    "    2: 'label_pos_2' # Neutral\n",
    "}, inplace=True)\n",
    "\n",
    "df_light.head()"
   ]
  },
  {
   "cell_type": "code",
   "execution_count": null,
   "metadata": {
    "id": "6_BamHalMDYe"
   },
   "outputs": [],
   "source": [
    "df_light.to_csv(BASE_PATH + '/resources/datasets/MDGender/md_gender_bias/light_inferred/new_data.csv', index=False)"
   ]
  },
  {
   "cell_type": "markdown",
   "metadata": {
    "id": "17_G6XOfo9-k"
   },
   "source": [
    "# Observações \n",
    "\n",
    "*Só isso de pré-processamento? E a representação textual? Fica assim mesmo?*\n",
    "\n",
    "Paciência, gafanhoto. Quem espera sempre alcança! \n",
    "\n",
    "Os textos ainda precisam passar por algumas mudanças para serem usados como entrada para os modelos. Este passo será feito na etapa de treinamento ;)"
   ]
  },
  {
   "cell_type": "markdown",
   "metadata": {
    "id": "J-WrTC1o3ywB"
   },
   "source": [
    "# Referência\n",
    "\n",
    "[[1](https://machinelearningmastery.com/why-one-hot-encode-data-in-machine-learning/)] Why One-Hot Encode Data in Machine Learning?. 2020. Machine Learning Mastery. Jason Brownlee.\n",
    " "
   ]
  }
 ],
 "metadata": {
  "accelerator": "TPU",
  "colab": {
   "collapsed_sections": [],
   "name": "2 - Gender Data Preprocessing.ipynb",
   "provenance": []
  },
  "kernelspec": {
   "display_name": "Python 3",
   "language": "python",
   "name": "python3"
  },
  "language_info": {
   "codemirror_mode": {
    "name": "ipython",
    "version": 3
   },
   "file_extension": ".py",
   "mimetype": "text/x-python",
   "name": "python",
   "nbconvert_exporter": "python",
   "pygments_lexer": "ipython3",
   "version": "3.8.10"
  }
 },
 "nbformat": 4,
 "nbformat_minor": 1
}
